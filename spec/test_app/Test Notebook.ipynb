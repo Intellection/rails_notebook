{
 "cells": [
  {
   "cell_type": "code",
   "execution_count": 1,
   "metadata": {
    "collapsed": false
   },
   "outputs": [
    {
     "name": "stdout",
     "output_type": "stream",
     "text": [
      "Infinity\n",
      "3\n"
     ]
    },
    {
     "data": {
      "text/plain": [
       "\"i love espresso\""
      ]
     },
     "execution_count": 1,
     "metadata": {},
     "output_type": "execute_result"
    }
   ],
   "source": [
    "puts 1/0.0\n",
    "puts 3\n",
    "\"I love espresso\".downcase"
   ]
  },
  {
   "cell_type": "code",
   "execution_count": 2,
   "metadata": {
    "collapsed": false
   },
   "outputs": [
    {
     "data": {
      "text/plain": [
       "[\"one\", \"two\", \"three\"]"
      ]
     },
     "execution_count": 2,
     "metadata": {},
     "output_type": "execute_result"
    }
   ],
   "source": [
    "my_third_array = [\"one\", \"two\", \"three\"]"
   ]
  },
  {
   "cell_type": "code",
   "execution_count": 3,
   "metadata": {
    "collapsed": false
   },
   "outputs": [
    {
     "data": {
      "text/plain": [
       "{\"hash?\"=>\"yep, it's a hash!\", \"the answer to everything\"=>42, :linux=>\"fun for coders.\"}"
      ]
     },
     "execution_count": 3,
     "metadata": {},
     "output_type": "execute_result"
    }
   ],
   "source": [
    "h = {\"hash?\" => \"yep, it\\'s a hash!\", \"the answer to everything\" => 42, :linux => \"fun for coders.\"}"
   ]
  },
  {
   "cell_type": "code",
   "execution_count": 4,
   "metadata": {
    "collapsed": false
   },
   "outputs": [
    {
     "data": {
      "text/plain": [
       "#<Customer:0x007fc74d005548 @cust_id=\"2\", @cust_name=\"Poul\", @cust_addr=\"New Empire road, Khandala\">"
      ]
     },
     "execution_count": 4,
     "metadata": {},
     "output_type": "execute_result"
    }
   ],
   "source": [
    "class Customer\n",
    "   @@no_of_customers=0\n",
    "   def initialize(id, name, addr)\n",
    "      @cust_id=id\n",
    "      @cust_name=name\n",
    "      @cust_addr=addr\n",
    "   end\n",
    "end\n",
    "\n",
    "cust1=Customer.new(\"1\", \"John\", \"Wisdom Apartments, Ludhiya\")\n",
    "cust2=Customer.new(\"2\", \"Poul\", \"New Empire road, Khandala\")"
   ]
  },
  {
   "cell_type": "code",
   "execution_count": null,
   "metadata": {
    "collapsed": false
   },
   "outputs": [],
   "source": []
  },
  {
   "cell_type": "code",
   "execution_count": null,
   "metadata": {
    "collapsed": true
   },
   "outputs": [],
   "source": []
  },
  {
   "cell_type": "code",
   "execution_count": null,
   "metadata": {
    "collapsed": true
   },
   "outputs": [],
   "source": []
  }
 ],
 "metadata": {
  "kernelspec": {
   "display_name": "Ruby 2.2.1",
   "language": "ruby",
   "name": "ruby"
  },
  "language_info": {
   "file_extension": ".rb",
   "mimetype": "application/x-ruby",
   "name": "ruby",
   "version": "2.2.1"
  }
 },
 "nbformat": 4,
 "nbformat_minor": 0
}
