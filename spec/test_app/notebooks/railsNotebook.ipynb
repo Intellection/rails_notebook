{
 "cells": [
  {
   "cell_type": "code",
   "execution_count": 1,
   "metadata": {
    "collapsed": false
   },
   "outputs": [
    {
     "data": {
      "text/html": [
       "            <div id=\"hash-70303960990440\"></div>\n",
       "            <script>\n",
       "                require([\"jquery\", \"/kernelspecs/rails_notebook/jquery.jsonview.js\"], function($, jsonview) {\n",
       "                    $(\"#hash-70303960990440\").JSONView( {\"two\":2,\"three\":3,\"five\":\"five\"} );\n",
       "                });\n",
       "            </script>\n"
      ],
      "text/plain": [
       "{\"two\"=>2, \"three\"=>3, \"five\"=>\"five\"}"
      ]
     },
     "execution_count": 1,
     "metadata": {},
     "output_type": "execute_result"
    }
   ],
   "source": [
    "# Printing a hash\n",
    "hash = { \"two\" => 2 , \"three\" => 3 , \"five\" => \"five\" }"
   ]
  },
  {
   "cell_type": "code",
   "execution_count": 2,
   "metadata": {
    "collapsed": false
   },
   "outputs": [
    {
     "data": {
      "text/plain": [
       "[2, 3, 4, 5, 6, nil]"
      ]
     },
     "execution_count": 2,
     "metadata": {},
     "output_type": "execute_result"
    }
   ],
   "source": [
    "# Printing an array\n",
    "array = [ 2, 3, 4, 5, 6 , nil ]"
   ]
  },
  {
   "cell_type": "code",
   "execution_count": 3,
   "metadata": {
    "collapsed": false
   },
   "outputs": [
    {
     "data": {
      "text/html": [
       "            <div id=\"hash-70303952231660\"></div>\n",
       "            <script>\n",
       "                require([\"jquery\", \"/kernelspecs/rails_notebook/jquery.jsonview.js\"], function($, jsonview) {\n",
       "                    $(\"#hash-70303952231660\").JSONView( {\"cust_id\":\"2\",\"cust_name\":\"Poul\",\"cust_addr\":\"New Empire road, Khandala\"} );\n",
       "                });\n",
       "            </script>\n"
      ],
      "text/plain": [
       "#<Customer:0x007fe1d432b9d8 @cust_id=\"2\", @cust_name=\"Poul\", @cust_addr=\"New Empire road, Khandala\">"
      ]
     },
     "execution_count": 3,
     "metadata": {},
     "output_type": "execute_result"
    }
   ],
   "source": [
    "class Customer\n",
    "   @@no_of_customers=0\n",
    "   def initialize(id, name, addr)\n",
    "      @cust_id=id\n",
    "      @cust_name=name\n",
    "      @cust_addr=addr\n",
    "   end\n",
    "end\n",
    "\n",
    "cust1=Customer.new(\"1\", \"John\", \"Wisdom Apartments, Ludhiya\")\n",
    "cust2=Customer.new(\"2\", \"Poul\", \"New Empire road, Khandala\")"
   ]
  },
  {
   "cell_type": "code",
   "execution_count": 1,
   "metadata": {
    "collapsed": false
   },
   "outputs": [
    {
     "ename": "NoMethodError",
     "evalue": "undefined method `route' for #<ActionDispatch::Routing::RouteSet:0x007fb3b9ab4310>",
     "output_type": "error",
     "traceback": [
      "\u001b[31mNoMethodError\u001b[0m: undefined method `route' for #<ActionDispatch::Routing::RouteSet:0x007fb3b9ab4310>",
      "\u001b[37m/Users/nickhoernle/Work/rails_notebook/lib/rails_notebook/renderers.rb:29:in `routes_view'\u001b[0m",
      "\u001b[37m/Users/nickhoernle/Work/rails_notebook/lib/rails_notebook/renderers.rb:78:in `block in <module:RailsNotebook>'\u001b[0m",
      "\u001b[37m/Users/nickhoernle/.rvm/gems/ruby-2.2.1/gems/iruby-0.2.8/lib/iruby/display.rb:101:in `call'\u001b[0m",
      "\u001b[37m/Users/nickhoernle/.rvm/gems/ruby-2.2.1/gems/iruby-0.2.8/lib/iruby/display.rb:101:in `render'\u001b[0m",
      "\u001b[37m/Users/nickhoernle/.rvm/gems/ruby-2.2.1/gems/iruby-0.2.8/lib/iruby/display.rb:57:in `block in render'\u001b[0m",
      "\u001b[37m/Users/nickhoernle/.rvm/gems/ruby-2.2.1/gems/iruby-0.2.8/lib/iruby/display.rb:56:in `each'\u001b[0m",
      "\u001b[37m/Users/nickhoernle/.rvm/gems/ruby-2.2.1/gems/iruby-0.2.8/lib/iruby/display.rb:56:in `render'\u001b[0m",
      "\u001b[37m/Users/nickhoernle/.rvm/gems/ruby-2.2.1/gems/iruby-0.2.8/lib/iruby/display.rb:23:in `display'\u001b[0m",
      "\u001b[37m/Users/nickhoernle/.rvm/gems/ruby-2.2.1/gems/iruby-0.2.8/lib/iruby/kernel.rb:96:in `execute_request'\u001b[0m",
      "\u001b[37m/Users/nickhoernle/.rvm/gems/ruby-2.2.1/gems/iruby-0.2.8/lib/iruby/kernel.rb:47:in `dispatch'\u001b[0m",
      "\u001b[37m/Users/nickhoernle/.rvm/gems/ruby-2.2.1/gems/iruby-0.2.8/lib/iruby/kernel.rb:37:in `run'\u001b[0m",
      "\u001b[37m/Users/nickhoernle/Work/rails_notebook/lib/rails_notebook/command.rb:22:in `run_kernel'\u001b[0m",
      "\u001b[37m/Users/nickhoernle/Work/rails_notebook/lib/tasks/rails_notebook_tasks.rake:7:in `block in <top (required)>'\u001b[0m",
      "\u001b[37m/Users/nickhoernle/.rvm/rubies/ruby-2.2.1/lib/ruby/2.2.0/rake/task.rb:240:in `call'\u001b[0m",
      "\u001b[37m/Users/nickhoernle/.rvm/rubies/ruby-2.2.1/lib/ruby/2.2.0/rake/task.rb:240:in `block in execute'\u001b[0m",
      "\u001b[37m/Users/nickhoernle/.rvm/rubies/ruby-2.2.1/lib/ruby/2.2.0/rake/task.rb:235:in `each'\u001b[0m",
      "\u001b[37m/Users/nickhoernle/.rvm/rubies/ruby-2.2.1/lib/ruby/2.2.0/rake/task.rb:235:in `execute'\u001b[0m",
      "\u001b[37m/Users/nickhoernle/.rvm/rubies/ruby-2.2.1/lib/ruby/2.2.0/rake/task.rb:179:in `block in invoke_with_call_chain'\u001b[0m",
      "\u001b[37m/Users/nickhoernle/.rvm/rubies/ruby-2.2.1/lib/ruby/2.2.0/monitor.rb:211:in `mon_synchronize'\u001b[0m",
      "\u001b[37m/Users/nickhoernle/.rvm/rubies/ruby-2.2.1/lib/ruby/2.2.0/rake/task.rb:172:in `invoke_with_call_chain'\u001b[0m",
      "\u001b[37m/Users/nickhoernle/.rvm/rubies/ruby-2.2.1/lib/ruby/2.2.0/rake/task.rb:165:in `invoke'\u001b[0m",
      "\u001b[37m/Users/nickhoernle/.rvm/rubies/ruby-2.2.1/lib/ruby/2.2.0/rake/application.rb:150:in `invoke_task'\u001b[0m",
      "\u001b[37m/Users/nickhoernle/.rvm/rubies/ruby-2.2.1/lib/ruby/2.2.0/rake/application.rb:106:in `block (2 levels) in top_level'\u001b[0m",
      "\u001b[37m/Users/nickhoernle/.rvm/rubies/ruby-2.2.1/lib/ruby/2.2.0/rake/application.rb:106:in `each'\u001b[0m",
      "\u001b[37m/Users/nickhoernle/.rvm/rubies/ruby-2.2.1/lib/ruby/2.2.0/rake/application.rb:106:in `block in top_level'\u001b[0m",
      "\u001b[37m/Users/nickhoernle/.rvm/rubies/ruby-2.2.1/lib/ruby/2.2.0/rake/application.rb:115:in `run_with_threads'\u001b[0m",
      "\u001b[37m/Users/nickhoernle/.rvm/rubies/ruby-2.2.1/lib/ruby/2.2.0/rake/application.rb:100:in `top_level'\u001b[0m",
      "\u001b[37m/Users/nickhoernle/.rvm/rubies/ruby-2.2.1/lib/ruby/2.2.0/rake/application.rb:78:in `block in run'\u001b[0m",
      "\u001b[37m/Users/nickhoernle/.rvm/rubies/ruby-2.2.1/lib/ruby/2.2.0/rake/application.rb:176:in `standard_exception_handling'\u001b[0m",
      "\u001b[37m/Users/nickhoernle/.rvm/rubies/ruby-2.2.1/lib/ruby/2.2.0/rake/application.rb:75:in `run'\u001b[0m",
      "\u001b[37m/Users/nickhoernle/.rvm/rubies/ruby-2.2.1/bin/rake:33:in `<main>'\u001b[0m"
     ]
    }
   ],
   "source": [
    "Rails.application.routes"
   ]
  }
 ],
 "metadata": {
  "kernelspec": {
   "display_name": "Rails TestApp::Application",
   "language": "ruby",
   "name": "rails_notebook"
  },
  "language_info": {
   "file_extension": ".rb",
   "mimetype": "application/x-ruby",
   "name": "ruby",
   "version": "2.2.1"
  }
 },
 "nbformat": 4,
 "nbformat_minor": 0
}
