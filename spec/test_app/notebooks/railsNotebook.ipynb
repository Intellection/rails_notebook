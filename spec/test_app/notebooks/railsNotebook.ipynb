{
 "cells": [
  {
   "cell_type": "code",
   "execution_count": 8,
   "metadata": {
    "collapsed": false
   },
   "outputs": [
    {
     "data": {
      "text/html": [
       "            <div id=\"railsnb-70348048175740\"></div>\n",
       "            <script>\n",
       "            require([\"/kernelspecs/rails_notebook/rails_notebook.js\"] , function ( railsNB ) {\n",
       "                railsNB.renderFlamechart( {\"data\":[{\"x\":1,\"y\":1,\"width\":1418,\"frame\":\"/Users/nickhoernle/.rvm/rubies/ruby-2.2.1/bin/rake::in `\\u003cmain\\u003e'\"},{\"x\":1,\"y\":2,\"width\":1418,\"frame\":\"/Users/nickhoernle/.rvm/rubies/ruby-2.2.1/bin/rake::in `\\u003cmain\\u003e'\"},{\"x\":1,\"y\":3,\"width\":1418,\"frame\":\"/Users/nickhoernle/.rvm/rubies/ruby-2.2.1/lib/ruby/2.2.0/monitor.rb:208:in `MonitorMixin#mon_synchronize'\"},{\"x\":1,\"y\":4,\"width\":1418,\"frame\":\"/Users/nickhoernle/Work/rails_notebook/lib/tasks/rails_notebook_tasks.rake:6:in `block in \\u003ctop (required)\\u003e'\"},{\"x\":1,\"y\":5,\"width\":1418,\"frame\":\"/Users/nickhoernle/Work/rails_notebook/lib/rails_notebook/command.rb:15:in `RailsNotebook::Command#run_kernel'\"},{\"x\":1,\"y\":6,\"width\":1418,\"frame\":\"/Users/nickhoernle/.rvm/gems/ruby-2.2.1/gems/iruby-0.2.8/lib/iruby/backend.rb:6:in `IRuby::History#eval'\"},{\"x\":1,\"y\":7,\"width\":1418,\"frame\":\"/Users/nickhoernle/.rvm/gems/ruby-2.2.1/gems/iruby-0.2.8/lib/iruby/backend.rb:43:in `IRuby::PlainBackend#eval'\"},{\"x\":1,\"y\":8,\"width\":1418,\"frame\":\"/Users/nickhoernle/.rvm/gems/ruby-2.2.1/gems/iruby-0.2.8/lib/iruby/backend.rb::in `\\u003cmain\\u003e'\"},{\"x\":1,\"y\":9,\"width\":1418,\"frame\":\"/Users/nickhoernle/.rvm/gems/ruby-2.2.1/gems/iruby-0.2.8/lib/iruby/backend.rb:25:in `block in \\u003cmain\\u003e'\"},{\"x\":1,\"y\":10,\"width\":1418,\"frame\":\"/Users/nickhoernle/.rvm/gems/ruby-2.2.1/gems/iruby-0.2.8/lib/iruby/backend.rb:14:in `Object#both'\"},{\"x\":1,\"y\":11,\"width\":408,\"frame\":\"/Users/nickhoernle/.rvm/gems/ruby-2.2.1/gems/activesupport-4.2.5/lib/active_support/core_ext/range/each.rb:5:in `Range#each_with_time_with_zone'\"},{\"x\":1,\"y\":12,\"width\":408,\"frame\":\"/Users/nickhoernle/.rvm/gems/ruby-2.2.1/gems/iruby-0.2.8/lib/iruby/backend.rb:15:in `block in Object#both'\"},{\"x\":409,\"y\":11,\"width\":114,\"frame\":\"/Users/nickhoernle/.rvm/gems/ruby-2.2.1/gems/iruby-0.2.8/lib/iruby/backend.rb::in `Object#fast_method'\"},{\"x\":409,\"y\":12,\"width\":114,\"frame\":\"/Users/nickhoernle/.rvm/gems/ruby-2.2.1/gems/activesupport-4.2.5/lib/active_support/core_ext/range/each.rb:5:in `Range#each_with_time_with_zone'\"},{\"x\":409,\"y\":13,\"width\":114,\"frame\":\"/Users/nickhoernle/.rvm/gems/ruby-2.2.1/gems/iruby-0.2.8/lib/iruby/backend.rb:1:in `block in Object#fast_method'\"},{\"x\":523,\"y\":11,\"width\":575,\"frame\":\"/Users/nickhoernle/.rvm/gems/ruby-2.2.1/gems/iruby-0.2.8/lib/iruby/backend.rb:6:in `Object#slow_method'\"},{\"x\":523,\"y\":12,\"width\":112,\"frame\":\"/Users/nickhoernle/.rvm/gems/ruby-2.2.1/gems/iruby-0.2.8/lib/iruby/backend.rb::in `Object#fast_method'\"},{\"x\":523,\"y\":13,\"width\":112,\"frame\":\"/Users/nickhoernle/.rvm/gems/ruby-2.2.1/gems/activesupport-4.2.5/lib/active_support/core_ext/range/each.rb:5:in `Range#each_with_time_with_zone'\"},{\"x\":523,\"y\":14,\"width\":112,\"frame\":\"/Users/nickhoernle/.rvm/gems/ruby-2.2.1/gems/iruby-0.2.8/lib/iruby/backend.rb:1:in `block in Object#fast_method'\"},{\"x\":635,\"y\":12,\"width\":349,\"frame\":\"/Users/nickhoernle/.rvm/gems/ruby-2.2.1/gems/activesupport-4.2.5/lib/active_support/core_ext/range/each.rb:5:in `Range#each_with_time_with_zone'\"},{\"x\":635,\"y\":13,\"width\":349,\"frame\":\"/Users/nickhoernle/.rvm/gems/ruby-2.2.1/gems/iruby-0.2.8/lib/iruby/backend.rb:8:in `block in Object#slow_method'\"},{\"x\":984,\"y\":12,\"width\":114,\"frame\":\"/Users/nickhoernle/.rvm/gems/ruby-2.2.1/gems/iruby-0.2.8/lib/iruby/backend.rb::in `Object#fast_method'\"},{\"x\":984,\"y\":13,\"width\":114,\"frame\":\"/Users/nickhoernle/.rvm/gems/ruby-2.2.1/gems/activesupport-4.2.5/lib/active_support/core_ext/range/each.rb:5:in `Range#each_with_time_with_zone'\"},{\"x\":984,\"y\":14,\"width\":114,\"frame\":\"/Users/nickhoernle/.rvm/gems/ruby-2.2.1/gems/iruby-0.2.8/lib/iruby/backend.rb:1:in `block in Object#fast_method'\"},{\"x\":1098,\"y\":11,\"width\":321,\"frame\":\"/Users/nickhoernle/.rvm/gems/ruby-2.2.1/gems/activesupport-4.2.5/lib/active_support/core_ext/range/each.rb:5:in `Range#each_with_time_with_zone'\"},{\"x\":1098,\"y\":12,\"width\":321,\"frame\":\"/Users/nickhoernle/.rvm/gems/ruby-2.2.1/gems/iruby-0.2.8/lib/iruby/backend.rb:20:in `block in Object#both'\"}],\"sampleTime\":0.05} , document.getElementById( \"railsnb-70348048175740\" ) );\n",
       "            }); \n",
       "            </script>\n"
      ],
      "text/plain": [
       "#<Profiler::Profile:0x007ff65cd824f8 @data=[{:x=>1, :y=>1, :width=>1418, :frame=>\"/Users/nickhoernle/.rvm/rubies/ruby-2.2.1/bin/rake::in `<main>'\"}, {:x=>1, :y=>2, :width=>1418, :frame=>\"/Users/nickhoernle/.rvm/rubies/ruby-2.2.1/bin/rake::in `<main>'\"}, {:x=>1, :y=>3, :width=>1418, :frame=>\"/Users/nickhoernle/.rvm/rubies/ruby-2.2.1/lib/ruby/2.2.0/monitor.rb:208:in `MonitorMixin#mon_synchronize'\"}, {:x=>1, :y=>4, :width=>1418, :frame=>\"/Users/nickhoernle/Work/rails_notebook/lib/tasks/rails_notebook_tasks.rake:6:in `block in <top (required)>'\"}, {:x=>1, :y=>5, :width=>1418, :frame=>\"/Users/nickhoernle/Work/rails_notebook/lib/rails_notebook/command.rb:15:in `RailsNotebook::Command#run_kernel'\"}, {:x=>1, :y=>6, :width=>1418, :frame=>\"/Users/nickhoernle/.rvm/gems/ruby-2.2.1/gems/iruby-0.2.8/lib/iruby/backend.rb:6:in `IRuby::History#eval'\"}, {:x=>1, :y=>7, :width=>1418, :frame=>\"/Users/nickhoernle/.rvm/gems/ruby-2.2.1/gems/iruby-0.2.8/lib/iruby/backend.rb:43:in `IRuby::PlainBackend#eval'\"}, {:x=>1, :y=>8, :width=>1418, :frame=>\"/Users/nickhoernle/.rvm/gems/ruby-2.2.1/gems/iruby-0.2.8/lib/iruby/backend.rb::in `<main>'\"}, {:x=>1, :y=>9, :width=>1418, :frame=>\"/Users/nickhoernle/.rvm/gems/ruby-2.2.1/gems/iruby-0.2.8/lib/iruby/backend.rb:25:in `block in <main>'\"}, {:x=>1, :y=>10, :width=>1418, :frame=>\"/Users/nickhoernle/.rvm/gems/ruby-2.2.1/gems/iruby-0.2.8/lib/iruby/backend.rb:14:in `Object#both'\"}, {:x=>1, :y=>11, :width=>408, :frame=>\"/Users/nickhoernle/.rvm/gems/ruby-2.2.1/gems/activesupport-4.2.5/lib/active_support/core_ext/range/each.rb:5:in `Range#each_with_time_with_zone'\"}, {:x=>1, :y=>12, :width=>408, :frame=>\"/Users/nickhoernle/.rvm/gems/ruby-2.2.1/gems/iruby-0.2.8/lib/iruby/backend.rb:15:in `block in Object#both'\"}, {:x=>409, :y=>11, :width=>114, :frame=>\"/Users/nickhoernle/.rvm/gems/ruby-2.2.1/gems/iruby-0.2.8/lib/iruby/backend.rb::in `Object#fast_method'\"}, {:x=>409, :y=>12, :width=>114, :frame=>\"/Users/nickhoernle/.rvm/gems/ruby-2.2.1/gems/activesupport-4.2.5/lib/active_support/core_ext/range/each.rb:5:in `Range#each_with_time_with_zone'\"}, {:x=>409, :y=>13, :width=>114, :frame=>\"/Users/nickhoernle/.rvm/gems/ruby-2.2.1/gems/iruby-0.2.8/lib/iruby/backend.rb:1:in `block in Object#fast_method'\"}, {:x=>523, :y=>11, :width=>575, :frame=>\"/Users/nickhoernle/.rvm/gems/ruby-2.2.1/gems/iruby-0.2.8/lib/iruby/backend.rb:6:in `Object#slow_method'\"}, {:x=>523, :y=>12, :width=>112, :frame=>\"/Users/nickhoernle/.rvm/gems/ruby-2.2.1/gems/iruby-0.2.8/lib/iruby/backend.rb::in `Object#fast_method'\"}, {:x=>523, :y=>13, :width=>112, :frame=>\"/Users/nickhoernle/.rvm/gems/ruby-2.2.1/gems/activesupport-4.2.5/lib/active_support/core_ext/range/each.rb:5:in `Range#each_with_time_with_zone'\"}, {:x=>523, :y=>14, :width=>112, :frame=>\"/Users/nickhoernle/.rvm/gems/ruby-2.2.1/gems/iruby-0.2.8/lib/iruby/backend.rb:1:in `block in Object#fast_method'\"}, {:x=>635, :y=>12, :width=>349, :frame=>\"/Users/nickhoernle/.rvm/gems/ruby-2.2.1/gems/activesupport-4.2.5/lib/active_support/core_ext/range/each.rb:5:in `Range#each_with_time_with_zone'\"}, {:x=>635, :y=>13, :width=>349, :frame=>\"/Users/nickhoernle/.rvm/gems/ruby-2.2.1/gems/iruby-0.2.8/lib/iruby/backend.rb:8:in `block in Object#slow_method'\"}, {:x=>984, :y=>12, :width=>114, :frame=>\"/Users/nickhoernle/.rvm/gems/ruby-2.2.1/gems/iruby-0.2.8/lib/iruby/backend.rb::in `Object#fast_method'\"}, {:x=>984, :y=>13, :width=>114, :frame=>\"/Users/nickhoernle/.rvm/gems/ruby-2.2.1/gems/activesupport-4.2.5/lib/active_support/core_ext/range/each.rb:5:in `Range#each_with_time_with_zone'\"}, {:x=>984, :y=>14, :width=>114, :frame=>\"/Users/nickhoernle/.rvm/gems/ruby-2.2.1/gems/iruby-0.2.8/lib/iruby/backend.rb:1:in `block in Object#fast_method'\"}, {:x=>1098, :y=>11, :width=>321, :frame=>\"/Users/nickhoernle/.rvm/gems/ruby-2.2.1/gems/activesupport-4.2.5/lib/active_support/core_ext/range/each.rb:5:in `Range#each_with_time_with_zone'\"}, {:x=>1098, :y=>12, :width=>321, :frame=>\"/Users/nickhoernle/.rvm/gems/ruby-2.2.1/gems/iruby-0.2.8/lib/iruby/backend.rb:20:in `block in Object#both'\"}], @sampleTime=0.05>"
      ]
     },
     "execution_count": 8,
     "metadata": {},
     "output_type": "execute_result"
    }
   ],
   "source": [
    "def fast_method\n",
    "  for i in 0..100000\n",
    "    9999999999999999+9999999999999\n",
    "  end\n",
    "end\n",
    "\n",
    "def slow_method\n",
    "  fast_method\n",
    "  for i in 0..100000\n",
    "    9999999999999999*999999999\n",
    "  end\n",
    "  fast_method\n",
    "end\n",
    "\n",
    "def both\n",
    "  for i in 0..100000\n",
    "    9999999999999999*999999999\n",
    "  end\n",
    "  fast_method\n",
    "  slow_method\n",
    "  for i in 0..100000\n",
    "    9999999999999999*999999999\n",
    "  end\n",
    "end\n",
    "\n",
    "Profiler::profile do \n",
    "  both\n",
    "end"
   ]
  },
  {
   "cell_type": "code",
   "execution_count": 1,
   "metadata": {
    "collapsed": false
   },
   "outputs": [
    {
     "data": {
      "text/html": [
       "            <div id=\"railsnb-70205604355660\"></div>\n",
       "            <script>\n",
       "            require([\"/kernelspecs/rails_notebook/rails_notebook.js\"] , function ( railsNB ) {\n",
       "                railsNB.renderFlamechart( {\"data\":[],\"sampleTime\":0.05} , document.getElementById( \"railsnb-70205604355660\" ) );\n",
       "            }); \n",
       "            </script>\n"
      ],
      "text/plain": [
       "#<Profiler::Profile:0x007fb40837bc98 @data=[], @sampleTime=0.05>"
      ]
     },
     "execution_count": 1,
     "metadata": {},
     "output_type": "execute_result"
    }
   ],
   "source": [
    "Rails.application.routes"
   ]
  },
  {
   "cell_type": "code",
   "execution_count": 9,
   "metadata": {
    "collapsed": false
   },
   "outputs": [
    {
     "data": {
      "text/html": [
       "            <div id=\"railsnb-70348047141640\"></div>\n",
       "            <script>\n",
       "            require([\"/kernelspecs/rails_notebook/rails_notebook.js\"] , function ( railsNB ) {\n",
       "                railsNB.renderSchema( [{\"table_name\":\"articles\",\"columns\":[[\"- id\",\"integer\"],[\"- title\",\"string\"],[\"- text\",\"text\"],[\"- created_at\",\"datetime\"],[\"- updated_at\",\"datetime\"]],\"arrowsTo\":[]},{\"table_name\":\"customers\",\"columns\":[[\"- id\",\"integer\"],[\"- name\",\"string\"],[\"- surname\",\"string\"],[\"- phoneNum\",\"string\"],[\"- address\",\"string\"],[\"- created_at\",\"datetime\"],[\"- updated_at\",\"datetime\"]],\"arrowsTo\":[]},{\"table_name\":\"schema_migrations\",\"columns\":[[\"- version\",\"string\"]],\"arrowsTo\":[]},{\"table_name\":\"products\",\"columns\":[[\"- id\",\"integer\"],[\"- name\",\"string\"],[\"- quantity\",\"integer\"],[\"- discount\",\"integer\"],[\"* order_id\",\"integer\"],[\"- created_at\",\"datetime\"],[\"- updated_at\",\"datetime\"]],\"arrowsTo\":[\"orders\"]},{\"table_name\":\"orders\",\"columns\":[[\"- id\",\"integer\"],[\"- order_date\",\"datetime\"],[\"- status\",\"string\"],[\"* customer_id\",\"integer\"],[\"- created_at\",\"datetime\"],[\"- updated_at\",\"datetime\"]],\"arrowsTo\":[\"customers\"]},{\"table_name\":\"comments\",\"columns\":[[\"- id\",\"integer\"],[\"- commenter\",\"string\"],[\"- body\",\"text\"],[\"* article_id\",\"integer\"],[\"* customer_id\",\"integer\"],[\"- created_at\",\"datetime\"],[\"- updated_at\",\"datetime\"]],\"arrowsTo\":[\"articles\",\"customers\"]},{\"table_name\":\"invoices\",\"columns\":[[\"- id\",\"integer\"],[\"- description\",\"string\"],[\"- price\",\"string\"],[\"* order_id\",\"integer\"],[\"* customer_id\",\"integer\"],[\"- created_at\",\"datetime\"],[\"- updated_at\",\"datetime\"]],\"arrowsTo\":[\"orders\",\"customers\"]}] , document.getElementById( \"railsnb-70348047141640\" ) );\n",
       "            }); \n",
       "            </script>\n"
      ],
      "text/plain": [
       "[\"articles\", \"comments\", \"customers\", \"invoices\", \"orders\", \"products\", \"schema_migrations\"]"
      ]
     },
     "execution_count": 9,
     "metadata": {},
     "output_type": "execute_result"
    }
   ],
   "source": [
    "ActiveRecord::Base.connection.tables"
   ]
  },
  {
   "cell_type": "code",
   "execution_count": 10,
   "metadata": {
    "collapsed": false
   },
   "outputs": [
    {
     "data": {
      "text/html": [
       "            <div id=\"railsnb-70348048839260\"></div>\n",
       "            <script>\n",
       "            require([\"/kernelspecs/rails_notebook/rails_notebook.js\"] , function ( railsNB ) {\n",
       "                railsNB.renderTableData( [\"Order\",[\"id\",0,1,2,3,4,5,6,7,8,9,10,11,12,13,14],[\"order_date\",\"1993-05-16T07:00:22.000Z\",\"2011-02-28T15:14:04.000Z\",\"2015-12-01T00:13:15.000Z\",\"2009-12-20T11:24:41.000Z\",\"2011-02-28T15:14:04.000Z\",\"2015-12-01T00:13:15.000Z\",\"2011-02-28T15:14:04.000Z\",\"2009-12-20T11:24:41.000Z\",\"2011-02-28T15:14:04.000Z\",\"1993-05-16T07:00:22.000Z\",\"2015-12-01T00:13:15.000Z\",\"2011-02-28T15:14:04.000Z\",\"1993-05-16T07:00:22.000Z\",\"2011-02-28T15:14:04.000Z\",\"2011-02-28T15:14:04.000Z\"],[\"status\",\"Delivered\",\"Delivered\",\"Delivered\",\"Delivered\",\"Delivered\",\"Delivered\",\"Pending\",\"Pending\",\"Pending\",\"Pending\",\"Pending\",\"Pending\",\"Pending\",\"Cancelled\",\"Cancelled\"],[\"customer_id\",0,1,2,3,4,5,6,7,8,9,10,11,12,13,14],[\"created_at\",\"2011-05-19T10:30:14.000Z\",\"2002-11-29T08:28:17.000Z\",\"2009-12-20T11:24:41.000Z\",\"2003-04-02T05:33:41.000Z\",\"1993-05-16T07:00:22.000Z\",\"1999-05-05T16:08:01.000Z\",\"2011-05-19T10:30:14.000Z\",\"2002-11-29T08:28:17.000Z\",\"2005-05-21T13:32:49.000Z\",\"2003-04-02T05:33:41.000Z\",\"1993-05-16T07:00:22.000Z\",\"2000-01-02T09:26:55.000Z\",\"2002-11-29T08:28:17.000Z\",\"2011-05-19T10:30:14.000Z\",\"1999-05-05T16:08:01.000Z\"],[\"updated_at\",\"2011-08-22T22:12:55.000Z\",\"2013-01-04T23:00:12.000Z\",\"2011-10-31T14:18:53.000Z\",\"2006-07-23T21:58:33.000Z\",\"2015-02-14T22:34:09.000Z\",\"2011-02-28T15:14:04.000Z\",\"2011-08-22T22:12:55.000Z\",\"2013-01-04T23:00:12.000Z\",\"2015-12-01T00:13:15.000Z\",\"2006-07-23T21:58:33.000Z\",\"2015-02-14T22:34:09.000Z\",\"2002-06-30T23:44:11.000Z\",\"2013-01-04T23:00:12.000Z\",\"2011-08-22T22:12:55.000Z\",\"2011-02-28T15:14:04.000Z\"]] , document.getElementById( \"railsnb-70348048839260\" ) );\n",
       "            }); \n",
       "            </script>\n"
      ],
      "text/plain": [
       "#<ActiveRecord::Relation [#<Order id: 0, order_date: \"1993-05-16 07:00:22\", status: \"Delivered\", customer_id: 0, created_at: \"2011-05-19 10:30:14\", updated_at: \"2011-08-22 22:12:55\">, #<Order id: 1, order_date: \"2011-02-28 15:14:04\", status: \"Delivered\", customer_id: 1, created_at: \"2002-11-29 08:28:17\", updated_at: \"2013-01-04 23:00:12\">, #<Order id: 2, order_date: \"2015-12-01 00:13:15\", status: \"Delivered\", customer_id: 2, created_at: \"2009-12-20 11:24:41\", updated_at: \"2011-10-31 14:18:53\">, #<Order id: 3, order_date: \"2009-12-20 11:24:41\", status: \"Delivered\", customer_id: 3, created_at: \"2003-04-02 05:33:41\", updated_at: \"2006-07-23 21:58:33\">, #<Order id: 4, order_date: \"2011-02-28 15:14:04\", status: \"Delivered\", customer_id: 4, created_at: \"1993-05-16 07:00:22\", updated_at: \"2015-02-14 22:34:09\">, #<Order id: 5, order_date: \"2015-12-01 00:13:15\", status: \"Delivered\", customer_id: 5, created_at: \"1999-05-05 16:08:01\", updated_at: \"2011-02-28 15:14:04\">, #<Order id: 6, order_date: \"2011-02-28 15:14:04\", status: \"Pending\", customer_id: 6, created_at: \"2011-05-19 10:30:14\", updated_at: \"2011-08-22 22:12:55\">, #<Order id: 7, order_date: \"2009-12-20 11:24:41\", status: \"Pending\", customer_id: 7, created_at: \"2002-11-29 08:28:17\", updated_at: \"2013-01-04 23:00:12\">, #<Order id: 8, order_date: \"2011-02-28 15:14:04\", status: \"Pending\", customer_id: 8, created_at: \"2005-05-21 13:32:49\", updated_at: \"2015-12-01 00:13:15\">, #<Order id: 9, order_date: \"1993-05-16 07:00:22\", status: \"Pending\", customer_id: 9, created_at: \"2003-04-02 05:33:41\", updated_at: \"2006-07-23 21:58:33\">, ...]>"
      ]
     },
     "execution_count": 10,
     "metadata": {},
     "output_type": "execute_result"
    }
   ],
   "source": [
    "Order.all"
   ]
  },
  {
   "cell_type": "code",
   "execution_count": 11,
   "metadata": {
    "collapsed": false,
    "scrolled": true
   },
   "outputs": [
    {
     "data": {
      "text/html": [
       "            <div id=\"railsnb-70348060661520\"></div>\n",
       "            <script>\n",
       "            require([\"/kernelspecs/rails_notebook/rails_notebook.js\"] , function ( railsNB ) {\n",
       "                railsNB.renderBarChart( {\"Cancelled\":2,\"Delivered\":6,\"Pending\":7} , document.getElementById( \"railsnb-70348060661520\" ) );\n",
       "            }); \n",
       "            </script>\n"
      ],
      "text/plain": [
       "{\"Cancelled\"=>2, \"Delivered\"=>6, \"Pending\"=>7}"
      ]
     },
     "execution_count": 11,
     "metadata": {},
     "output_type": "execute_result"
    }
   ],
   "source": [
    "Order.group(:status).count"
   ]
  },
  {
   "cell_type": "code",
   "execution_count": 14,
   "metadata": {
    "collapsed": false
   },
   "outputs": [
    {
     "data": {
      "text/plain": [
       "[#<Customer id: 0, name: \"John\", surname: \"Smith\", phoneNum: \"018-2736353\", address: \"7848 Middle Acres, Soapweed, Northwest Territories...\", created_at: \"2011-05-19 10:30:14\", updated_at: \"2011-08-22 22:12:55\">, #<Customer id: 1, name: \"Henry\", surname: \"Hendle\", phoneNum: \"084-8782234\", address: \"4230 Cotton Dale, Fruitland, Yukon, Y2K-4B6, CA\", created_at: \"2000-01-02 09:26:55\", updated_at: \"2002-06-30 23:44:11\">, #<Customer id: 2, name: \"Jeremy\", surname: \"Ford\", phoneNum: \"018-2736353\", address: \"201 Round Nectar Street, Mesquite, Newfoundland, A...\", created_at: \"1993-05-16 07:00:22\", updated_at: \"2015-02-14 22:34:09\">, #<Customer id: 3, name: \"Kelsey\", surname: \"Jeanbart\", phoneNum: \"057-8123456\", address: \"3190 Colonial Bear Cove, Wagontire, New Brunswick,...\", created_at: \"2003-04-02 05:33:41\", updated_at: \"2006-07-23 21:58:33\">, #<Customer id: 4, name: \"Genoveva\", surname: \"Pinner\", phoneNum: \"012-3456789\", address: \"2145 Gentle View, Tuba City, Nova Scotia, B2D-2F5,...\", created_at: \"2005-05-21 13:32:49\", updated_at: \"2015-12-01 00:13:15\">]"
      ]
     },
     "execution_count": 14,
     "metadata": {},
     "output_type": "execute_result"
    }
   ],
   "source": [
    "Customer.first(5)"
   ]
  }
 ],
 "metadata": {
  "kernelspec": {
   "display_name": "Rails TestApp::Application",
   "language": "ruby",
   "name": "rails_notebook"
  },
  "language_info": {
   "file_extension": ".rb",
   "mimetype": "application/x-ruby",
   "name": "ruby",
   "version": "2.2.1"
  }
 },
 "nbformat": 4,
 "nbformat_minor": 0
}
