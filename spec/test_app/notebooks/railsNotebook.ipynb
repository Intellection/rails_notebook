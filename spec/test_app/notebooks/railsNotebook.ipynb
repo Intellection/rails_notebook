{
 "cells": [
  {
   "cell_type": "code",
   "execution_count": 1,
   "metadata": {
    "collapsed": false
   },
   "outputs": [
    {
     "data": {
      "text/html": [
       "            <div class=flamechart id=\"70289967061140\" width=\"960\" height=\"600\"></div>\n",
       "            <script>\n",
       "                require([\"/kernelspecs/rails_notebook/rails_notebook.js\"], function ( railsNB ) {\n",
       "                    railsNB.renderFlamechart( {\"data\":[{\"x\":1,\"y\":1,\"width\":1401,\"frame\":\"/Users/Tsu/.rvm/gems/ruby-2.2.1/gems/iruby-0.2.8/lib/iruby/backend.rb::in `\\u003cmain\\u003e'\"},{\"x\":1,\"y\":2,\"width\":1401,\"frame\":\"/Users/Tsu/.rvm/gems/ruby-2.2.1/gems/iruby-0.2.8/lib/iruby/backend.rb:25:in `block in \\u003cmain\\u003e'\"},{\"x\":1,\"y\":3,\"width\":1401,\"frame\":\"/Users/Tsu/.rvm/gems/ruby-2.2.1/gems/iruby-0.2.8/lib/iruby/backend.rb:14:in `Object#both'\"},{\"x\":1,\"y\":4,\"width\":364,\"frame\":\"/Users/Tsu/.rvm/gems/ruby-2.2.1/gems/iruby-0.2.8/lib/iruby/backend.rb:15:in `block in Object#both'\"},{\"x\":365,\"y\":4,\"width\":115,\"frame\":\"/Users/Tsu/.rvm/gems/ruby-2.2.1/gems/iruby-0.2.8/lib/iruby/backend.rb::in `Object#fast_method'\"},{\"x\":365,\"y\":5,\"width\":115,\"frame\":\"/Users/Tsu/.rvm/gems/ruby-2.2.1/gems/iruby-0.2.8/lib/iruby/backend.rb:1:in `block in Object#fast_method'\"},{\"x\":480,\"y\":4,\"width\":601,\"frame\":\"/Users/Tsu/.rvm/gems/ruby-2.2.1/gems/iruby-0.2.8/lib/iruby/backend.rb:6:in `Object#slow_method'\"},{\"x\":480,\"y\":5,\"width\":150,\"frame\":\"/Users/Tsu/.rvm/gems/ruby-2.2.1/gems/iruby-0.2.8/lib/iruby/backend.rb::in `Object#fast_method'\"},{\"x\":481,\"y\":6,\"width\":149,\"frame\":\"/Users/Tsu/.rvm/gems/ruby-2.2.1/gems/iruby-0.2.8/lib/iruby/backend.rb:1:in `block in Object#fast_method'\"},{\"x\":630,\"y\":5,\"width\":330,\"frame\":\"/Users/Tsu/.rvm/gems/ruby-2.2.1/gems/iruby-0.2.8/lib/iruby/backend.rb:8:in `block in Object#slow_method'\"},{\"x\":960,\"y\":5,\"width\":121,\"frame\":\"/Users/Tsu/.rvm/gems/ruby-2.2.1/gems/iruby-0.2.8/lib/iruby/backend.rb::in `Object#fast_method'\"},{\"x\":960,\"y\":6,\"width\":121,\"frame\":\"/Users/Tsu/.rvm/gems/ruby-2.2.1/gems/iruby-0.2.8/lib/iruby/backend.rb:1:in `block in Object#fast_method'\"},{\"x\":1082,\"y\":4,\"width\":320,\"frame\":\"/Users/Tsu/.rvm/gems/ruby-2.2.1/gems/iruby-0.2.8/lib/iruby/backend.rb:20:in `block in Object#both'\"}],\"sampleTime\":0.05}, document.getElementById(70289967061140 ));\n",
       "                });\n",
       "            </script>\n"
      ],
      "text/plain": [
       "#<Profiler::Profile:0x007fdb51093128 @data=[{:x=>1, :y=>1, :width=>1401, :frame=>\"/Users/Tsu/.rvm/gems/ruby-2.2.1/gems/iruby-0.2.8/lib/iruby/backend.rb::in `<main>'\"}, {:x=>1, :y=>2, :width=>1401, :frame=>\"/Users/Tsu/.rvm/gems/ruby-2.2.1/gems/iruby-0.2.8/lib/iruby/backend.rb:25:in `block in <main>'\"}, {:x=>1, :y=>3, :width=>1401, :frame=>\"/Users/Tsu/.rvm/gems/ruby-2.2.1/gems/iruby-0.2.8/lib/iruby/backend.rb:14:in `Object#both'\"}, {:x=>1, :y=>4, :width=>364, :frame=>\"/Users/Tsu/.rvm/gems/ruby-2.2.1/gems/iruby-0.2.8/lib/iruby/backend.rb:15:in `block in Object#both'\"}, {:x=>365, :y=>4, :width=>115, :frame=>\"/Users/Tsu/.rvm/gems/ruby-2.2.1/gems/iruby-0.2.8/lib/iruby/backend.rb::in `Object#fast_method'\"}, {:x=>365, :y=>5, :width=>115, :frame=>\"/Users/Tsu/.rvm/gems/ruby-2.2.1/gems/iruby-0.2.8/lib/iruby/backend.rb:1:in `block in Object#fast_method'\"}, {:x=>480, :y=>4, :width=>601, :frame=>\"/Users/Tsu/.rvm/gems/ruby-2.2.1/gems/iruby-0.2.8/lib/iruby/backend.rb:6:in `Object#slow_method'\"}, {:x=>480, :y=>5, :width=>150, :frame=>\"/Users/Tsu/.rvm/gems/ruby-2.2.1/gems/iruby-0.2.8/lib/iruby/backend.rb::in `Object#fast_method'\"}, {:x=>481, :y=>6, :width=>149, :frame=>\"/Users/Tsu/.rvm/gems/ruby-2.2.1/gems/iruby-0.2.8/lib/iruby/backend.rb:1:in `block in Object#fast_method'\"}, {:x=>630, :y=>5, :width=>330, :frame=>\"/Users/Tsu/.rvm/gems/ruby-2.2.1/gems/iruby-0.2.8/lib/iruby/backend.rb:8:in `block in Object#slow_method'\"}, {:x=>960, :y=>5, :width=>121, :frame=>\"/Users/Tsu/.rvm/gems/ruby-2.2.1/gems/iruby-0.2.8/lib/iruby/backend.rb::in `Object#fast_method'\"}, {:x=>960, :y=>6, :width=>121, :frame=>\"/Users/Tsu/.rvm/gems/ruby-2.2.1/gems/iruby-0.2.8/lib/iruby/backend.rb:1:in `block in Object#fast_method'\"}, {:x=>1082, :y=>4, :width=>320, :frame=>\"/Users/Tsu/.rvm/gems/ruby-2.2.1/gems/iruby-0.2.8/lib/iruby/backend.rb:20:in `block in Object#both'\"}], @sampleTime=0.05>"
      ]
     },
     "execution_count": 1,
     "metadata": {},
     "output_type": "execute_result"
    }
   ],
   "source": [
    "def fast_method\n",
    "  for i in 0..100000\n",
    "    9999999999999999+9999999999999\n",
    "  end\n",
    "end\n",
    "\n",
    "def slow_method\n",
    "  fast_method\n",
    "  for i in 0..100000\n",
    "    9999999999999999*999999999\n",
    "  end\n",
    "  fast_method\n",
    "end\n",
    "\n",
    "def both\n",
    "  for i in 0..100000\n",
    "    9999999999999999*999999999\n",
    "  end\n",
    "  fast_method\n",
    "  slow_method\n",
    "  for i in 0..100000\n",
    "    9999999999999999*999999999\n",
    "  end\n",
    "end\n",
    "\n",
    "Profiler::profile do \n",
    "  both\n",
    "end"
   ]
  },
  {
   "cell_type": "code",
   "execution_count": 1,
   "metadata": {
    "collapsed": false
   },
   "outputs": [
    {
     "data": {
      "text/html": [
       "            <svg id=\"routes-70307796486680\" width=960 height=600><g/></svg>\n",
       "            <script>\n",
       "                require([\"/kernelspecs/rails_notebook/rails_notebook.js\"], function ( railsNB ) {\n",
       "                    railsNB.renderRoutes( {\"headNode\":{\"uriPattern\":\"/\",\"verbs\":[],\"controller\":null,\"actions\":[],\"countChildrenNodes\":0,\"childrenNodes\":[{\"uriPattern\":\"/welcome/\",\"verbs\":[],\"controller\":null,\"actions\":[],\"countChildrenNodes\":0,\"childrenNodes\":[{\"uriPattern\":\"/welcome/index/\",\"verbs\":[\"GET\"],\"controller\":\"welcome_index\",\"actions\":[\"index\"],\"countChildrenNodes\":0,\"childrenNodes\":[],\"nodeUri\":\"index\"}],\"nodeUri\":\"welcome\"},{\"uriPattern\":\"/articles/\",\"verbs\":[\"GET\",\"POST\"],\"controller\":\"\",\"actions\":[\"index\",\"create\"],\"countChildrenNodes\":0,\"childrenNodes\":[{\"uriPattern\":\"/articles/:article_id/\",\"verbs\":[],\"controller\":null,\"actions\":[],\"countChildrenNodes\":0,\"childrenNodes\":[{\"uriPattern\":\"/articles/:article_id/comments/\",\"verbs\":[\"GET\",\"POST\"],\"controller\":\"\",\"actions\":[\"index\",\"create\"],\"countChildrenNodes\":0,\"childrenNodes\":[{\"uriPattern\":\"/articles/:article_id/comments/new/\",\"verbs\":[\"GET\"],\"controller\":\"new_article_comment\",\"actions\":[\"new\"],\"countChildrenNodes\":0,\"childrenNodes\":[],\"nodeUri\":\"new\"},{\"uriPattern\":\"/articles/:article_id/comments/:id/\",\"verbs\":[\"GET\",\"PATCH\",\"PUT\",\"DELETE\"],\"controller\":\"\",\"actions\":[\"show\",\"update\",\"update\",\"destroy\"],\"countChildrenNodes\":0,\"childrenNodes\":[{\"uriPattern\":\"/articles/:article_id/comments/:id/edit/\",\"verbs\":[\"GET\"],\"controller\":\"edit_article_comment\",\"actions\":[\"edit\"],\"countChildrenNodes\":0,\"childrenNodes\":[],\"nodeUri\":\"edit\"}],\"nodeUri\":\":id\"}],\"nodeUri\":\"comments\"}],\"nodeUri\":\":article_id\"},{\"uriPattern\":\"/articles/new/\",\"verbs\":[\"GET\"],\"controller\":\"new_article\",\"actions\":[\"new\"],\"countChildrenNodes\":0,\"childrenNodes\":[],\"nodeUri\":\"new\"},{\"uriPattern\":\"/articles/:id/\",\"verbs\":[\"GET\",\"PATCH\",\"PUT\",\"DELETE\"],\"controller\":\"\",\"actions\":[\"show\",\"update\",\"update\",\"destroy\"],\"countChildrenNodes\":0,\"childrenNodes\":[{\"uriPattern\":\"/articles/:id/edit/\",\"verbs\":[\"GET\"],\"controller\":\"edit_article\",\"actions\":[\"edit\"],\"countChildrenNodes\":0,\"childrenNodes\":[],\"nodeUri\":\"edit\"}],\"nodeUri\":\":id\"}],\"nodeUri\":\"articles\"},{\"uriPattern\":\"/customer/\",\"verbs\":[\"GET\",\"POST\"],\"controller\":\"\",\"actions\":[\"index\",\"create\"],\"countChildrenNodes\":0,\"childrenNodes\":[{\"uriPattern\":\"/customer/:customer_id/\",\"verbs\":[],\"controller\":null,\"actions\":[],\"countChildrenNodes\":0,\"childrenNodes\":[{\"uriPattern\":\"/customer/:customer_id/comments/\",\"verbs\":[\"GET\",\"POST\"],\"controller\":\"\",\"actions\":[\"index\",\"create\"],\"countChildrenNodes\":0,\"childrenNodes\":[{\"uriPattern\":\"/customer/:customer_id/comments/new/\",\"verbs\":[\"GET\"],\"controller\":\"new_customer_comment\",\"actions\":[\"new\"],\"countChildrenNodes\":0,\"childrenNodes\":[],\"nodeUri\":\"new\"},{\"uriPattern\":\"/customer/:customer_id/comments/:id/\",\"verbs\":[\"GET\",\"PATCH\",\"PUT\",\"DELETE\"],\"controller\":\"\",\"actions\":[\"show\",\"update\",\"update\",\"destroy\"],\"countChildrenNodes\":0,\"childrenNodes\":[{\"uriPattern\":\"/customer/:customer_id/comments/:id/edit/\",\"verbs\":[\"GET\"],\"controller\":\"edit_customer_comment\",\"actions\":[\"edit\"],\"countChildrenNodes\":0,\"childrenNodes\":[],\"nodeUri\":\"edit\"}],\"nodeUri\":\":id\"}],\"nodeUri\":\"comments\"},{\"uriPattern\":\"/customer/:customer_id/invoices/\",\"verbs\":[\"GET\",\"POST\"],\"controller\":\"\",\"actions\":[\"index\",\"create\"],\"countChildrenNodes\":0,\"childrenNodes\":[{\"uriPattern\":\"/customer/:customer_id/invoices/new/\",\"verbs\":[\"GET\"],\"controller\":\"new_customer_invoice\",\"actions\":[\"new\"],\"countChildrenNodes\":0,\"childrenNodes\":[],\"nodeUri\":\"new\"},{\"uriPattern\":\"/customer/:customer_id/invoices/:id/\",\"verbs\":[\"GET\",\"PATCH\",\"PUT\",\"DELETE\"],\"controller\":\"\",\"actions\":[\"show\",\"update\",\"update\",\"destroy\"],\"countChildrenNodes\":0,\"childrenNodes\":[{\"uriPattern\":\"/customer/:customer_id/invoices/:id/edit/\",\"verbs\":[\"GET\"],\"controller\":\"edit_customer_invoice\",\"actions\":[\"edit\"],\"countChildrenNodes\":0,\"childrenNodes\":[],\"nodeUri\":\"edit\"}],\"nodeUri\":\":id\"}],\"nodeUri\":\"invoices\"},{\"uriPattern\":\"/customer/:customer_id/orders/\",\"verbs\":[\"GET\",\"POST\"],\"controller\":\"\",\"actions\":[\"index\",\"create\"],\"countChildrenNodes\":0,\"childrenNodes\":[{\"uriPattern\":\"/customer/:customer_id/orders/new/\",\"verbs\":[\"GET\"],\"controller\":\"new_customer_order\",\"actions\":[\"new\"],\"countChildrenNodes\":0,\"childrenNodes\":[],\"nodeUri\":\"new\"},{\"uriPattern\":\"/customer/:customer_id/orders/:id/\",\"verbs\":[\"GET\",\"PATCH\",\"PUT\",\"DELETE\"],\"controller\":\"\",\"actions\":[\"show\",\"update\",\"update\",\"destroy\"],\"countChildrenNodes\":0,\"childrenNodes\":[{\"uriPattern\":\"/customer/:customer_id/orders/:id/edit/\",\"verbs\":[\"GET\"],\"controller\":\"edit_customer_order\",\"actions\":[\"edit\"],\"countChildrenNodes\":0,\"childrenNodes\":[],\"nodeUri\":\"edit\"}],\"nodeUri\":\":id\"}],\"nodeUri\":\"orders\"}],\"nodeUri\":\":customer_id\"},{\"uriPattern\":\"/customer/new/\",\"verbs\":[\"GET\"],\"controller\":\"new_customer\",\"actions\":[\"new\"],\"countChildrenNodes\":0,\"childrenNodes\":[],\"nodeUri\":\"new\"},{\"uriPattern\":\"/customer/:id/\",\"verbs\":[\"GET\",\"PATCH\",\"PUT\",\"DELETE\"],\"controller\":\"\",\"actions\":[\"show\",\"update\",\"update\",\"destroy\"],\"countChildrenNodes\":0,\"childrenNodes\":[{\"uriPattern\":\"/customer/:id/edit/\",\"verbs\":[\"GET\"],\"controller\":\"edit_customer\",\"actions\":[\"edit\"],\"countChildrenNodes\":0,\"childrenNodes\":[],\"nodeUri\":\"edit\"}],\"nodeUri\":\":id\"}],\"nodeUri\":\"customer\"},{\"uriPattern\":\"/rails_notebook/\",\"verbs\":[\"\"],\"controller\":\"rails_notebook\",\"actions\":[\"\"],\"countChildrenNodes\":0,\"childrenNodes\":[],\"nodeUri\":\"rails_notebook\"},{\"uriPattern\":\"/rails/\",\"verbs\":[],\"controller\":null,\"actions\":[],\"countChildrenNodes\":0,\"childrenNodes\":[{\"uriPattern\":\"/rails/info/\",\"verbs\":[\"GET\"],\"controller\":\"rails_info\",\"actions\":[\"index\"],\"countChildrenNodes\":0,\"childrenNodes\":[{\"uriPattern\":\"/rails/info/properties/\",\"verbs\":[\"GET\"],\"controller\":\"rails_info_properties\",\"actions\":[\"properties\"],\"countChildrenNodes\":0,\"childrenNodes\":[],\"nodeUri\":\"properties\"},{\"uriPattern\":\"/rails/info/routes/\",\"verbs\":[\"GET\"],\"controller\":\"rails_info_routes\",\"actions\":[\"routes\"],\"countChildrenNodes\":0,\"childrenNodes\":[],\"nodeUri\":\"routes\"}],\"nodeUri\":\"info\"},{\"uriPattern\":\"/rails/mailers/\",\"verbs\":[\"GET\"],\"controller\":\"rails_mailers\",\"actions\":[\"index\"],\"countChildrenNodes\":0,\"childrenNodes\":[{\"uriPattern\":\"/rails/mailers/*path/\",\"verbs\":[\"GET\"],\"controller\":\"\",\"actions\":[\"preview\"],\"countChildrenNodes\":0,\"childrenNodes\":[],\"nodeUri\":\"*path\"}],\"nodeUri\":\"mailers\"}],\"nodeUri\":\"rails\"}],\"nodeUri\":\"\"}} , document.getElementById( \"routes-70307796486680\" ) );\n",
       "                });\n",
       "            </script>\n"
      ],
      "text/plain": [
       "#<ActionDispatch::Routing::RouteSet:0x007fe39cdab420>"
      ]
     },
     "execution_count": 1,
     "metadata": {},
     "output_type": "execute_result"
    }
   ],
   "source": [
    "Rails.application.routes"
   ]
  },
  {
   "cell_type": "code",
   "execution_count": 41,
   "metadata": {
    "collapsed": false
   },
   "outputs": [
    {
     "data": {
      "text/html": [
       "            <svg id=\"schema-70272263827680\" width=960 height=600><g/></svg>\n",
       "            <script>\n",
       "                require([\"/kernelspecs/rails_notebook/rails_notebook.js\"], function ( railsNB ) {\n",
       "                    railsNB.renderSchema( [{\"table_name\":\"articles\",\"columns\":[[\"- id\",\"integer\"],[\"- title\",\"string\"],[\"- text\",\"text\"],[\"- created_at\",\"datetime\"],[\"- updated_at\",\"datetime\"]],\"arrowsTo\":[]},{\"table_name\":\"comments\",\"columns\":[[\"- id\",\"integer\"],[\"- commenter\",\"string\"],[\"- body\",\"text\"],[\"* article_id\",\"integer\"],[\"* customer_id\",\"integer\"],[\"- created_at\",\"datetime\"],[\"- updated_at\",\"datetime\"]],\"arrowsTo\":[\"articles\",\"customers\"]},{\"table_name\":\"customers\",\"columns\":[[\"- id\",\"integer\"],[\"- name\",\"string\"],[\"- surname\",\"string\"],[\"- phoneNum\",\"string\"],[\"- address\",\"string\"],[\"- created_at\",\"datetime\"],[\"- updated_at\",\"datetime\"]],\"arrowsTo\":[]},{\"table_name\":\"invoices\",\"columns\":[[\"- id\",\"integer\"],[\"- description\",\"string\"],[\"- price\",\"string\"],[\"* order_id\",\"integer\"],[\"* customer_id\",\"integer\"],[\"- created_at\",\"datetime\"],[\"- updated_at\",\"datetime\"]],\"arrowsTo\":[\"orders\",\"customers\"]},{\"table_name\":\"orders\",\"columns\":[[\"- id\",\"integer\"],[\"- order_date\",\"datetime\"],[\"- status\",\"string\"],[\"* customer_id\",\"integer\"],[\"- created_at\",\"datetime\"],[\"- updated_at\",\"datetime\"]],\"arrowsTo\":[\"customers\"]},{\"table_name\":\"products\",\"columns\":[[\"- id\",\"integer\"],[\"- name\",\"string\"],[\"- quantity\",\"integer\"],[\"- discount\",\"integer\"],[\"* order_id\",\"integer\"],[\"- created_at\",\"datetime\"],[\"- updated_at\",\"datetime\"]],\"arrowsTo\":[\"orders\"]},{\"table_name\":\"schema_migrations\",\"columns\":[[\"- version\",\"string\"]],\"arrowsTo\":[]}] , document.getElementById( \"schema-70272263827680\" ) );\n",
       "                });\n",
       "            </script>\n"
      ],
      "text/plain": [
       "[\"articles\", \"comments\", \"customers\", \"invoices\", \"orders\", \"products\", \"schema_migrations\"]"
      ]
     },
     "execution_count": 41,
     "metadata": {},
     "output_type": "execute_result"
    }
   ],
   "source": [
    "ActiveRecord::Base.connection.tables"
   ]
  },
  {
   "cell_type": "code",
   "execution_count": 4,
   "metadata": {
    "collapsed": false
   },
   "outputs": [
    {
     "name": "stdout",
     "output_type": "stream",
     "text": [
      "[[\"id\", 0, 1, 2, 3, 4, 5, 6, 7, 8, 9, 10, 11, 12, 13, 14], [\"order_date\", Mon, 11 Jan 2016 00:00:00 UTC +00:00, Tue, 12 Jan 2016 00:00:00 UTC +00:00, Wed, 13 Jan 2016 00:00:00 UTC +00:00, Thu, 14 Jan 2016 00:00:00 UTC +00:00, Wed, 13 Jan 2016 00:00:00 UTC +00:00, Tue, 12 Jan 2016 00:00:00 UTC +00:00, Wed, 13 Jan 2016 00:00:00 UTC +00:00, Thu, 14 Jan 2016 00:00:00 UTC +00:00, Wed, 13 Jan 2016 00:00:00 UTC +00:00, Tue, 12 Jan 2016 00:00:00 UTC +00:00, Wed, 13 Jan 2016 00:00:00 UTC +00:00, Thu, 14 Jan 2016 00:00:00 UTC +00:00, Fri, 15 Jan 2016 00:00:00 UTC +00:00, Sat, 16 Jan 2016 00:00:00 UTC +00:00, Sat, 16 Jan 2016 00:00:00 UTC +00:00], [\"status\", \"Delivered\", \"Delivered\", \"Delivered\", \"Delivered\", \"Delivered\", \"Delivered\", \"Pending\", \"Pending\", \"Pending\", \"Pending\", \"Pending\", \"Pending\", \"Pending\", \"Cancelled\", \"Cancelled\"], [\"customer_id\", 0, 1, 2, 3, 4, 5, 6, 7, 8, 9, 10, 11, 12, 13, 14], [\"created_at\", Tue, 11 Nov 2008 00:00:00 UTC +00:00, Tue, 11 Nov 2008 00:00:00 UTC +00:00, Tue, 11 Nov 2008 00:00:00 UTC +00:00, Tue, 11 Nov 2008 00:00:00 UTC +00:00, Tue, 11 Nov 2008 00:00:00 UTC +00:00, Tue, 11 Nov 2008 00:00:00 UTC +00:00, Tue, 11 Nov 2008 00:00:00 UTC +00:00, Tue, 11 Nov 2008 00:00:00 UTC +00:00, Tue, 11 Nov 2008 00:00:00 UTC +00:00, Tue, 11 Nov 2008 00:00:00 UTC +00:00, Tue, 11 Nov 2008 00:00:00 UTC +00:00, Tue, 11 Nov 2008 00:00:00 UTC +00:00, Tue, 11 Nov 2008 00:00:00 UTC +00:00, Tue, 11 Nov 2008 00:00:00 UTC +00:00, Tue, 11 Nov 2008 00:00:00 UTC +00:00], [\"updated_at\", Tue, 11 Nov 2008 00:00:00 UTC +00:00, Tue, 11 Nov 2008 00:00:00 UTC +00:00, Tue, 11 Nov 2008 00:00:00 UTC +00:00, Tue, 11 Nov 2008 00:00:00 UTC +00:00, Tue, 11 Nov 2008 00:00:00 UTC +00:00, Tue, 11 Nov 2008 00:00:00 UTC +00:00, Tue, 11 Nov 2008 00:00:00 UTC +00:00, Tue, 11 Nov 2008 00:00:00 UTC +00:00, Tue, 11 Nov 2008 00:00:00 UTC +00:00, Tue, 11 Nov 2008 00:00:00 UTC +00:00, Tue, 11 Nov 2008 00:00:00 UTC +00:00, Tue, 11 Nov 2008 00:00:00 UTC +00:00, Tue, 11 Nov 2008 00:00:00 UTC +00:00, Tue, 11 Nov 2008 00:00:00 UTC +00:00, Tue, 11 Nov 2008 00:00:00 UTC +00:00]]\n"
     ]
    },
    {
     "data": {
      "text/html": [
       "            <svg id=\"schema-70318241894940\" width=960 height=600><g/></svg>\n",
       "            <script>\n",
       "                require([\"/kernelspecs/rails_notebook/rails_notebook.js\"], function ( railsNB ) {\n",
       "                    railsNB.renderTableData( [[\"id\",0,1,2,3,4,5,6,7,8,9,10,11,12,13,14],[\"order_date\",\"2016-01-11T00:00:00.000Z\",\"2016-01-12T00:00:00.000Z\",\"2016-01-13T00:00:00.000Z\",\"2016-01-14T00:00:00.000Z\",\"2016-01-13T00:00:00.000Z\",\"2016-01-12T00:00:00.000Z\",\"2016-01-13T00:00:00.000Z\",\"2016-01-14T00:00:00.000Z\",\"2016-01-13T00:00:00.000Z\",\"2016-01-12T00:00:00.000Z\",\"2016-01-13T00:00:00.000Z\",\"2016-01-14T00:00:00.000Z\",\"2016-01-15T00:00:00.000Z\",\"2016-01-16T00:00:00.000Z\",\"2016-01-16T00:00:00.000Z\"],[\"status\",\"Delivered\",\"Delivered\",\"Delivered\",\"Delivered\",\"Delivered\",\"Delivered\",\"Pending\",\"Pending\",\"Pending\",\"Pending\",\"Pending\",\"Pending\",\"Pending\",\"Cancelled\",\"Cancelled\"],[\"customer_id\",0,1,2,3,4,5,6,7,8,9,10,11,12,13,14],[\"created_at\",\"2008-11-11T00:00:00.000Z\",\"2008-11-11T00:00:00.000Z\",\"2008-11-11T00:00:00.000Z\",\"2008-11-11T00:00:00.000Z\",\"2008-11-11T00:00:00.000Z\",\"2008-11-11T00:00:00.000Z\",\"2008-11-11T00:00:00.000Z\",\"2008-11-11T00:00:00.000Z\",\"2008-11-11T00:00:00.000Z\",\"2008-11-11T00:00:00.000Z\",\"2008-11-11T00:00:00.000Z\",\"2008-11-11T00:00:00.000Z\",\"2008-11-11T00:00:00.000Z\",\"2008-11-11T00:00:00.000Z\",\"2008-11-11T00:00:00.000Z\"],[\"updated_at\",\"2008-11-11T00:00:00.000Z\",\"2008-11-11T00:00:00.000Z\",\"2008-11-11T00:00:00.000Z\",\"2008-11-11T00:00:00.000Z\",\"2008-11-11T00:00:00.000Z\",\"2008-11-11T00:00:00.000Z\",\"2008-11-11T00:00:00.000Z\",\"2008-11-11T00:00:00.000Z\",\"2008-11-11T00:00:00.000Z\",\"2008-11-11T00:00:00.000Z\",\"2008-11-11T00:00:00.000Z\",\"2008-11-11T00:00:00.000Z\",\"2008-11-11T00:00:00.000Z\",\"2008-11-11T00:00:00.000Z\",\"2008-11-11T00:00:00.000Z\"]] , document.getElementById( \"schema-70318241894940\" ) );\n",
       "                });\n",
       "            </script>\n"
      ],
      "text/plain": [
       "#<ActiveRecord::Relation [#<Order id: 0, order_date: \"2016-01-11 00:00:00\", status: \"Delivered\", customer_id: 0, created_at: \"2008-11-11 00:00:00\", updated_at: \"2008-11-11 00:00:00\">, #<Order id: 1, order_date: \"2016-01-12 00:00:00\", status: \"Delivered\", customer_id: 1, created_at: \"2008-11-11 00:00:00\", updated_at: \"2008-11-11 00:00:00\">, #<Order id: 2, order_date: \"2016-01-13 00:00:00\", status: \"Delivered\", customer_id: 2, created_at: \"2008-11-11 00:00:00\", updated_at: \"2008-11-11 00:00:00\">, #<Order id: 3, order_date: \"2016-01-14 00:00:00\", status: \"Delivered\", customer_id: 3, created_at: \"2008-11-11 00:00:00\", updated_at: \"2008-11-11 00:00:00\">, #<Order id: 4, order_date: \"2016-01-13 00:00:00\", status: \"Delivered\", customer_id: 4, created_at: \"2008-11-11 00:00:00\", updated_at: \"2008-11-11 00:00:00\">, #<Order id: 5, order_date: \"2016-01-12 00:00:00\", status: \"Delivered\", customer_id: 5, created_at: \"2008-11-11 00:00:00\", updated_at: \"2008-11-11 00:00:00\">, #<Order id: 6, order_date: \"2016-01-13 00:00:00\", status: \"Pending\", customer_id: 6, created_at: \"2008-11-11 00:00:00\", updated_at: \"2008-11-11 00:00:00\">, #<Order id: 7, order_date: \"2016-01-14 00:00:00\", status: \"Pending\", customer_id: 7, created_at: \"2008-11-11 00:00:00\", updated_at: \"2008-11-11 00:00:00\">, #<Order id: 8, order_date: \"2016-01-13 00:00:00\", status: \"Pending\", customer_id: 8, created_at: \"2008-11-11 00:00:00\", updated_at: \"2008-11-11 00:00:00\">, #<Order id: 9, order_date: \"2016-01-12 00:00:00\", status: \"Pending\", customer_id: 9, created_at: \"2008-11-11 00:00:00\", updated_at: \"2008-11-11 00:00:00\">, ...]>"
      ]
     },
     "execution_count": 4,
     "metadata": {},
     "output_type": "execute_result"
    }
   ],
   "source": [
    "Order.all"
   ]
  }
 ],
 "metadata": {
  "kernelspec": {
   "display_name": "Rails TestApp::Application",
   "language": "ruby",
   "name": "rails_notebook"
  },
  "language_info": {
   "file_extension": ".rb",
   "mimetype": "application/x-ruby",
   "name": "ruby",
   "version": "2.2.1"
  }
 },
 "nbformat": 4,
 "nbformat_minor": 0
}
