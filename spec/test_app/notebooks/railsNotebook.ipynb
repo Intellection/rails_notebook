{
 "cells": [
  {
   "cell_type": "code",
   "execution_count": 1,
   "metadata": {
    "collapsed": false
   },
   "outputs": [
    {
     "data": {
      "text/html": [
       "            <div class=flamechart id=\"70289967061140\" width=\"960\" height=\"600\"></div>\n",
       "            <script>\n",
       "                require([\"/kernelspecs/rails_notebook/rails_notebook.js\"], function ( railsNB ) {\n",
       "                    railsNB.renderFlamechart( {\"data\":[{\"x\":1,\"y\":1,\"width\":1401,\"frame\":\"/Users/Tsu/.rvm/gems/ruby-2.2.1/gems/iruby-0.2.8/lib/iruby/backend.rb::in `\\u003cmain\\u003e'\"},{\"x\":1,\"y\":2,\"width\":1401,\"frame\":\"/Users/Tsu/.rvm/gems/ruby-2.2.1/gems/iruby-0.2.8/lib/iruby/backend.rb:25:in `block in \\u003cmain\\u003e'\"},{\"x\":1,\"y\":3,\"width\":1401,\"frame\":\"/Users/Tsu/.rvm/gems/ruby-2.2.1/gems/iruby-0.2.8/lib/iruby/backend.rb:14:in `Object#both'\"},{\"x\":1,\"y\":4,\"width\":364,\"frame\":\"/Users/Tsu/.rvm/gems/ruby-2.2.1/gems/iruby-0.2.8/lib/iruby/backend.rb:15:in `block in Object#both'\"},{\"x\":365,\"y\":4,\"width\":115,\"frame\":\"/Users/Tsu/.rvm/gems/ruby-2.2.1/gems/iruby-0.2.8/lib/iruby/backend.rb::in `Object#fast_method'\"},{\"x\":365,\"y\":5,\"width\":115,\"frame\":\"/Users/Tsu/.rvm/gems/ruby-2.2.1/gems/iruby-0.2.8/lib/iruby/backend.rb:1:in `block in Object#fast_method'\"},{\"x\":480,\"y\":4,\"width\":601,\"frame\":\"/Users/Tsu/.rvm/gems/ruby-2.2.1/gems/iruby-0.2.8/lib/iruby/backend.rb:6:in `Object#slow_method'\"},{\"x\":480,\"y\":5,\"width\":150,\"frame\":\"/Users/Tsu/.rvm/gems/ruby-2.2.1/gems/iruby-0.2.8/lib/iruby/backend.rb::in `Object#fast_method'\"},{\"x\":481,\"y\":6,\"width\":149,\"frame\":\"/Users/Tsu/.rvm/gems/ruby-2.2.1/gems/iruby-0.2.8/lib/iruby/backend.rb:1:in `block in Object#fast_method'\"},{\"x\":630,\"y\":5,\"width\":330,\"frame\":\"/Users/Tsu/.rvm/gems/ruby-2.2.1/gems/iruby-0.2.8/lib/iruby/backend.rb:8:in `block in Object#slow_method'\"},{\"x\":960,\"y\":5,\"width\":121,\"frame\":\"/Users/Tsu/.rvm/gems/ruby-2.2.1/gems/iruby-0.2.8/lib/iruby/backend.rb::in `Object#fast_method'\"},{\"x\":960,\"y\":6,\"width\":121,\"frame\":\"/Users/Tsu/.rvm/gems/ruby-2.2.1/gems/iruby-0.2.8/lib/iruby/backend.rb:1:in `block in Object#fast_method'\"},{\"x\":1082,\"y\":4,\"width\":320,\"frame\":\"/Users/Tsu/.rvm/gems/ruby-2.2.1/gems/iruby-0.2.8/lib/iruby/backend.rb:20:in `block in Object#both'\"}],\"sampleTime\":0.05}, document.getElementById(70289967061140 ));\n",
       "                });\n",
       "            </script>\n"
      ],
      "text/plain": [
       "#<Profiler::Profile:0x007fdb51093128 @data=[{:x=>1, :y=>1, :width=>1401, :frame=>\"/Users/Tsu/.rvm/gems/ruby-2.2.1/gems/iruby-0.2.8/lib/iruby/backend.rb::in `<main>'\"}, {:x=>1, :y=>2, :width=>1401, :frame=>\"/Users/Tsu/.rvm/gems/ruby-2.2.1/gems/iruby-0.2.8/lib/iruby/backend.rb:25:in `block in <main>'\"}, {:x=>1, :y=>3, :width=>1401, :frame=>\"/Users/Tsu/.rvm/gems/ruby-2.2.1/gems/iruby-0.2.8/lib/iruby/backend.rb:14:in `Object#both'\"}, {:x=>1, :y=>4, :width=>364, :frame=>\"/Users/Tsu/.rvm/gems/ruby-2.2.1/gems/iruby-0.2.8/lib/iruby/backend.rb:15:in `block in Object#both'\"}, {:x=>365, :y=>4, :width=>115, :frame=>\"/Users/Tsu/.rvm/gems/ruby-2.2.1/gems/iruby-0.2.8/lib/iruby/backend.rb::in `Object#fast_method'\"}, {:x=>365, :y=>5, :width=>115, :frame=>\"/Users/Tsu/.rvm/gems/ruby-2.2.1/gems/iruby-0.2.8/lib/iruby/backend.rb:1:in `block in Object#fast_method'\"}, {:x=>480, :y=>4, :width=>601, :frame=>\"/Users/Tsu/.rvm/gems/ruby-2.2.1/gems/iruby-0.2.8/lib/iruby/backend.rb:6:in `Object#slow_method'\"}, {:x=>480, :y=>5, :width=>150, :frame=>\"/Users/Tsu/.rvm/gems/ruby-2.2.1/gems/iruby-0.2.8/lib/iruby/backend.rb::in `Object#fast_method'\"}, {:x=>481, :y=>6, :width=>149, :frame=>\"/Users/Tsu/.rvm/gems/ruby-2.2.1/gems/iruby-0.2.8/lib/iruby/backend.rb:1:in `block in Object#fast_method'\"}, {:x=>630, :y=>5, :width=>330, :frame=>\"/Users/Tsu/.rvm/gems/ruby-2.2.1/gems/iruby-0.2.8/lib/iruby/backend.rb:8:in `block in Object#slow_method'\"}, {:x=>960, :y=>5, :width=>121, :frame=>\"/Users/Tsu/.rvm/gems/ruby-2.2.1/gems/iruby-0.2.8/lib/iruby/backend.rb::in `Object#fast_method'\"}, {:x=>960, :y=>6, :width=>121, :frame=>\"/Users/Tsu/.rvm/gems/ruby-2.2.1/gems/iruby-0.2.8/lib/iruby/backend.rb:1:in `block in Object#fast_method'\"}, {:x=>1082, :y=>4, :width=>320, :frame=>\"/Users/Tsu/.rvm/gems/ruby-2.2.1/gems/iruby-0.2.8/lib/iruby/backend.rb:20:in `block in Object#both'\"}], @sampleTime=0.05>"
      ]
     },
     "execution_count": 1,
     "metadata": {},
     "output_type": "execute_result"
    }
   ],
   "source": [
    "def fast_method\n",
    "  for i in 0..100000\n",
    "    9999999999999999+9999999999999\n",
    "  end\n",
    "end\n",
    "\n",
    "def slow_method\n",
    "  fast_method\n",
    "  for i in 0..100000\n",
    "    9999999999999999*999999999\n",
    "  end\n",
    "  fast_method\n",
    "end\n",
    "\n",
    "def both\n",
    "  for i in 0..100000\n",
    "    9999999999999999*999999999\n",
    "  end\n",
    "  fast_method\n",
    "  slow_method\n",
    "  for i in 0..100000\n",
    "    9999999999999999*999999999\n",
    "  end\n",
    "end\n",
    "\n",
    "Profiler::profile do \n",
    "  both\n",
    "end"
   ]
  },
  {
   "cell_type": "code",
   "execution_count": 1,
   "metadata": {
    "collapsed": false
   },
   "outputs": [
    {
     "data": {
      "text/html": [
       "            <svg id=\"routes-70307796486680\" width=960 height=600><g/></svg>\n",
       "            <script>\n",
       "                require([\"/kernelspecs/rails_notebook/rails_notebook.js\"], function ( railsNB ) {\n",
       "                    railsNB.renderRoutes( {\"headNode\":{\"uriPattern\":\"/\",\"verbs\":[],\"controller\":null,\"actions\":[],\"countChildrenNodes\":0,\"childrenNodes\":[{\"uriPattern\":\"/welcome/\",\"verbs\":[],\"controller\":null,\"actions\":[],\"countChildrenNodes\":0,\"childrenNodes\":[{\"uriPattern\":\"/welcome/index/\",\"verbs\":[\"GET\"],\"controller\":\"welcome_index\",\"actions\":[\"index\"],\"countChildrenNodes\":0,\"childrenNodes\":[],\"nodeUri\":\"index\"}],\"nodeUri\":\"welcome\"},{\"uriPattern\":\"/articles/\",\"verbs\":[\"GET\",\"POST\"],\"controller\":\"\",\"actions\":[\"index\",\"create\"],\"countChildrenNodes\":0,\"childrenNodes\":[{\"uriPattern\":\"/articles/:article_id/\",\"verbs\":[],\"controller\":null,\"actions\":[],\"countChildrenNodes\":0,\"childrenNodes\":[{\"uriPattern\":\"/articles/:article_id/comments/\",\"verbs\":[\"GET\",\"POST\"],\"controller\":\"\",\"actions\":[\"index\",\"create\"],\"countChildrenNodes\":0,\"childrenNodes\":[{\"uriPattern\":\"/articles/:article_id/comments/new/\",\"verbs\":[\"GET\"],\"controller\":\"new_article_comment\",\"actions\":[\"new\"],\"countChildrenNodes\":0,\"childrenNodes\":[],\"nodeUri\":\"new\"},{\"uriPattern\":\"/articles/:article_id/comments/:id/\",\"verbs\":[\"GET\",\"PATCH\",\"PUT\",\"DELETE\"],\"controller\":\"\",\"actions\":[\"show\",\"update\",\"update\",\"destroy\"],\"countChildrenNodes\":0,\"childrenNodes\":[{\"uriPattern\":\"/articles/:article_id/comments/:id/edit/\",\"verbs\":[\"GET\"],\"controller\":\"edit_article_comment\",\"actions\":[\"edit\"],\"countChildrenNodes\":0,\"childrenNodes\":[],\"nodeUri\":\"edit\"}],\"nodeUri\":\":id\"}],\"nodeUri\":\"comments\"}],\"nodeUri\":\":article_id\"},{\"uriPattern\":\"/articles/new/\",\"verbs\":[\"GET\"],\"controller\":\"new_article\",\"actions\":[\"new\"],\"countChildrenNodes\":0,\"childrenNodes\":[],\"nodeUri\":\"new\"},{\"uriPattern\":\"/articles/:id/\",\"verbs\":[\"GET\",\"PATCH\",\"PUT\",\"DELETE\"],\"controller\":\"\",\"actions\":[\"show\",\"update\",\"update\",\"destroy\"],\"countChildrenNodes\":0,\"childrenNodes\":[{\"uriPattern\":\"/articles/:id/edit/\",\"verbs\":[\"GET\"],\"controller\":\"edit_article\",\"actions\":[\"edit\"],\"countChildrenNodes\":0,\"childrenNodes\":[],\"nodeUri\":\"edit\"}],\"nodeUri\":\":id\"}],\"nodeUri\":\"articles\"},{\"uriPattern\":\"/customer/\",\"verbs\":[\"GET\",\"POST\"],\"controller\":\"\",\"actions\":[\"index\",\"create\"],\"countChildrenNodes\":0,\"childrenNodes\":[{\"uriPattern\":\"/customer/:customer_id/\",\"verbs\":[],\"controller\":null,\"actions\":[],\"countChildrenNodes\":0,\"childrenNodes\":[{\"uriPattern\":\"/customer/:customer_id/comments/\",\"verbs\":[\"GET\",\"POST\"],\"controller\":\"\",\"actions\":[\"index\",\"create\"],\"countChildrenNodes\":0,\"childrenNodes\":[{\"uriPattern\":\"/customer/:customer_id/comments/new/\",\"verbs\":[\"GET\"],\"controller\":\"new_customer_comment\",\"actions\":[\"new\"],\"countChildrenNodes\":0,\"childrenNodes\":[],\"nodeUri\":\"new\"},{\"uriPattern\":\"/customer/:customer_id/comments/:id/\",\"verbs\":[\"GET\",\"PATCH\",\"PUT\",\"DELETE\"],\"controller\":\"\",\"actions\":[\"show\",\"update\",\"update\",\"destroy\"],\"countChildrenNodes\":0,\"childrenNodes\":[{\"uriPattern\":\"/customer/:customer_id/comments/:id/edit/\",\"verbs\":[\"GET\"],\"controller\":\"edit_customer_comment\",\"actions\":[\"edit\"],\"countChildrenNodes\":0,\"childrenNodes\":[],\"nodeUri\":\"edit\"}],\"nodeUri\":\":id\"}],\"nodeUri\":\"comments\"},{\"uriPattern\":\"/customer/:customer_id/invoices/\",\"verbs\":[\"GET\",\"POST\"],\"controller\":\"\",\"actions\":[\"index\",\"create\"],\"countChildrenNodes\":0,\"childrenNodes\":[{\"uriPattern\":\"/customer/:customer_id/invoices/new/\",\"verbs\":[\"GET\"],\"controller\":\"new_customer_invoice\",\"actions\":[\"new\"],\"countChildrenNodes\":0,\"childrenNodes\":[],\"nodeUri\":\"new\"},{\"uriPattern\":\"/customer/:customer_id/invoices/:id/\",\"verbs\":[\"GET\",\"PATCH\",\"PUT\",\"DELETE\"],\"controller\":\"\",\"actions\":[\"show\",\"update\",\"update\",\"destroy\"],\"countChildrenNodes\":0,\"childrenNodes\":[{\"uriPattern\":\"/customer/:customer_id/invoices/:id/edit/\",\"verbs\":[\"GET\"],\"controller\":\"edit_customer_invoice\",\"actions\":[\"edit\"],\"countChildrenNodes\":0,\"childrenNodes\":[],\"nodeUri\":\"edit\"}],\"nodeUri\":\":id\"}],\"nodeUri\":\"invoices\"},{\"uriPattern\":\"/customer/:customer_id/orders/\",\"verbs\":[\"GET\",\"POST\"],\"controller\":\"\",\"actions\":[\"index\",\"create\"],\"countChildrenNodes\":0,\"childrenNodes\":[{\"uriPattern\":\"/customer/:customer_id/orders/new/\",\"verbs\":[\"GET\"],\"controller\":\"new_customer_order\",\"actions\":[\"new\"],\"countChildrenNodes\":0,\"childrenNodes\":[],\"nodeUri\":\"new\"},{\"uriPattern\":\"/customer/:customer_id/orders/:id/\",\"verbs\":[\"GET\",\"PATCH\",\"PUT\",\"DELETE\"],\"controller\":\"\",\"actions\":[\"show\",\"update\",\"update\",\"destroy\"],\"countChildrenNodes\":0,\"childrenNodes\":[{\"uriPattern\":\"/customer/:customer_id/orders/:id/edit/\",\"verbs\":[\"GET\"],\"controller\":\"edit_customer_order\",\"actions\":[\"edit\"],\"countChildrenNodes\":0,\"childrenNodes\":[],\"nodeUri\":\"edit\"}],\"nodeUri\":\":id\"}],\"nodeUri\":\"orders\"}],\"nodeUri\":\":customer_id\"},{\"uriPattern\":\"/customer/new/\",\"verbs\":[\"GET\"],\"controller\":\"new_customer\",\"actions\":[\"new\"],\"countChildrenNodes\":0,\"childrenNodes\":[],\"nodeUri\":\"new\"},{\"uriPattern\":\"/customer/:id/\",\"verbs\":[\"GET\",\"PATCH\",\"PUT\",\"DELETE\"],\"controller\":\"\",\"actions\":[\"show\",\"update\",\"update\",\"destroy\"],\"countChildrenNodes\":0,\"childrenNodes\":[{\"uriPattern\":\"/customer/:id/edit/\",\"verbs\":[\"GET\"],\"controller\":\"edit_customer\",\"actions\":[\"edit\"],\"countChildrenNodes\":0,\"childrenNodes\":[],\"nodeUri\":\"edit\"}],\"nodeUri\":\":id\"}],\"nodeUri\":\"customer\"},{\"uriPattern\":\"/rails_notebook/\",\"verbs\":[\"\"],\"controller\":\"rails_notebook\",\"actions\":[\"\"],\"countChildrenNodes\":0,\"childrenNodes\":[],\"nodeUri\":\"rails_notebook\"},{\"uriPattern\":\"/rails/\",\"verbs\":[],\"controller\":null,\"actions\":[],\"countChildrenNodes\":0,\"childrenNodes\":[{\"uriPattern\":\"/rails/info/\",\"verbs\":[\"GET\"],\"controller\":\"rails_info\",\"actions\":[\"index\"],\"countChildrenNodes\":0,\"childrenNodes\":[{\"uriPattern\":\"/rails/info/properties/\",\"verbs\":[\"GET\"],\"controller\":\"rails_info_properties\",\"actions\":[\"properties\"],\"countChildrenNodes\":0,\"childrenNodes\":[],\"nodeUri\":\"properties\"},{\"uriPattern\":\"/rails/info/routes/\",\"verbs\":[\"GET\"],\"controller\":\"rails_info_routes\",\"actions\":[\"routes\"],\"countChildrenNodes\":0,\"childrenNodes\":[],\"nodeUri\":\"routes\"}],\"nodeUri\":\"info\"},{\"uriPattern\":\"/rails/mailers/\",\"verbs\":[\"GET\"],\"controller\":\"rails_mailers\",\"actions\":[\"index\"],\"countChildrenNodes\":0,\"childrenNodes\":[{\"uriPattern\":\"/rails/mailers/*path/\",\"verbs\":[\"GET\"],\"controller\":\"\",\"actions\":[\"preview\"],\"countChildrenNodes\":0,\"childrenNodes\":[],\"nodeUri\":\"*path\"}],\"nodeUri\":\"mailers\"}],\"nodeUri\":\"rails\"}],\"nodeUri\":\"\"}} , document.getElementById( \"routes-70307796486680\" ) );\n",
       "                });\n",
       "            </script>\n"
      ],
      "text/plain": [
       "#<ActionDispatch::Routing::RouteSet:0x007fe39cdab420>"
      ]
     },
     "execution_count": 1,
     "metadata": {},
     "output_type": "execute_result"
    }
   ],
   "source": [
    "Rails.application.routes"
   ]
  },
  {
   "cell_type": "code",
   "execution_count": 41,
   "metadata": {
    "collapsed": false
   },
   "outputs": [
    {
     "data": {
      "text/html": [
       "            <svg id=\"schema-70272263827680\" width=960 height=600><g/></svg>\n",
       "            <script>\n",
       "                require([\"/kernelspecs/rails_notebook/rails_notebook.js\"], function ( railsNB ) {\n",
       "                    railsNB.renderSchema( [{\"table_name\":\"articles\",\"columns\":[[\"- id\",\"integer\"],[\"- title\",\"string\"],[\"- text\",\"text\"],[\"- created_at\",\"datetime\"],[\"- updated_at\",\"datetime\"]],\"arrowsTo\":[]},{\"table_name\":\"comments\",\"columns\":[[\"- id\",\"integer\"],[\"- commenter\",\"string\"],[\"- body\",\"text\"],[\"* article_id\",\"integer\"],[\"* customer_id\",\"integer\"],[\"- created_at\",\"datetime\"],[\"- updated_at\",\"datetime\"]],\"arrowsTo\":[\"articles\",\"customers\"]},{\"table_name\":\"customers\",\"columns\":[[\"- id\",\"integer\"],[\"- name\",\"string\"],[\"- surname\",\"string\"],[\"- phoneNum\",\"string\"],[\"- address\",\"string\"],[\"- created_at\",\"datetime\"],[\"- updated_at\",\"datetime\"]],\"arrowsTo\":[]},{\"table_name\":\"invoices\",\"columns\":[[\"- id\",\"integer\"],[\"- description\",\"string\"],[\"- price\",\"string\"],[\"* order_id\",\"integer\"],[\"* customer_id\",\"integer\"],[\"- created_at\",\"datetime\"],[\"- updated_at\",\"datetime\"]],\"arrowsTo\":[\"orders\",\"customers\"]},{\"table_name\":\"orders\",\"columns\":[[\"- id\",\"integer\"],[\"- order_date\",\"datetime\"],[\"- status\",\"string\"],[\"* customer_id\",\"integer\"],[\"- created_at\",\"datetime\"],[\"- updated_at\",\"datetime\"]],\"arrowsTo\":[\"customers\"]},{\"table_name\":\"products\",\"columns\":[[\"- id\",\"integer\"],[\"- name\",\"string\"],[\"- quantity\",\"integer\"],[\"- discount\",\"integer\"],[\"* order_id\",\"integer\"],[\"- created_at\",\"datetime\"],[\"- updated_at\",\"datetime\"]],\"arrowsTo\":[\"orders\"]},{\"table_name\":\"schema_migrations\",\"columns\":[[\"- version\",\"string\"]],\"arrowsTo\":[]}] , document.getElementById( \"schema-70272263827680\" ) );\n",
       "                });\n",
       "            </script>\n"
      ],
      "text/plain": [
       "[\"articles\", \"comments\", \"customers\", \"invoices\", \"orders\", \"products\", \"schema_migrations\"]"
      ]
     },
     "execution_count": 41,
     "metadata": {},
     "output_type": "execute_result"
    }
   ],
   "source": [
    "ActiveRecord::Base.connection.tables"
   ]
  },
  {
   "cell_type": "code",
   "execution_count": 4,
   "metadata": {
    "collapsed": false
   },
   "outputs": [
    {
     "name": "stdout",
     "output_type": "stream",
     "text": [
      "[\"Customer\", [\"id\", 0], [\"name\", \"John\"], [\"surname\", \"Smith\"], [\"phoneNum\", \"0182736353\"], [\"address\", \"defaultAddress1111\"], [\"created_at\", Tue, 11 Nov 2008 00:00:00 UTC +00:00], [\"updated_at\", Tue, 11 Nov 2008 00:00:00 UTC +00:00]]\n"
     ]
    },
    {
     "data": {
      "text/html": [
       "            <svg id=\"schema-70181544970140\" width=960 height=600><g/></svg>\n",
       "            <script>\n",
       "                require([\"/kernelspecs/rails_notebook/rails_notebook.js\"], function ( railsNB ) {\n",
       "                    railsNB.renderTableData( [\"Customer\",[\"id\",0],[\"name\",\"John\"],[\"surname\",\"Smith\"],[\"phoneNum\",\"0182736353\"],[\"address\",\"defaultAddress1111\"],[\"created_at\",\"2008-11-11T00:00:00.000Z\"],[\"updated_at\",\"2008-11-11T00:00:00.000Z\"]] , document.getElementById( \"schema-70181544970140\" ) );\n",
       "                });\n",
       "            </script>\n"
      ],
      "text/plain": [
       "#<ActiveRecord::Relation [#<Customer id: 0, name: \"John\", surname: \"Smith\", phoneNum: \"0182736353\", address: \"defaultAddress1111\", created_at: \"2008-11-11 00:00:00\", updated_at: \"2008-11-11 00:00:00\">]>"
      ]
     },
     "execution_count": 4,
     "metadata": {},
     "output_type": "execute_result"
    }
   ],
   "source": [
    "Customer.where(\"name = 'John'\")"
   ]
  },
  {
   "cell_type": "code",
   "execution_count": 3,
   "metadata": {
    "collapsed": false
   },
   "outputs": [
    {
     "name": "stdout",
     "output_type": "stream",
     "text": [
      "[\"Product\", [\"id\", 300, 301, 302, 303, 304, 305, 306, 307, 308, 309, 310, 311, 312, 313, 314], [\"name\", \"Shirts\", \"Jeans\", \"T-shirts\", \"Belts\", \"Meat\", \"Crockery\", \"Stamps\", \"CDs\", \"Cars\", \"Batteries\", \"Chocolate\", \"Shoes\", \"Slops\", \"Jumpers\", \"Boxes\"], [\"quantity\", 2, 1, 2, 3, 2, 5, 2, 7, 1, 1, 3, 3, 12, 12, 34], [\"discount\", 50, 50, 50, 50, 50, 50, 75, 75, 75, 75, 75, 75, 75, 75, 75], [\"order_id\", 1, 2, 3, 4, 5, 6, 7, 8, 9, 10, 11, 12, 13, 14, 0], [\"created_at\", Tue, 11 Nov 2008 00:00:00 UTC +00:00, Tue, 11 Nov 2008 00:00:00 UTC +00:00, Tue, 11 Nov 2008 00:00:00 UTC +00:00, Tue, 11 Nov 2008 00:00:00 UTC +00:00, Tue, 11 Nov 2008 00:00:00 UTC +00:00, Tue, 11 Nov 2008 00:00:00 UTC +00:00, Tue, 11 Nov 2008 00:00:00 UTC +00:00, Tue, 11 Nov 2008 00:00:00 UTC +00:00, Tue, 11 Nov 2008 00:00:00 UTC +00:00, Tue, 11 Nov 2008 00:00:00 UTC +00:00, Tue, 11 Nov 2008 00:00:00 UTC +00:00, Tue, 11 Nov 2008 00:00:00 UTC +00:00, Tue, 11 Nov 2008 00:00:00 UTC +00:00, Tue, 11 Nov 2008 00:00:00 UTC +00:00, Tue, 11 Nov 2008 00:00:00 UTC +00:00], [\"updated_at\", Tue, 11 Nov 2008 00:00:00 UTC +00:00, Tue, 11 Nov 2008 00:00:00 UTC +00:00, Tue, 11 Nov 2008 00:00:00 UTC +00:00, Tue, 11 Nov 2008 00:00:00 UTC +00:00, Tue, 11 Nov 2008 00:00:00 UTC +00:00, Tue, 11 Nov 2008 00:00:00 UTC +00:00, Tue, 11 Nov 2008 00:00:00 UTC +00:00, Tue, 11 Nov 2008 00:00:00 UTC +00:00, Tue, 11 Nov 2008 00:00:00 UTC +00:00, Tue, 11 Nov 2008 00:00:00 UTC +00:00, Tue, 11 Nov 2008 00:00:00 UTC +00:00, Tue, 11 Nov 2008 00:00:00 UTC +00:00, Tue, 11 Nov 2008 00:00:00 UTC +00:00, Tue, 11 Nov 2008 00:00:00 UTC +00:00, Tue, 11 Nov 2008 00:00:00 UTC +00:00]]\n"
     ]
    },
    {
     "data": {
      "text/html": [
       "            <svg id=\"schema-70181529567380\" width=960 height=600><g/></svg>\n",
       "            <script>\n",
       "                require([\"/kernelspecs/rails_notebook/rails_notebook.js\"], function ( railsNB ) {\n",
       "                    railsNB.renderTableData( [\"Product\",[\"id\",300,301,302,303,304,305,306,307,308,309,310,311,312,313,314],[\"name\",\"Shirts\",\"Jeans\",\"T-shirts\",\"Belts\",\"Meat\",\"Crockery\",\"Stamps\",\"CDs\",\"Cars\",\"Batteries\",\"Chocolate\",\"Shoes\",\"Slops\",\"Jumpers\",\"Boxes\"],[\"quantity\",2,1,2,3,2,5,2,7,1,1,3,3,12,12,34],[\"discount\",50,50,50,50,50,50,75,75,75,75,75,75,75,75,75],[\"order_id\",1,2,3,4,5,6,7,8,9,10,11,12,13,14,0],[\"created_at\",\"2008-11-11T00:00:00.000Z\",\"2008-11-11T00:00:00.000Z\",\"2008-11-11T00:00:00.000Z\",\"2008-11-11T00:00:00.000Z\",\"2008-11-11T00:00:00.000Z\",\"2008-11-11T00:00:00.000Z\",\"2008-11-11T00:00:00.000Z\",\"2008-11-11T00:00:00.000Z\",\"2008-11-11T00:00:00.000Z\",\"2008-11-11T00:00:00.000Z\",\"2008-11-11T00:00:00.000Z\",\"2008-11-11T00:00:00.000Z\",\"2008-11-11T00:00:00.000Z\",\"2008-11-11T00:00:00.000Z\",\"2008-11-11T00:00:00.000Z\"],[\"updated_at\",\"2008-11-11T00:00:00.000Z\",\"2008-11-11T00:00:00.000Z\",\"2008-11-11T00:00:00.000Z\",\"2008-11-11T00:00:00.000Z\",\"2008-11-11T00:00:00.000Z\",\"2008-11-11T00:00:00.000Z\",\"2008-11-11T00:00:00.000Z\",\"2008-11-11T00:00:00.000Z\",\"2008-11-11T00:00:00.000Z\",\"2008-11-11T00:00:00.000Z\",\"2008-11-11T00:00:00.000Z\",\"2008-11-11T00:00:00.000Z\",\"2008-11-11T00:00:00.000Z\",\"2008-11-11T00:00:00.000Z\",\"2008-11-11T00:00:00.000Z\"]] , document.getElementById( \"schema-70181529567380\" ) );\n",
       "                });\n",
       "            </script>\n"
      ],
      "text/plain": [
       "#<ActiveRecord::Relation [#<Product id: 300, name: \"Shirts\", quantity: 2, discount: 50, order_id: 1, created_at: \"2008-11-11 00:00:00\", updated_at: \"2008-11-11 00:00:00\">, #<Product id: 301, name: \"Jeans\", quantity: 1, discount: 50, order_id: 2, created_at: \"2008-11-11 00:00:00\", updated_at: \"2008-11-11 00:00:00\">, #<Product id: 302, name: \"T-shirts\", quantity: 2, discount: 50, order_id: 3, created_at: \"2008-11-11 00:00:00\", updated_at: \"2008-11-11 00:00:00\">, #<Product id: 303, name: \"Belts\", quantity: 3, discount: 50, order_id: 4, created_at: \"2008-11-11 00:00:00\", updated_at: \"2008-11-11 00:00:00\">, #<Product id: 304, name: \"Meat\", quantity: 2, discount: 50, order_id: 5, created_at: \"2008-11-11 00:00:00\", updated_at: \"2008-11-11 00:00:00\">, #<Product id: 305, name: \"Crockery\", quantity: 5, discount: 50, order_id: 6, created_at: \"2008-11-11 00:00:00\", updated_at: \"2008-11-11 00:00:00\">, #<Product id: 306, name: \"Stamps\", quantity: 2, discount: 75, order_id: 7, created_at: \"2008-11-11 00:00:00\", updated_at: \"2008-11-11 00:00:00\">, #<Product id: 307, name: \"CDs\", quantity: 7, discount: 75, order_id: 8, created_at: \"2008-11-11 00:00:00\", updated_at: \"2008-11-11 00:00:00\">, #<Product id: 308, name: \"Cars\", quantity: 1, discount: 75, order_id: 9, created_at: \"2008-11-11 00:00:00\", updated_at: \"2008-11-11 00:00:00\">, #<Product id: 309, name: \"Batteries\", quantity: 1, discount: 75, order_id: 10, created_at: \"2008-11-11 00:00:00\", updated_at: \"2008-11-11 00:00:00\">, ...]>"
      ]
     },
     "execution_count": 3,
     "metadata": {},
     "output_type": "execute_result"
    }
   ],
   "source": [
    "Product.all"
   ]
  }
 ],
 "metadata": {
  "kernelspec": {
   "display_name": "Rails TestApp::Application",
   "language": "ruby",
   "name": "rails_notebook"
  },
  "language_info": {
   "file_extension": ".rb",
   "mimetype": "application/x-ruby",
   "name": "ruby",
   "version": "2.2.1"
  }
 },
 "nbformat": 4,
 "nbformat_minor": 0
}
