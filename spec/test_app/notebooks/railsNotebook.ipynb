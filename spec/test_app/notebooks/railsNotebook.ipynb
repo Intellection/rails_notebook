{
 "cells": [
  {
   "cell_type": "code",
   "execution_count": 2,
   "metadata": {
    "collapsed": false
   },
   "outputs": [
    {
     "data": {
      "text/html": [
       "            <div id=\"railsnb-70122083588780\"></div>\n",
       "            <script>\n",
       "            require([\"/kernelspecs/rails_notebook/rails_notebook.js\"] , function ( railsNB ) {\n",
       "                console.log( railsNB );\n",
       "                railsNB.renderFlamechart( {\"data\":[{\"x\":1,\"y\":1,\"width\":1429,\"frame\":\"/Users/nickhoernle/.rvm/rubies/ruby-2.2.1/bin/rake::in `\\u003cmain\\u003e'\"},{\"x\":1,\"y\":2,\"width\":1429,\"frame\":\"/Users/nickhoernle/.rvm/rubies/ruby-2.2.1/bin/rake::in `\\u003cmain\\u003e'\"},{\"x\":1,\"y\":3,\"width\":1429,\"frame\":\"/Users/nickhoernle/.rvm/rubies/ruby-2.2.1/lib/ruby/2.2.0/monitor.rb:208:in `MonitorMixin#mon_synchronize'\"},{\"x\":1,\"y\":4,\"width\":1429,\"frame\":\"/Users/nickhoernle/Work/rails_notebook/lib/tasks/rails_notebook_tasks.rake:6:in `block in \\u003ctop (required)\\u003e'\"},{\"x\":1,\"y\":5,\"width\":1429,\"frame\":\"/Users/nickhoernle/Work/rails_notebook/lib/rails_notebook/command.rb:15:in `RailsNotebook::Command#run_kernel'\"},{\"x\":1,\"y\":6,\"width\":1429,\"frame\":\"/Users/nickhoernle/.rvm/gems/ruby-2.2.1/gems/iruby-0.2.8/lib/iruby/backend.rb:6:in `IRuby::History#eval'\"},{\"x\":1,\"y\":7,\"width\":1429,\"frame\":\"/Users/nickhoernle/.rvm/gems/ruby-2.2.1/gems/iruby-0.2.8/lib/iruby/backend.rb:43:in `IRuby::PlainBackend#eval'\"},{\"x\":1,\"y\":8,\"width\":1429,\"frame\":\"/Users/nickhoernle/.rvm/gems/ruby-2.2.1/gems/iruby-0.2.8/lib/iruby/backend.rb::in `\\u003cmain\\u003e'\"},{\"x\":1,\"y\":9,\"width\":1429,\"frame\":\"/Users/nickhoernle/.rvm/gems/ruby-2.2.1/gems/iruby-0.2.8/lib/iruby/backend.rb:25:in `block in \\u003cmain\\u003e'\"},{\"x\":1,\"y\":10,\"width\":1429,\"frame\":\"/Users/nickhoernle/.rvm/gems/ruby-2.2.1/gems/iruby-0.2.8/lib/iruby/backend.rb:14:in `Object#both'\"},{\"x\":1,\"y\":11,\"width\":413,\"frame\":\"/Users/nickhoernle/.rvm/gems/ruby-2.2.1/gems/activesupport-4.2.5/lib/active_support/core_ext/range/each.rb:5:in `Range#each_with_time_with_zone'\"},{\"x\":1,\"y\":12,\"width\":413,\"frame\":\"/Users/nickhoernle/.rvm/gems/ruby-2.2.1/gems/iruby-0.2.8/lib/iruby/backend.rb:15:in `block in Object#both'\"},{\"x\":414,\"y\":11,\"width\":130,\"frame\":\"/Users/nickhoernle/.rvm/gems/ruby-2.2.1/gems/iruby-0.2.8/lib/iruby/backend.rb::in `Object#fast_method'\"},{\"x\":414,\"y\":12,\"width\":130,\"frame\":\"/Users/nickhoernle/.rvm/gems/ruby-2.2.1/gems/activesupport-4.2.5/lib/active_support/core_ext/range/each.rb:5:in `Range#each_with_time_with_zone'\"},{\"x\":414,\"y\":13,\"width\":1,\"frame\":\"/Users/nickhoernle/.rvm/gems/ruby-2.2.1/gems/activesupport-4.2.5/lib/active_support/core_ext/range/each.rb:18:in `Range#ensure_iteration_allowed'\"},{\"x\":415,\"y\":13,\"width\":129,\"frame\":\"/Users/nickhoernle/.rvm/gems/ruby-2.2.1/gems/iruby-0.2.8/lib/iruby/backend.rb:1:in `block in Object#fast_method'\"},{\"x\":544,\"y\":11,\"width\":567,\"frame\":\"/Users/nickhoernle/.rvm/gems/ruby-2.2.1/gems/iruby-0.2.8/lib/iruby/backend.rb:6:in `Object#slow_method'\"},{\"x\":544,\"y\":12,\"width\":125,\"frame\":\"/Users/nickhoernle/.rvm/gems/ruby-2.2.1/gems/iruby-0.2.8/lib/iruby/backend.rb::in `Object#fast_method'\"},{\"x\":544,\"y\":13,\"width\":125,\"frame\":\"/Users/nickhoernle/.rvm/gems/ruby-2.2.1/gems/activesupport-4.2.5/lib/active_support/core_ext/range/each.rb:5:in `Range#each_with_time_with_zone'\"},{\"x\":544,\"y\":14,\"width\":1,\"frame\":\"/Users/nickhoernle/.rvm/gems/ruby-2.2.1/gems/activesupport-4.2.5/lib/active_support/core_ext/range/each.rb:18:in `Range#ensure_iteration_allowed'\"},{\"x\":545,\"y\":14,\"width\":124,\"frame\":\"/Users/nickhoernle/.rvm/gems/ruby-2.2.1/gems/iruby-0.2.8/lib/iruby/backend.rb:1:in `block in Object#fast_method'\"},{\"x\":669,\"y\":12,\"width\":334,\"frame\":\"/Users/nickhoernle/.rvm/gems/ruby-2.2.1/gems/activesupport-4.2.5/lib/active_support/core_ext/range/each.rb:5:in `Range#each_with_time_with_zone'\"},{\"x\":669,\"y\":13,\"width\":334,\"frame\":\"/Users/nickhoernle/.rvm/gems/ruby-2.2.1/gems/iruby-0.2.8/lib/iruby/backend.rb:8:in `block in Object#slow_method'\"},{\"x\":1003,\"y\":12,\"width\":108,\"frame\":\"/Users/nickhoernle/.rvm/gems/ruby-2.2.1/gems/iruby-0.2.8/lib/iruby/backend.rb::in `Object#fast_method'\"},{\"x\":1003,\"y\":13,\"width\":108,\"frame\":\"/Users/nickhoernle/.rvm/gems/ruby-2.2.1/gems/activesupport-4.2.5/lib/active_support/core_ext/range/each.rb:5:in `Range#each_with_time_with_zone'\"},{\"x\":1003,\"y\":14,\"width\":108,\"frame\":\"/Users/nickhoernle/.rvm/gems/ruby-2.2.1/gems/iruby-0.2.8/lib/iruby/backend.rb:1:in `block in Object#fast_method'\"},{\"x\":1111,\"y\":11,\"width\":319,\"frame\":\"/Users/nickhoernle/.rvm/gems/ruby-2.2.1/gems/activesupport-4.2.5/lib/active_support/core_ext/range/each.rb:5:in `Range#each_with_time_with_zone'\"},{\"x\":1111,\"y\":12,\"width\":319,\"frame\":\"/Users/nickhoernle/.rvm/gems/ruby-2.2.1/gems/iruby-0.2.8/lib/iruby/backend.rb:20:in `block in Object#both'\"}],\"sampleTime\":0.05} , document.getElementById( \"railsnb-70122083588780\" ) );\n",
       "            }); \n",
       "            </script>\n"
      ],
      "text/plain": [
       "#<Profiler::Profile:0x007f8d23c43558 @data=[{:x=>1, :y=>1, :width=>1429, :frame=>\"/Users/nickhoernle/.rvm/rubies/ruby-2.2.1/bin/rake::in `<main>'\"}, {:x=>1, :y=>2, :width=>1429, :frame=>\"/Users/nickhoernle/.rvm/rubies/ruby-2.2.1/bin/rake::in `<main>'\"}, {:x=>1, :y=>3, :width=>1429, :frame=>\"/Users/nickhoernle/.rvm/rubies/ruby-2.2.1/lib/ruby/2.2.0/monitor.rb:208:in `MonitorMixin#mon_synchronize'\"}, {:x=>1, :y=>4, :width=>1429, :frame=>\"/Users/nickhoernle/Work/rails_notebook/lib/tasks/rails_notebook_tasks.rake:6:in `block in <top (required)>'\"}, {:x=>1, :y=>5, :width=>1429, :frame=>\"/Users/nickhoernle/Work/rails_notebook/lib/rails_notebook/command.rb:15:in `RailsNotebook::Command#run_kernel'\"}, {:x=>1, :y=>6, :width=>1429, :frame=>\"/Users/nickhoernle/.rvm/gems/ruby-2.2.1/gems/iruby-0.2.8/lib/iruby/backend.rb:6:in `IRuby::History#eval'\"}, {:x=>1, :y=>7, :width=>1429, :frame=>\"/Users/nickhoernle/.rvm/gems/ruby-2.2.1/gems/iruby-0.2.8/lib/iruby/backend.rb:43:in `IRuby::PlainBackend#eval'\"}, {:x=>1, :y=>8, :width=>1429, :frame=>\"/Users/nickhoernle/.rvm/gems/ruby-2.2.1/gems/iruby-0.2.8/lib/iruby/backend.rb::in `<main>'\"}, {:x=>1, :y=>9, :width=>1429, :frame=>\"/Users/nickhoernle/.rvm/gems/ruby-2.2.1/gems/iruby-0.2.8/lib/iruby/backend.rb:25:in `block in <main>'\"}, {:x=>1, :y=>10, :width=>1429, :frame=>\"/Users/nickhoernle/.rvm/gems/ruby-2.2.1/gems/iruby-0.2.8/lib/iruby/backend.rb:14:in `Object#both'\"}, {:x=>1, :y=>11, :width=>413, :frame=>\"/Users/nickhoernle/.rvm/gems/ruby-2.2.1/gems/activesupport-4.2.5/lib/active_support/core_ext/range/each.rb:5:in `Range#each_with_time_with_zone'\"}, {:x=>1, :y=>12, :width=>413, :frame=>\"/Users/nickhoernle/.rvm/gems/ruby-2.2.1/gems/iruby-0.2.8/lib/iruby/backend.rb:15:in `block in Object#both'\"}, {:x=>414, :y=>11, :width=>130, :frame=>\"/Users/nickhoernle/.rvm/gems/ruby-2.2.1/gems/iruby-0.2.8/lib/iruby/backend.rb::in `Object#fast_method'\"}, {:x=>414, :y=>12, :width=>130, :frame=>\"/Users/nickhoernle/.rvm/gems/ruby-2.2.1/gems/activesupport-4.2.5/lib/active_support/core_ext/range/each.rb:5:in `Range#each_with_time_with_zone'\"}, {:x=>414, :y=>13, :width=>1, :frame=>\"/Users/nickhoernle/.rvm/gems/ruby-2.2.1/gems/activesupport-4.2.5/lib/active_support/core_ext/range/each.rb:18:in `Range#ensure_iteration_allowed'\"}, {:x=>415, :y=>13, :width=>129, :frame=>\"/Users/nickhoernle/.rvm/gems/ruby-2.2.1/gems/iruby-0.2.8/lib/iruby/backend.rb:1:in `block in Object#fast_method'\"}, {:x=>544, :y=>11, :width=>567, :frame=>\"/Users/nickhoernle/.rvm/gems/ruby-2.2.1/gems/iruby-0.2.8/lib/iruby/backend.rb:6:in `Object#slow_method'\"}, {:x=>544, :y=>12, :width=>125, :frame=>\"/Users/nickhoernle/.rvm/gems/ruby-2.2.1/gems/iruby-0.2.8/lib/iruby/backend.rb::in `Object#fast_method'\"}, {:x=>544, :y=>13, :width=>125, :frame=>\"/Users/nickhoernle/.rvm/gems/ruby-2.2.1/gems/activesupport-4.2.5/lib/active_support/core_ext/range/each.rb:5:in `Range#each_with_time_with_zone'\"}, {:x=>544, :y=>14, :width=>1, :frame=>\"/Users/nickhoernle/.rvm/gems/ruby-2.2.1/gems/activesupport-4.2.5/lib/active_support/core_ext/range/each.rb:18:in `Range#ensure_iteration_allowed'\"}, {:x=>545, :y=>14, :width=>124, :frame=>\"/Users/nickhoernle/.rvm/gems/ruby-2.2.1/gems/iruby-0.2.8/lib/iruby/backend.rb:1:in `block in Object#fast_method'\"}, {:x=>669, :y=>12, :width=>334, :frame=>\"/Users/nickhoernle/.rvm/gems/ruby-2.2.1/gems/activesupport-4.2.5/lib/active_support/core_ext/range/each.rb:5:in `Range#each_with_time_with_zone'\"}, {:x=>669, :y=>13, :width=>334, :frame=>\"/Users/nickhoernle/.rvm/gems/ruby-2.2.1/gems/iruby-0.2.8/lib/iruby/backend.rb:8:in `block in Object#slow_method'\"}, {:x=>1003, :y=>12, :width=>108, :frame=>\"/Users/nickhoernle/.rvm/gems/ruby-2.2.1/gems/iruby-0.2.8/lib/iruby/backend.rb::in `Object#fast_method'\"}, {:x=>1003, :y=>13, :width=>108, :frame=>\"/Users/nickhoernle/.rvm/gems/ruby-2.2.1/gems/activesupport-4.2.5/lib/active_support/core_ext/range/each.rb:5:in `Range#each_with_time_with_zone'\"}, {:x=>1003, :y=>14, :width=>108, :frame=>\"/Users/nickhoernle/.rvm/gems/ruby-2.2.1/gems/iruby-0.2.8/lib/iruby/backend.rb:1:in `block in Object#fast_method'\"}, {:x=>1111, :y=>11, :width=>319, :frame=>\"/Users/nickhoernle/.rvm/gems/ruby-2.2.1/gems/activesupport-4.2.5/lib/active_support/core_ext/range/each.rb:5:in `Range#each_with_time_with_zone'\"}, {:x=>1111, :y=>12, :width=>319, :frame=>\"/Users/nickhoernle/.rvm/gems/ruby-2.2.1/gems/iruby-0.2.8/lib/iruby/backend.rb:20:in `block in Object#both'\"}], @sampleTime=0.05>"
      ]
     },
     "execution_count": 2,
     "metadata": {},
     "output_type": "execute_result"
    }
   ],
   "source": [
    "def fast_method\n",
    "  for i in 0..100000\n",
    "    9999999999999999+9999999999999\n",
    "  end\n",
    "end\n",
    "\n",
    "def slow_method\n",
    "  fast_method\n",
    "  for i in 0..100000\n",
    "    9999999999999999*999999999\n",
    "  end\n",
    "  fast_method\n",
    "end\n",
    "\n",
    "def both\n",
    "  for i in 0..100000\n",
    "    9999999999999999*999999999\n",
    "  end\n",
    "  fast_method\n",
    "  slow_method\n",
    "  for i in 0..100000\n",
    "    9999999999999999*999999999\n",
    "  end\n",
    "end\n",
    "\n",
    "Profiler::profile do \n",
    "  both\n",
    "end"
   ]
  },
  {
   "cell_type": "code",
   "execution_count": 3,
   "metadata": {
    "collapsed": false
   },
   "outputs": [
    {
     "data": {
      "text/html": [
       "            <div id=\"railsnb-70122109332780\"></div>\n",
       "            <script>\n",
       "            require([\"/kernelspecs/rails_notebook/rails_notebook.js\"] , function ( railsNB ) {\n",
       "                console.log( railsNB );\n",
       "                railsNB.renderRoutes( {\"headNode\":{\"uriPattern\":\"/\",\"verbs\":[],\"controller\":null,\"actions\":[],\"countChildrenNodes\":0,\"childrenNodes\":[{\"uriPattern\":\"/welcome/\",\"verbs\":[],\"controller\":null,\"actions\":[],\"countChildrenNodes\":0,\"childrenNodes\":[{\"uriPattern\":\"/welcome/index/\",\"verbs\":[\"GET\"],\"controller\":\"welcome_index\",\"actions\":[\"index\"],\"countChildrenNodes\":0,\"childrenNodes\":[],\"nodeUri\":\"index\"}],\"nodeUri\":\"welcome\"},{\"uriPattern\":\"/articles/\",\"verbs\":[\"GET\",\"POST\"],\"controller\":\"\",\"actions\":[\"index\",\"create\"],\"countChildrenNodes\":0,\"childrenNodes\":[{\"uriPattern\":\"/articles/:article_id/\",\"verbs\":[],\"controller\":null,\"actions\":[],\"countChildrenNodes\":0,\"childrenNodes\":[{\"uriPattern\":\"/articles/:article_id/comments/\",\"verbs\":[\"GET\",\"POST\"],\"controller\":\"\",\"actions\":[\"index\",\"create\"],\"countChildrenNodes\":0,\"childrenNodes\":[{\"uriPattern\":\"/articles/:article_id/comments/new/\",\"verbs\":[\"GET\"],\"controller\":\"new_article_comment\",\"actions\":[\"new\"],\"countChildrenNodes\":0,\"childrenNodes\":[],\"nodeUri\":\"new\"},{\"uriPattern\":\"/articles/:article_id/comments/:id/\",\"verbs\":[\"GET\",\"PATCH\",\"PUT\",\"DELETE\"],\"controller\":\"\",\"actions\":[\"show\",\"update\",\"update\",\"destroy\"],\"countChildrenNodes\":0,\"childrenNodes\":[{\"uriPattern\":\"/articles/:article_id/comments/:id/edit/\",\"verbs\":[\"GET\"],\"controller\":\"edit_article_comment\",\"actions\":[\"edit\"],\"countChildrenNodes\":0,\"childrenNodes\":[],\"nodeUri\":\"edit\"}],\"nodeUri\":\":id\"}],\"nodeUri\":\"comments\"}],\"nodeUri\":\":article_id\"},{\"uriPattern\":\"/articles/new/\",\"verbs\":[\"GET\"],\"controller\":\"new_article\",\"actions\":[\"new\"],\"countChildrenNodes\":0,\"childrenNodes\":[],\"nodeUri\":\"new\"},{\"uriPattern\":\"/articles/:id/\",\"verbs\":[\"GET\",\"PATCH\",\"PUT\",\"DELETE\"],\"controller\":\"\",\"actions\":[\"show\",\"update\",\"update\",\"destroy\"],\"countChildrenNodes\":0,\"childrenNodes\":[{\"uriPattern\":\"/articles/:id/edit/\",\"verbs\":[\"GET\"],\"controller\":\"edit_article\",\"actions\":[\"edit\"],\"countChildrenNodes\":0,\"childrenNodes\":[],\"nodeUri\":\"edit\"}],\"nodeUri\":\":id\"}],\"nodeUri\":\"articles\"},{\"uriPattern\":\"/customer/\",\"verbs\":[\"GET\",\"POST\"],\"controller\":\"\",\"actions\":[\"index\",\"create\"],\"countChildrenNodes\":0,\"childrenNodes\":[{\"uriPattern\":\"/customer/:customer_id/\",\"verbs\":[],\"controller\":null,\"actions\":[],\"countChildrenNodes\":0,\"childrenNodes\":[{\"uriPattern\":\"/customer/:customer_id/comments/\",\"verbs\":[\"GET\",\"POST\"],\"controller\":\"\",\"actions\":[\"index\",\"create\"],\"countChildrenNodes\":0,\"childrenNodes\":[{\"uriPattern\":\"/customer/:customer_id/comments/new/\",\"verbs\":[\"GET\"],\"controller\":\"new_customer_comment\",\"actions\":[\"new\"],\"countChildrenNodes\":0,\"childrenNodes\":[],\"nodeUri\":\"new\"},{\"uriPattern\":\"/customer/:customer_id/comments/:id/\",\"verbs\":[\"GET\",\"PATCH\",\"PUT\",\"DELETE\"],\"controller\":\"\",\"actions\":[\"show\",\"update\",\"update\",\"destroy\"],\"countChildrenNodes\":0,\"childrenNodes\":[{\"uriPattern\":\"/customer/:customer_id/comments/:id/edit/\",\"verbs\":[\"GET\"],\"controller\":\"edit_customer_comment\",\"actions\":[\"edit\"],\"countChildrenNodes\":0,\"childrenNodes\":[],\"nodeUri\":\"edit\"}],\"nodeUri\":\":id\"}],\"nodeUri\":\"comments\"},{\"uriPattern\":\"/customer/:customer_id/invoices/\",\"verbs\":[\"GET\",\"POST\"],\"controller\":\"\",\"actions\":[\"index\",\"create\"],\"countChildrenNodes\":0,\"childrenNodes\":[{\"uriPattern\":\"/customer/:customer_id/invoices/new/\",\"verbs\":[\"GET\"],\"controller\":\"new_customer_invoice\",\"actions\":[\"new\"],\"countChildrenNodes\":0,\"childrenNodes\":[],\"nodeUri\":\"new\"},{\"uriPattern\":\"/customer/:customer_id/invoices/:id/\",\"verbs\":[\"GET\",\"PATCH\",\"PUT\",\"DELETE\"],\"controller\":\"\",\"actions\":[\"show\",\"update\",\"update\",\"destroy\"],\"countChildrenNodes\":0,\"childrenNodes\":[{\"uriPattern\":\"/customer/:customer_id/invoices/:id/edit/\",\"verbs\":[\"GET\"],\"controller\":\"edit_customer_invoice\",\"actions\":[\"edit\"],\"countChildrenNodes\":0,\"childrenNodes\":[],\"nodeUri\":\"edit\"}],\"nodeUri\":\":id\"}],\"nodeUri\":\"invoices\"},{\"uriPattern\":\"/customer/:customer_id/orders/\",\"verbs\":[\"GET\",\"POST\"],\"controller\":\"\",\"actions\":[\"index\",\"create\"],\"countChildrenNodes\":0,\"childrenNodes\":[{\"uriPattern\":\"/customer/:customer_id/orders/new/\",\"verbs\":[\"GET\"],\"controller\":\"new_customer_order\",\"actions\":[\"new\"],\"countChildrenNodes\":0,\"childrenNodes\":[],\"nodeUri\":\"new\"},{\"uriPattern\":\"/customer/:customer_id/orders/:id/\",\"verbs\":[\"GET\",\"PATCH\",\"PUT\",\"DELETE\"],\"controller\":\"\",\"actions\":[\"show\",\"update\",\"update\",\"destroy\"],\"countChildrenNodes\":0,\"childrenNodes\":[{\"uriPattern\":\"/customer/:customer_id/orders/:id/edit/\",\"verbs\":[\"GET\"],\"controller\":\"edit_customer_order\",\"actions\":[\"edit\"],\"countChildrenNodes\":0,\"childrenNodes\":[],\"nodeUri\":\"edit\"}],\"nodeUri\":\":id\"}],\"nodeUri\":\"orders\"}],\"nodeUri\":\":customer_id\"},{\"uriPattern\":\"/customer/new/\",\"verbs\":[\"GET\"],\"controller\":\"new_customer\",\"actions\":[\"new\"],\"countChildrenNodes\":0,\"childrenNodes\":[],\"nodeUri\":\"new\"},{\"uriPattern\":\"/customer/:id/\",\"verbs\":[\"GET\",\"PATCH\",\"PUT\",\"DELETE\"],\"controller\":\"\",\"actions\":[\"show\",\"update\",\"update\",\"destroy\"],\"countChildrenNodes\":0,\"childrenNodes\":[{\"uriPattern\":\"/customer/:id/edit/\",\"verbs\":[\"GET\"],\"controller\":\"edit_customer\",\"actions\":[\"edit\"],\"countChildrenNodes\":0,\"childrenNodes\":[],\"nodeUri\":\"edit\"}],\"nodeUri\":\":id\"}],\"nodeUri\":\"customer\"},{\"uriPattern\":\"/rails_notebook/\",\"verbs\":[\"\"],\"controller\":\"rails_notebook\",\"actions\":[\"\"],\"countChildrenNodes\":0,\"childrenNodes\":[],\"nodeUri\":\"rails_notebook\"},{\"uriPattern\":\"/rails/\",\"verbs\":[],\"controller\":null,\"actions\":[],\"countChildrenNodes\":0,\"childrenNodes\":[{\"uriPattern\":\"/rails/info/\",\"verbs\":[\"GET\"],\"controller\":\"rails_info\",\"actions\":[\"index\"],\"countChildrenNodes\":0,\"childrenNodes\":[{\"uriPattern\":\"/rails/info/properties/\",\"verbs\":[\"GET\"],\"controller\":\"rails_info_properties\",\"actions\":[\"properties\"],\"countChildrenNodes\":0,\"childrenNodes\":[],\"nodeUri\":\"properties\"},{\"uriPattern\":\"/rails/info/routes/\",\"verbs\":[\"GET\"],\"controller\":\"rails_info_routes\",\"actions\":[\"routes\"],\"countChildrenNodes\":0,\"childrenNodes\":[],\"nodeUri\":\"routes\"}],\"nodeUri\":\"info\"},{\"uriPattern\":\"/rails/mailers/\",\"verbs\":[\"GET\"],\"controller\":\"rails_mailers\",\"actions\":[\"index\"],\"countChildrenNodes\":0,\"childrenNodes\":[{\"uriPattern\":\"/rails/mailers/*path/\",\"verbs\":[\"GET\"],\"controller\":\"\",\"actions\":[\"preview\"],\"countChildrenNodes\":0,\"childrenNodes\":[],\"nodeUri\":\"*path\"}],\"nodeUri\":\"mailers\"}],\"nodeUri\":\"rails\"}],\"nodeUri\":\"\"}} , document.getElementById( \"railsnb-70122109332780\" ) );\n",
       "            }); \n",
       "            </script>\n"
      ],
      "text/plain": [
       "#<ActionDispatch::Routing::RouteSet:0x007f8d26a292b0>"
      ]
     },
     "execution_count": 3,
     "metadata": {},
     "output_type": "execute_result"
    }
   ],
   "source": [
    "Rails.application.routes"
   ]
  },
  {
   "cell_type": "code",
   "execution_count": 4,
   "metadata": {
    "collapsed": false
   },
   "outputs": [
    {
     "data": {
      "text/html": [
       "            <div id=\"railsnb-70122079530700\"></div>\n",
       "            <script>\n",
       "            require([\"/kernelspecs/rails_notebook/rails_notebook.js\"] , function ( railsNB ) {\n",
       "                console.log( railsNB );\n",
       "                railsNB.renderSchema( [{\"table_name\":\"articles\",\"columns\":[[\"- id\",\"integer\"],[\"- title\",\"string\"],[\"- text\",\"text\"],[\"- created_at\",\"datetime\"],[\"- updated_at\",\"datetime\"]],\"arrowsTo\":[]},{\"table_name\":\"customers\",\"columns\":[[\"- id\",\"integer\"],[\"- name\",\"string\"],[\"- surname\",\"string\"],[\"- phoneNum\",\"string\"],[\"- address\",\"string\"],[\"- created_at\",\"datetime\"],[\"- updated_at\",\"datetime\"]],\"arrowsTo\":[]},{\"table_name\":\"schema_migrations\",\"columns\":[[\"- version\",\"string\"]],\"arrowsTo\":[]},{\"table_name\":\"products\",\"columns\":[[\"- id\",\"integer\"],[\"- name\",\"string\"],[\"- quantity\",\"integer\"],[\"- discount\",\"integer\"],[\"* order_id\",\"integer\"],[\"- created_at\",\"datetime\"],[\"- updated_at\",\"datetime\"]],\"arrowsTo\":[\"orders\"]},{\"table_name\":\"orders\",\"columns\":[[\"- id\",\"integer\"],[\"- order_date\",\"datetime\"],[\"- status\",\"string\"],[\"* customer_id\",\"integer\"],[\"- created_at\",\"datetime\"],[\"- updated_at\",\"datetime\"]],\"arrowsTo\":[\"customers\"]},{\"table_name\":\"comments\",\"columns\":[[\"- id\",\"integer\"],[\"- commenter\",\"string\"],[\"- body\",\"text\"],[\"* article_id\",\"integer\"],[\"* customer_id\",\"integer\"],[\"- created_at\",\"datetime\"],[\"- updated_at\",\"datetime\"]],\"arrowsTo\":[\"articles\",\"customers\"]},{\"table_name\":\"invoices\",\"columns\":[[\"- id\",\"integer\"],[\"- description\",\"string\"],[\"- price\",\"string\"],[\"* order_id\",\"integer\"],[\"* customer_id\",\"integer\"],[\"- created_at\",\"datetime\"],[\"- updated_at\",\"datetime\"]],\"arrowsTo\":[\"orders\",\"customers\"]}] , document.getElementById( \"railsnb-70122079530700\" ) );\n",
       "            }); \n",
       "            </script>\n"
      ],
      "text/plain": [
       "[\"articles\", \"comments\", \"customers\", \"invoices\", \"orders\", \"products\", \"schema_migrations\"]"
      ]
     },
     "execution_count": 4,
     "metadata": {},
     "output_type": "execute_result"
    }
   ],
   "source": [
    "ActiveRecord::Base.connection.tables"
   ]
  },
  {
   "cell_type": "code",
   "execution_count": 5,
   "metadata": {
    "collapsed": false
   },
   "outputs": [
    {
     "data": {
      "text/html": [
       "            <div id=\"railsnb-70122084535140\"></div>\n",
       "            <script>\n",
       "            require([\"/kernelspecs/rails_notebook/rails_notebook.js\"] , function ( railsNB ) {\n",
       "                console.log( railsNB );\n",
       "                railsNB.renderTableData( [\"Customer\",[\"id\",0,1,2,3,4,5,6,7,8,9,10,11,12,13,14],[\"name\",\"John\",\"Henry\",\"Jeremy\",\"Kelsey\",\"Genoveva\",\"Janel\",\"Lacey\",\"Brad\",\"Denver\",\"George\",\"Harry\",\"Stewart\",\"Michael\",\"Justin\",\"Catherine\"],[\"surname\",\"Smith\",\"Hendle\",\"Ford\",\"Jeanbart\",\"Pinner\",\"Chesney\",\"Blakso\",\"Smith\",\"Henderson\",\"Clint\",\"Jackson\",\"Nolan\",\"Henner\",\"Housten\",\"Samuels\"],[\"phoneNum\",\"0182736353\",\"0848782234\",\"0182736353\",\"0578123456\",\"0123456789\",\"0988726352\",\"0192827364\",\"0987654321\",\"0928374812\",\"0192837451\",\"0111625555\",\"0199998877\",\"0987678765\",\"0293844433\",\"0926633555\"],[\"address\",\"defaultAddress1111\",\"defaultAddress1112\",\"defaultAddress1113\",\"defaultAddress1114\",\"defaultAddress1115\",\"defaultAddress1116\",\"defaultAddress1117\",\"defaultAddress1118\",\"defaultAddress1119\",\"defaultAddress1141\",\"defaultAddress1131\",\"defaultAddress11221\",\"defaultAddress11121\",\"defaultAddress199\",\"defaultAddress1199\"],[\"created_at\",\"2008-11-11T00:00:00.000Z\",\"2008-11-11T00:00:00.000Z\",\"2008-11-11T00:00:00.000Z\",\"2008-11-11T00:00:00.000Z\",\"2008-11-11T00:00:00.000Z\",\"2008-11-11T00:00:00.000Z\",\"2008-11-11T00:00:00.000Z\",\"2008-11-11T00:00:00.000Z\",\"2008-11-11T00:00:00.000Z\",\"2008-11-11T00:00:00.000Z\",\"2008-11-11T00:00:00.000Z\",\"2008-11-11T00:00:00.000Z\",\"2008-11-11T00:00:00.000Z\",\"2008-11-11T00:00:00.000Z\",\"2008-11-11T00:00:00.000Z\"],[\"updated_at\",\"2008-11-11T00:00:00.000Z\",\"2008-11-11T00:00:00.000Z\",\"2008-11-11T00:00:00.000Z\",\"2008-11-11T00:00:00.000Z\",\"2008-11-11T00:00:00.000Z\",\"2008-11-11T00:00:00.000Z\",\"2008-11-11T00:00:00.000Z\",\"2008-11-11T00:00:00.000Z\",\"2008-11-11T00:00:00.000Z\",\"2008-11-11T00:00:00.000Z\",\"2008-11-11T00:00:00.000Z\",\"2008-11-11T00:00:00.000Z\",\"2008-11-11T00:00:00.000Z\",\"2008-11-11T00:00:00.000Z\",\"2008-11-11T00:00:00.000Z\"]] , document.getElementById( \"railsnb-70122084535140\" ) );\n",
       "            }); \n",
       "            </script>\n"
      ],
      "text/plain": [
       "#<ActiveRecord::Relation [#<Customer id: 0, name: \"John\", surname: \"Smith\", phoneNum: \"0182736353\", address: \"defaultAddress1111\", created_at: \"2008-11-11 00:00:00\", updated_at: \"2008-11-11 00:00:00\">, #<Customer id: 1, name: \"Henry\", surname: \"Hendle\", phoneNum: \"0848782234\", address: \"defaultAddress1112\", created_at: \"2008-11-11 00:00:00\", updated_at: \"2008-11-11 00:00:00\">, #<Customer id: 2, name: \"Jeremy\", surname: \"Ford\", phoneNum: \"0182736353\", address: \"defaultAddress1113\", created_at: \"2008-11-11 00:00:00\", updated_at: \"2008-11-11 00:00:00\">, #<Customer id: 3, name: \"Kelsey\", surname: \"Jeanbart\", phoneNum: \"0578123456\", address: \"defaultAddress1114\", created_at: \"2008-11-11 00:00:00\", updated_at: \"2008-11-11 00:00:00\">, #<Customer id: 4, name: \"Genoveva\", surname: \"Pinner\", phoneNum: \"0123456789\", address: \"defaultAddress1115\", created_at: \"2008-11-11 00:00:00\", updated_at: \"2008-11-11 00:00:00\">, #<Customer id: 5, name: \"Janel\", surname: \"Chesney\", phoneNum: \"0988726352\", address: \"defaultAddress1116\", created_at: \"2008-11-11 00:00:00\", updated_at: \"2008-11-11 00:00:00\">, #<Customer id: 6, name: \"Lacey\", surname: \"Blakso\", phoneNum: \"0192827364\", address: \"defaultAddress1117\", created_at: \"2008-11-11 00:00:00\", updated_at: \"2008-11-11 00:00:00\">, #<Customer id: 7, name: \"Brad\", surname: \"Smith\", phoneNum: \"0987654321\", address: \"defaultAddress1118\", created_at: \"2008-11-11 00:00:00\", updated_at: \"2008-11-11 00:00:00\">, #<Customer id: 8, name: \"Denver\", surname: \"Henderson\", phoneNum: \"0928374812\", address: \"defaultAddress1119\", created_at: \"2008-11-11 00:00:00\", updated_at: \"2008-11-11 00:00:00\">, #<Customer id: 9, name: \"George\", surname: \"Clint\", phoneNum: \"0192837451\", address: \"defaultAddress1141\", created_at: \"2008-11-11 00:00:00\", updated_at: \"2008-11-11 00:00:00\">, ...]>"
      ]
     },
     "execution_count": 5,
     "metadata": {},
     "output_type": "execute_result"
    }
   ],
   "source": [
    "Customer.all"
   ]
  },
  {
   "cell_type": "code",
   "execution_count": 6,
   "metadata": {
    "collapsed": false,
    "scrolled": true
   },
   "outputs": [
    {
     "data": {
      "text/html": [
       "            <svg id=\"70122078200500\" width=\"960\" height=\"600\"><g/></svg>\n",
       "            <script>\n",
       "                require([\"/kernelspecs/rails_notebook/rails_notebook.js\"], function ( railsNB ) {\n",
       "                    railsNB.renderBarChart( {\"Cancelled\":2,\"Delivered\":6,\"Pending\":7} , document.getElementById( \"70122078200500\" ) );\n",
       "                });\n",
       "            </script>\n"
      ],
      "text/plain": [
       "{\"Cancelled\"=>2, \"Delivered\"=>6, \"Pending\"=>7}"
      ]
     },
     "execution_count": 6,
     "metadata": {},
     "output_type": "execute_result"
    }
   ],
   "source": [
    "Order.group(:status).count"
   ]
  },
  {
   "cell_type": "code",
   "execution_count": 7,
   "metadata": {
    "collapsed": false
   },
   "outputs": [
    {
     "data": {
      "text/html": [
       "            <div id=\"json-70122128415800\"></div>\n",
       "            <script>\n",
       "                require([\"jquery\", \"/kernelspecs/rails_notebook/jquery.jsonview.js\"], function ($, jsonview) {\n",
       "                    $(\"#json-70122128415800\").JSONView( {\"id\":0,\"name\":\"John\",\"surname\":\"Smith\",\"phoneNum\":\"0182736353\",\"address\":\"defaultAddress1111\",\"created_at\":\"2008-11-11T00:00:00.000Z\",\"updated_at\":\"2008-11-11T00:00:00.000Z\"} );\n",
       "                });\n",
       "            </script>\n"
      ],
      "text/plain": [
       "\"{\\\"id\\\":0,\\\"name\\\":\\\"John\\\",\\\"surname\\\":\\\"Smith\\\",\\\"phoneNum\\\":\\\"0182736353\\\",\\\"address\\\":\\\"defaultAddress1111\\\",\\\"created_at\\\":\\\"2008-11-11T00:00:00.000Z\\\",\\\"updated_at\\\":\\\"2008-11-11T00:00:00.000Z\\\"}\""
      ]
     },
     "execution_count": 7,
     "metadata": {},
     "output_type": "execute_result"
    }
   ],
   "source": [
    "Customer.find(0).to_json"
   ]
  }
 ],
 "metadata": {
  "kernelspec": {
   "display_name": "Rails TestApp::Application",
   "language": "ruby",
   "name": "rails_notebook"
  },
  "language_info": {
   "file_extension": ".rb",
   "mimetype": "application/x-ruby",
   "name": "ruby",
   "version": "2.2.1"
  }
 },
 "nbformat": 4,
 "nbformat_minor": 0
}
