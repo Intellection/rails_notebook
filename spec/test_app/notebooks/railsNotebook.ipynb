{
 "cells": [
  {
   "cell_type": "code",
   "execution_count": 1,
   "metadata": {
    "collapsed": false
   },
   "outputs": [
    {
     "data": {
      "text/html": [
       "            <div id=\"hash-70199316912500\"></div>\n",
       "            <script>\n",
       "                require([\"jquery\", \"/kernelspecs/rails_notebook/jquery.jsonview.js\"], function($, jsonview) {\n",
       "                    $(\"#hash-70199316912500\").JSONView( {\"two\":2,\"three\":3,\"five\":\"five\"} );\n",
       "                });\n",
       "            </script>\n"
      ],
      "text/plain": [
       "{\"two\"=>2, \"three\"=>3, \"five\"=>\"five\"}"
      ]
     },
     "execution_count": 1,
     "metadata": {},
     "output_type": "execute_result"
    }
   ],
   "source": [
    "# Printing a hash\n",
    "json = { \"two\" => 2 , \"three\" => 3 , \"five\" => \"five\" }"
   ]
  },
  {
   "cell_type": "code",
   "execution_count": 2,
   "metadata": {
    "collapsed": false
   },
   "outputs": [
    {
     "data": {
      "text/plain": [
       "[2, 3, 4, 5, 6, nil]"
      ]
     },
     "execution_count": 2,
     "metadata": {},
     "output_type": "execute_result"
    }
   ],
   "source": [
    "# Printing an array\n",
    "nick = [ 2, 3, 4, 5, 6 , nil ]"
   ]
  },
  {
   "cell_type": "code",
   "execution_count": 3,
   "metadata": {
    "collapsed": false
   },
   "outputs": [
    {
     "data": {
      "text/plain": [
       "\"{\\\"cust_id\\\":\\\"1\\\",\\\"cust_name\\\":\\\"John\\\",\\\"cust_addr\\\":\\\"Wisdom Apartments, Ludhiya\\\"}\""
      ]
     },
     "execution_count": 3,
     "metadata": {},
     "output_type": "execute_result"
    }
   ],
   "source": [
    "class Customer\n",
    "   @@no_of_customers=0\n",
    "   def initialize(id, name, addr)\n",
    "      @cust_id=id\n",
    "      @cust_name=name\n",
    "      @cust_addr=addr\n",
    "   end\n",
    "end\n",
    "\n",
    "cust1=Customer.new(\"1\", \"John\", \"Wisdom Apartments, Ludhiya\")\n",
    "cust2=Customer.new(\"2\", \"Poul\", \"New Empire road, Khandala\")\n",
    "cust1.to_json"
   ]
  },
  {
   "cell_type": "code",
   "execution_count": 1,
   "metadata": {
    "collapsed": false
   },
   "outputs": [
    {
     "data": {
      "text/html": [
       "            <svg width=960 height=600><g/></svg>\n",
       "            <!--<script src=\"/kernelspecs/rails_notebook/renderRoutes.js\"></script>-->\n",
       "            <script>\n",
       "            require([\"jquery\", \"/kernelspecs/rails_notebook/jquery.tipsy.js\", \"/kernelspecs/rails_notebook/dagre-d3.js\", \"/kernelspecs/rails_notebook/d3.js\"], \n",
       "                    function ( $, tipsy , dagreD3 , d3 ) {\n",
       "                var routeTree = {\"headNode\":{\"uriPattern\":\"/\",\"verbs\":[],\"controller\":null,\"actions\":[],\"countChildrenNodes\":0,\"childrenNodes\":[{\"uriPattern\":\"/welcome/\",\"verbs\":[],\"controller\":null,\"actions\":[],\"countChildrenNodes\":0,\"childrenNodes\":[{\"uriPattern\":\"/welcome/index/\",\"verbs\":[\"GET\"],\"controller\":\"welcome_index\",\"actions\":[\"index\"],\"countChildrenNodes\":0,\"childrenNodes\":[],\"nodeUri\":\"index\"}],\"nodeUri\":\"welcome\"},{\"uriPattern\":\"/articles/\",\"verbs\":[\"GET\",\"POST\"],\"controller\":\"\",\"actions\":[\"index\",\"create\"],\"countChildrenNodes\":0,\"childrenNodes\":[{\"uriPattern\":\"/articles/:article_id/\",\"verbs\":[],\"controller\":null,\"actions\":[],\"countChildrenNodes\":0,\"childrenNodes\":[{\"uriPattern\":\"/articles/:article_id/comments/\",\"verbs\":[\"GET\",\"POST\"],\"controller\":\"\",\"actions\":[\"index\",\"create\"],\"countChildrenNodes\":0,\"childrenNodes\":[{\"uriPattern\":\"/articles/:article_id/comments/new/\",\"verbs\":[\"GET\"],\"controller\":\"new_article_comment\",\"actions\":[\"new\"],\"countChildrenNodes\":0,\"childrenNodes\":[],\"nodeUri\":\"new\"},{\"uriPattern\":\"/articles/:article_id/comments/:id/\",\"verbs\":[\"GET\",\"PATCH\",\"PUT\",\"DELETE\"],\"controller\":\"\",\"actions\":[\"show\",\"update\",\"update\",\"destroy\"],\"countChildrenNodes\":0,\"childrenNodes\":[{\"uriPattern\":\"/articles/:article_id/comments/:id/edit/\",\"verbs\":[\"GET\"],\"controller\":\"edit_article_comment\",\"actions\":[\"edit\"],\"countChildrenNodes\":0,\"childrenNodes\":[],\"nodeUri\":\"edit\"}],\"nodeUri\":\":id\"}],\"nodeUri\":\"comments\"}],\"nodeUri\":\":article_id\"},{\"uriPattern\":\"/articles/new/\",\"verbs\":[\"GET\"],\"controller\":\"new_article\",\"actions\":[\"new\"],\"countChildrenNodes\":0,\"childrenNodes\":[],\"nodeUri\":\"new\"},{\"uriPattern\":\"/articles/:id/\",\"verbs\":[\"GET\",\"PATCH\",\"PUT\",\"DELETE\"],\"controller\":\"\",\"actions\":[\"show\",\"update\",\"update\",\"destroy\"],\"countChildrenNodes\":0,\"childrenNodes\":[{\"uriPattern\":\"/articles/:id/edit/\",\"verbs\":[\"GET\"],\"controller\":\"edit_article\",\"actions\":[\"edit\"],\"countChildrenNodes\":0,\"childrenNodes\":[],\"nodeUri\":\"edit\"}],\"nodeUri\":\":id\"}],\"nodeUri\":\"articles\"},{\"uriPattern\":\"/rails_notebook/\",\"verbs\":[\"\"],\"controller\":\"rails_notebook\",\"actions\":[\"\"],\"countChildrenNodes\":0,\"childrenNodes\":[],\"nodeUri\":\"rails_notebook\"},{\"uriPattern\":\"/rails/\",\"verbs\":[],\"controller\":null,\"actions\":[],\"countChildrenNodes\":0,\"childrenNodes\":[{\"uriPattern\":\"/rails/info/\",\"verbs\":[\"GET\"],\"controller\":\"rails_info\",\"actions\":[\"index\"],\"countChildrenNodes\":0,\"childrenNodes\":[{\"uriPattern\":\"/rails/info/properties/\",\"verbs\":[\"GET\"],\"controller\":\"rails_info_properties\",\"actions\":[\"properties\"],\"countChildrenNodes\":0,\"childrenNodes\":[],\"nodeUri\":\"properties\"},{\"uriPattern\":\"/rails/info/routes/\",\"verbs\":[\"GET\"],\"controller\":\"rails_info_routes\",\"actions\":[\"routes\"],\"countChildrenNodes\":0,\"childrenNodes\":[],\"nodeUri\":\"routes\"}],\"nodeUri\":\"info\"},{\"uriPattern\":\"/rails/mailers/\",\"verbs\":[\"GET\"],\"controller\":\"rails_mailers\",\"actions\":[\"index\"],\"countChildrenNodes\":0,\"childrenNodes\":[{\"uriPattern\":\"/rails/mailers/*path/\",\"verbs\":[\"GET\"],\"controller\":\"\",\"actions\":[\"preview\"],\"countChildrenNodes\":0,\"childrenNodes\":[],\"nodeUri\":\"*path\"}],\"nodeUri\":\"mailers\"}],\"nodeUri\":\"rails\"}],\"nodeUri\":\"\"}};\n",
       "                var g = new dagreD3.graphlib.Graph().setGraph({}).setDefaultEdgeLabel(function() { return {}; });\n",
       "                console.log( routeTree );\n",
       "\n",
       "                // Rendering the graph\n",
       "                var buildOutput = function myself( g, thisNode, nodeNumber, i ){\n",
       "                    if ( nodeNumber == 0 ) {\n",
       "                        thisNode.label = thisNode.nodeUri + \"/\";\n",
       "                        g.setNode( 0 , thisNode );\n",
       "                    }\n",
       "                    for ( c in thisNode.childrenNodes ){\n",
       "                        child = thisNode.childrenNodes[c];\n",
       "                        child.nodeNumber = nodeNumber + i;\n",
       "                        child.label = child.nodeUri + \"/\";\n",
       "                        child.class = ( child.verbs.length > 0 ?  \"type-hasDisplay\" : \"type-noDisplay\" );\n",
       "                        g.setNode( child.nodeNumber , child );\n",
       "                        g.setEdge( nodeNumber , child.nodeNumber );\n",
       "                        i++;\n",
       "                    }\n",
       "                    for ( c in thisNode.childrenNodes ){\n",
       "                        child = thisNode.childrenNodes[c];\n",
       "                        myself( g , child, child.nodeNumber,  i);\n",
       "                        i++;\n",
       "                    }\n",
       "                    return i;\n",
       "                }\n",
       "                buildOutput( g , routeTree.headNode, 0 , 1 )\n",
       "                \n",
       "                // DagreD3 code to display graph\n",
       "                var render  = new dagreD3.render(); // Create the renderer\n",
       "                g.nodes().forEach(function(v) {\n",
       "                  var node  = g.node(v);\n",
       "                  // Round the corners of the nodes\n",
       "                  node.rx   = node.ry = 5;\n",
       "                });\n",
       "                \n",
       "                // Set up an SVG group so that we can translate the final graph.\n",
       "                var svg     = d3.select(\"svg\"),\n",
       "                    inner   = svg.select(\"g\");\n",
       "\n",
       "                // Set up zoom support\n",
       "                var zoom = d3.behavior.zoom().on(\"zoom\", function() {\n",
       "                    inner.attr(\"transform\", \"translate(\" + d3.event.translate + \")\" + \"scale(\" + d3.event.scale + \")\");\n",
       "                });\n",
       "                svg.call(zoom);\n",
       "\n",
       "                // Simple function to style the tooltip for the given node.\n",
       "                var styleTooltip = function( node ) {\n",
       "                    if ( node.controller == \"/articles/:article_id/comments/new/\"){\n",
       "                        console.log( node );\n",
       "                    }\n",
       "                    return(\n",
       "                        node.verbs.length > 0?\n",
       "                            \"<h3>\"+node.uriPattern+\"</h3>\"      +\n",
       "                            \"<table border=1>\"                  +\n",
       "                                (node.controller? \"<tr><th>Controller:</th><td>\"+node.controller+\"</td></tr>\":\"\")+\n",
       "                                \"<tr><th>Verbs: </th>\"          +\n",
       "                                \"<td>\"+node.verbs.join(\"</td><td>\")+\"</td>\"+\n",
       "                                \"</tr>\"                         +\n",
       "                                \"<tr><th>Actions: </th>\"        +\n",
       "                                \"<td>\"+node.actions.join(\"</td><td>\")+\"</td>\"+\n",
       "                                \"</tr>\"                         +\n",
       "                            \"</table>\"\n",
       "                        :\n",
       "                            null\n",
       "                    ) \n",
       "                };\n",
       "                // Run the renderer. This is what draws the final graph.\n",
       "                render(inner, g);\n",
       "                inner.selectAll(\"g.node\")\n",
       "                  .attr(\"title\", function(v) { return styleTooltip( g.node(v) ) })\n",
       "                  .each(function(v) { $(this).tipsy({ gravity: \"w\", opacity: 1, html: true }); });\n",
       "                // Center the graph\n",
       "                var initialScale = 0.75;\n",
       "                zoom\n",
       "                  .translate([(svg.attr(\"width\") - g.graph().width * initialScale) / 2, 20])\n",
       "                  .scale(initialScale)\n",
       "                  .event(svg);\n",
       "                svg.attr('height', g.graph().height * initialScale + 40);\n",
       "            });\n",
       "            </script>\n"
      ],
      "text/plain": [
       "#<ActionDispatch::Routing::RouteSet:0x007fb7ab881728>"
      ]
     },
     "execution_count": 1,
     "metadata": {},
     "output_type": "execute_result"
    }
   ],
   "source": [
    "Rails.application.routes"
   ]
  },
  {
   "cell_type": "code",
   "execution_count": 23,
   "metadata": {
    "collapsed": false
   },
   "outputs": [
    {
     "data": {
      "text/plain": [
       "\"edit\""
      ]
     },
     "execution_count": 23,
     "metadata": {},
     "output_type": "execute_result"
    }
   ],
   "source": [
    "\"articles/:articel_id/comments/:id/edit/\".split(\"/\")[-1]"
   ]
  }
 ],
 "metadata": {
  "kernelspec": {
   "display_name": "Rails TestApp::Application",
   "language": "ruby",
   "name": "rails_notebook"
  },
  "language_info": {
   "file_extension": ".rb",
   "mimetype": "application/x-ruby",
   "name": "ruby",
   "version": "2.2.1"
  }
 },
 "nbformat": 4,
 "nbformat_minor": 0
}
