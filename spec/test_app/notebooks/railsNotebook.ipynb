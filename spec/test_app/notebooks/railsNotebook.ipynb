{
 "cells": [
  {
   "cell_type": "code",
   "execution_count": 3,
   "metadata": {
    "collapsed": false
   },
   "outputs": [
    {
     "data": {
      "text/html": [
       "            <div id=\"hash-70295618116840\"></div>\n",
       "            <script>\n",
       "                require([\"jquery\", \"/kernelspecs/rails_notebook/jquery.jsonview.js\"], function($, jsonview) {\n",
       "                    $(\"#hash-70295618116840\").JSONView( {\"two\":2,\"three\":3,\"five\":\"five\"} );\n",
       "                });\n",
       "            </script>\n"
      ],
      "text/plain": [
       "{\"two\"=>2, \"three\"=>3, \"five\"=>\"five\"}"
      ]
     },
     "execution_count": 3,
     "metadata": {},
     "output_type": "execute_result"
    }
   ],
   "source": [
    "# Printing a hash\n",
    "json = { \"two\" => 2 , \"three\" => 3 , \"five\" => \"five\" }"
   ]
  },
  {
   "cell_type": "code",
   "execution_count": 2,
   "metadata": {
    "collapsed": false
   },
   "outputs": [
    {
     "data": {
      "text/plain": [
       "[2, 3, 4, 5, 6, nil]"
      ]
     },
     "execution_count": 2,
     "metadata": {},
     "output_type": "execute_result"
    }
   ],
   "source": [
    "# Printing an array\n",
    "nick = [ 2, 3, 4, 5, 6 , nil ]"
   ]
  },
  {
   "cell_type": "code",
   "execution_count": 3,
   "metadata": {
    "collapsed": false
   },
   "outputs": [
    {
     "data": {
      "text/html": [
       "            <div id=\"hash-70109345136100\"></div>\n",
       "            <script>\n",
       "                require([\"jquery\", \"/kernelspecs/rails_notebook/jquery.jsonview.js\"], function($, jsonview) {\n",
       "                    $(\"#hash-70109345136100\").JSONView( {\"cust_id\":\"2\",\"cust_name\":\"Poul\",\"cust_addr\":\"New Empire road, Khandala\"} );\n",
       "                });\n",
       "            </script>\n"
      ],
      "text/plain": [
       "#<Customer:0x007f8735397bc8 @cust_id=\"2\", @cust_name=\"Poul\", @cust_addr=\"New Empire road, Khandala\">"
      ]
     },
     "execution_count": 3,
     "metadata": {},
     "output_type": "execute_result"
    }
   ],
   "source": [
    "class Customer\n",
    "   @@no_of_customers=0\n",
    "   def initialize(id, name, addr)\n",
    "      @cust_id=id\n",
    "      @cust_name=name\n",
    "      @cust_addr=addr\n",
    "   end\n",
    "end\n",
    "\n",
    "cust1=Customer.new(\"1\", \"John\", \"Wisdom Apartments, Ludhiya\")\n",
    "cust2=Customer.new(\"2\", \"Poul\", \"New Empire road, Khandala\")"
   ]
  },
  {
   "cell_type": "code",
   "execution_count": 1,
   "metadata": {
    "collapsed": false
   },
   "outputs": [
    {
     "name": "stdout",
     "output_type": "stream",
     "text": [
      "====================NODE====================\n",
      "/\n",
      "[\"GET\"]\n",
      "Default\n",
      "[\"index\"]\n",
      "============================================\n",
      "====================NODE====================\n",
      "/\n",
      "[]\n",
      "\n",
      "[]\n",
      "============================================\n",
      "====================NODE====================\n",
      "/welcome/\n",
      "[]\n",
      "\n",
      "[]\n",
      "============================================\n",
      "====================NODE====================\n",
      "/welcome/index/\n",
      "[\"GET\"]\n",
      "welcome_index\n",
      "[\"index\"]\n",
      "============================================\n",
      "====================NODE====================\n",
      "/articles/\n",
      "[\"GET\", \"POST\"]\n",
      "\n",
      "[\"index\", \"create\"]\n",
      "============================================\n",
      "====================NODE====================\n",
      "/articles/:article_id/\n",
      "[]\n",
      "\n",
      "[]\n",
      "============================================\n",
      "====================NODE====================\n",
      "/articles/:article_id/comments/\n",
      "[\"GET\", \"POST\"]\n",
      "\n",
      "[\"index\", \"create\"]\n",
      "============================================\n",
      "====================NODE====================\n",
      "/articles/:article_id/comments/new/\n",
      "[\"GET\"]\n",
      "new_article_comment\n",
      "[\"new\"]\n",
      "============================================\n",
      "====================NODE====================\n",
      "/articles/:article_id/comments/:id/\n",
      "[\"GET\", \"PATCH\", \"PUT\", \"DELETE\"]\n",
      "\n",
      "[\"show\", \"update\", \"update\", \"destroy\"]\n",
      "============================================\n",
      "====================NODE====================\n",
      "/articles/:article_id/comments/:id/edit/\n",
      "[\"GET\"]\n",
      "edit_article_comment\n",
      "[\"edit\"]\n",
      "============================================\n",
      "====================NODE====================\n",
      "/articles/new/\n",
      "[\"GET\"]\n",
      "new_article\n",
      "[\"new\"]\n",
      "============================================\n",
      "====================NODE====================\n",
      "/articles/:id/\n",
      "[\"GET\", \"PATCH\", \"PUT\", \"DELETE\"]\n",
      "\n",
      "[\"show\", \"update\", \"update\", \"destroy\"]\n",
      "============================================\n",
      "====================NODE====================\n",
      "/articles/:id/edit/\n",
      "[\"GET\"]\n",
      "edit_article\n",
      "[\"edit\"]\n",
      "============================================\n",
      "====================NODE====================\n",
      "/rails_notebook/\n",
      "[\"\"]\n",
      "rails_notebook\n",
      "[\"\"]\n",
      "============================================\n",
      "====================NODE====================\n",
      "/rails/\n",
      "[]\n",
      "\n",
      "[]\n",
      "============================================\n",
      "====================NODE====================\n",
      "/rails/info/\n",
      "[\"GET\"]\n",
      "rails_info\n",
      "[\"index\"]\n",
      "============================================\n",
      "====================NODE====================\n",
      "/rails/info/properties/\n",
      "[\"GET\"]\n",
      "rails_info_properties\n",
      "[\"properties\"]\n",
      "============================================\n",
      "====================NODE====================\n",
      "/rails/info/routes/\n",
      "[\"GET\"]\n",
      "rails_info_routes\n",
      "[\"routes\"]\n",
      "============================================\n",
      "====================NODE====================\n",
      "/rails/mailers/\n",
      "[\"GET\"]\n",
      "rails_mailers\n",
      "[\"index\"]\n",
      "============================================\n",
      "====================NODE====================\n",
      "/rails/mailers/*path/\n",
      "[\"GET\"]\n",
      "\n",
      "[\"preview\"]\n",
      "============================================\n"
     ]
    },
    {
     "data": {
      "text/html": [
       "            <svg width=650 height=680>\n",
       "                <!--<div id=\"hash-70295622357440\"/>-->\n",
       "                <g transform=\"translate(20,20)\" id=\"hash-70295622357440\"/>\n",
       "            </svg>\n",
       "            <script>\n",
       "                require([ \"jquery\" , \"/kernelspecs/rails_notebook/d3.min.js\", \"/kernelspecs/rails_notebook/dagre-d3.js\"], function($, d3, dagreD3) {\n",
       "                    // Create a new directed graph\n",
       "var g = new dagreD3.Digraph();\n",
       "\n",
       "// Add nodes to the graph. The first argument is the node id. The second is\n",
       "// metadata about the node. In this case we're going to add labels to each of\n",
       "// our nodes.\n",
       "g.addNode(\"kspacey\",    { label: \"Kevin Spacey\" });\n",
       "g.addNode(\"swilliams\",  { label: \"Saul Williams\" });\n",
       "g.addNode(\"bpitt\",      { label: \"Brad Pitt\" });\n",
       "g.addNode(\"hford\",      { label: \"Harrison Ford\" });\n",
       "g.addNode(\"lwilson\",    { label: \"Luke Wilson\" });\n",
       "g.addNode(\"kbacon\",     { label: \"Kevin Bacon\" });\n",
       "\n",
       "// Add edges to the graph. The first argument is the edge id. Here we use null\n",
       "// to indicate that an arbitrary edge id can be assigned automatically. The\n",
       "// second argument is the source of the edge. The third argument is the target\n",
       "// of the edge. The last argument is the edge metadata.\n",
       "g.addEdge(null, \"kspacey\",   \"swilliams\", { label: \"K-PAX\" });\n",
       "g.addEdge(null, \"swilliams\", \"kbacon\",    { label: \"These Vagabond Shoes\" });\n",
       "g.addEdge(null, \"bpitt\",     \"kbacon\",    { label: \"Sleepers\" });\n",
       "g.addEdge(null, \"hford\",     \"lwilson\",   { label: \"Anchorman 2\" });\n",
       "g.addEdge(null, \"lwilson\",   \"kbacon\",    { label: \"Telling Lies in America\" });\n",
       "\n",
       "                //var html = \"<svg width=650 height=680><g transform=\"translate(20,20)\"/></svg>\"\n",
       "\n",
       "                    $(\"#hash-70295622357440\").append( \"html\" )\n",
       "                });\n",
       "            </script>\n"
      ],
      "text/plain": [
       "#<ActionDispatch::Routing::RouteSet:0x007fddf3332380>"
      ]
     },
     "execution_count": 1,
     "metadata": {},
     "output_type": "execute_result"
    }
   ],
   "source": [
    "Rails.application.routes"
   ]
  },
  {
   "cell_type": "code",
   "execution_count": null,
   "metadata": {
    "collapsed": false
   },
   "outputs": [],
   "source": [
    "\"abc\" == \"abc\""
   ]
  }
 ],
 "metadata": {
  "kernelspec": {
   "display_name": "Rails TestApp::Application",
   "language": "ruby",
   "name": "rails_notebook"
  },
  "language_info": {
   "file_extension": ".rb",
   "mimetype": "application/x-ruby",
   "name": "ruby",
   "version": "2.2.1"
  }
 },
 "nbformat": 4,
 "nbformat_minor": 0
}
