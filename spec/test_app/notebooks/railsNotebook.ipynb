{
 "cells": [
  {
   "cell_type": "code",
   "execution_count": 1,
   "metadata": {
    "collapsed": false
   },
   "outputs": [
    {
     "data": {
      "text/html": [
       "            <div id=\"hash-70199316912500\"></div>\n",
       "            <script>\n",
       "                require([\"jquery\", \"/kernelspecs/rails_notebook/jquery.jsonview.js\"], function($, jsonview) {\n",
       "                    $(\"#hash-70199316912500\").JSONView( {\"two\":2,\"three\":3,\"five\":\"five\"} );\n",
       "                });\n",
       "            </script>\n"
      ],
      "text/plain": [
       "{\"two\"=>2, \"three\"=>3, \"five\"=>\"five\"}"
      ]
     },
     "execution_count": 1,
     "metadata": {},
     "output_type": "execute_result"
    }
   ],
   "source": [
    "# Printing a hash\n",
    "json = { \"two\" => 2 , \"three\" => 3 , \"five\" => \"five\" }"
   ]
  },
  {
   "cell_type": "code",
   "execution_count": 2,
   "metadata": {
    "collapsed": false
   },
   "outputs": [
    {
     "data": {
      "text/plain": [
       "[2, 3, 4, 5, 6, nil]"
      ]
     },
     "execution_count": 2,
     "metadata": {},
     "output_type": "execute_result"
    }
   ],
   "source": [
    "# Printing an array\n",
    "nick = [ 2, 3, 4, 5, 6 , nil ]"
   ]
  },
  {
   "cell_type": "code",
   "execution_count": 3,
   "metadata": {
    "collapsed": false
   },
   "outputs": [
    {
     "data": {
      "text/plain": [
       "\"{\\\"cust_id\\\":\\\"1\\\",\\\"cust_name\\\":\\\"John\\\",\\\"cust_addr\\\":\\\"Wisdom Apartments, Ludhiya\\\"}\""
      ]
     },
     "execution_count": 3,
     "metadata": {},
     "output_type": "execute_result"
    }
   ],
   "source": [
    "class Customer\n",
    "   @@no_of_customers=0\n",
    "   def initialize(id, name, addr)\n",
    "      @cust_id=id\n",
    "      @cust_name=name\n",
    "      @cust_addr=addr\n",
    "   end\n",
    "end\n",
    "\n",
    "cust1=Customer.new(\"1\", \"John\", \"Wisdom Apartments, Ludhiya\")\n",
    "cust2=Customer.new(\"2\", \"Poul\", \"New Empire road, Khandala\")\n",
    "cust1.to_json"
   ]
  },
  {
   "cell_type": "code",
   "execution_count": 1,
   "metadata": {
    "collapsed": false
   },
   "outputs": [
    {
     "data": {
      "text/html": [
       "            <svg width=960 height=600><g/></svg>\n",
       "            <!--<script src=\"/kernelspecs/rails_notebook/renderRoutes.js\"></script>-->\n",
       "            <script>\n",
       "            require([\"jquery\", \"/kernelspecs/rails_notebook/dagre-d3.js\", \"/kernelspecs/rails_notebook/d3.js\"], function ($, dagreD3 , d3 ) {\n",
       "            routeTree = {\"headNode\":{\"uriPattern\":\"/\",\"verbs\":[\"GET\",\"GET\",\"POST\",\"GET\",\"GET\",\"GET\",\"PATCH\",\"PUT\",\"DELETE\",\"GET\",\"POST\",\"GET\",\"GET\",\"GET\",\"PATCH\",\"PUT\",\"DELETE\",\"\",\"GET\",\"GET\",\"GET\",\"GET\",\"GET\"],\"controller\":\"\",\"actions\":[\"index\",\"index\",\"create\",\"new\",\"edit\",\"show\",\"update\",\"update\",\"destroy\",\"index\",\"create\",\"new\",\"edit\",\"show\",\"update\",\"update\",\"destroy\",\"\",\"properties\",\"routes\",\"index\",\"index\",\"preview\"],\"countChildrenNodes\":0,\"childrenNodes\":[{\"uriPattern\":\"/welcome/\",\"verbs\":[],\"controller\":null,\"actions\":[],\"countChildrenNodes\":0,\"childrenNodes\":[{\"uriPattern\":\"/welcome/index/\",\"verbs\":[\"GET\"],\"controller\":\"welcome_index\",\"actions\":[\"index\"],\"countChildrenNodes\":0,\"childrenNodes\":[]}]},{\"uriPattern\":\"/articles/\",\"verbs\":[\"GET\",\"POST\"],\"controller\":\"\",\"actions\":[\"index\",\"create\"],\"countChildrenNodes\":0,\"childrenNodes\":[{\"uriPattern\":\"/articles/:article_id/\",\"verbs\":[],\"controller\":null,\"actions\":[],\"countChildrenNodes\":0,\"childrenNodes\":[{\"uriPattern\":\"/articles/:article_id/comments/\",\"verbs\":[\"GET\",\"POST\"],\"controller\":\"\",\"actions\":[\"index\",\"create\"],\"countChildrenNodes\":0,\"childrenNodes\":[{\"uriPattern\":\"/articles/:article_id/comments/new/\",\"verbs\":[\"GET\"],\"controller\":\"new_article_comment\",\"actions\":[\"new\"],\"countChildrenNodes\":0,\"childrenNodes\":[]},{\"uriPattern\":\"/articles/:article_id/comments/:id/\",\"verbs\":[\"GET\",\"PATCH\",\"PUT\",\"DELETE\"],\"controller\":\"\",\"actions\":[\"show\",\"update\",\"update\",\"destroy\"],\"countChildrenNodes\":0,\"childrenNodes\":[{\"uriPattern\":\"/articles/:article_id/comments/:id/edit/\",\"verbs\":[\"GET\"],\"controller\":\"edit_article_comment\",\"actions\":[\"edit\"],\"countChildrenNodes\":0,\"childrenNodes\":[]}]}]}]},{\"uriPattern\":\"/articles/new/\",\"verbs\":[\"GET\"],\"controller\":\"new_article\",\"actions\":[\"new\"],\"countChildrenNodes\":0,\"childrenNodes\":[]},{\"uriPattern\":\"/articles/:id/\",\"verbs\":[\"GET\",\"PATCH\",\"PUT\",\"DELETE\"],\"controller\":\"\",\"actions\":[\"show\",\"update\",\"update\",\"destroy\"],\"countChildrenNodes\":0,\"childrenNodes\":[{\"uriPattern\":\"/articles/:id/edit/\",\"verbs\":[\"GET\"],\"controller\":\"edit_article\",\"actions\":[\"edit\"],\"countChildrenNodes\":0,\"childrenNodes\":[]}]}]},{\"uriPattern\":\"/rails_notebook/\",\"verbs\":[\"\"],\"controller\":\"rails_notebook\",\"actions\":[\"\"],\"countChildrenNodes\":0,\"childrenNodes\":[]},{\"uriPattern\":\"/rails/\",\"verbs\":[],\"controller\":null,\"actions\":[],\"countChildrenNodes\":0,\"childrenNodes\":[{\"uriPattern\":\"/rails/info/\",\"verbs\":[\"GET\"],\"controller\":\"rails_info\",\"actions\":[\"index\"],\"countChildrenNodes\":0,\"childrenNodes\":[{\"uriPattern\":\"/rails/info/properties/\",\"verbs\":[\"GET\"],\"controller\":\"rails_info_properties\",\"actions\":[\"properties\"],\"countChildrenNodes\":0,\"childrenNodes\":[]},{\"uriPattern\":\"/rails/info/routes/\",\"verbs\":[\"GET\"],\"controller\":\"rails_info_routes\",\"actions\":[\"routes\"],\"countChildrenNodes\":0,\"childrenNodes\":[]}]},{\"uriPattern\":\"/rails/mailers/\",\"verbs\":[\"GET\"],\"controller\":\"rails_mailers\",\"actions\":[\"index\"],\"countChildrenNodes\":0,\"childrenNodes\":[{\"uriPattern\":\"/rails/mailers/*path/\",\"verbs\":[\"GET\"],\"controller\":\"\",\"actions\":[\"preview\"],\"countChildrenNodes\":0,\"childrenNodes\":[]}]}]}]}};\n",
       "\n",
       "            var buildOutput = function myself( g, thisNode, nodeNumber, i ){\n",
       "                if ( nodeNumber == 0 ) {\n",
       "                    g.setNode( 0 , {label:thisNode.uriPattern , class:\"type-TK\" } );\n",
       "                }\n",
       "                for ( c in thisNode.childrenNodes ){\n",
       "                    child = thisNode.childrenNodes[c];\n",
       "                    child.nodeNumber = nodeNumber + i;\n",
       "                    g.setNode( child.nodeNumber , {label:child.uriPattern , class:\"type-TK\" } );\n",
       "                    g.setEdge( nodeNumber , child.nodeNumber );\n",
       "                    i++;\n",
       "                }\n",
       "                // for ( c in thisNode.childrenNodes ){\n",
       "                //     child = thisNode.childrenNodes[c];\n",
       "                //     i = myself( g , child, child.nodeNumber,  i);\n",
       "                // }\n",
       "            }\n",
       "            \n",
       "            var g = new dagreD3.graphlib.Graph()\n",
       "                            .setGraph({})\n",
       "                            .setDefaultEdgeLabel(function() { return {}; });\n",
       "\n",
       "\n",
       "            thisNode = routeTree.headNode;\n",
       "            buildOutput( g , thisNode, 0 , 1 )\n",
       "\n",
       "            g.nodes().forEach(function(v) {\n",
       "              var node = g.node(v);\n",
       "              // Round the corners of the nodes\n",
       "              node.rx = node.ry = 5;\n",
       "            });\n",
       "            \n",
       "            // Set up an SVG group so that we can translate the final graph.\n",
       "            var svg = d3.select(\"svg\"),\n",
       "                inner = svg.select(\"g\");\n",
       "\n",
       "            // Set up zoom support\n",
       "            var zoom = d3.behavior.zoom().on(\"zoom\", function() {\n",
       "                  inner.attr(\"transform\", \"translate(\" + d3.event.translate + \")\" +\n",
       "                                              \"scale(\" + d3.event.scale + \")\");\n",
       "                });\n",
       "            \n",
       "            svg.call(zoom);\n",
       "\n",
       "            // Create the renderer\n",
       "            var render = new dagreD3.render();\n",
       "\n",
       "            // Run the renderer. This is what draws the final graph.\n",
       "            render(d3.select(\"svg g\"), g);\n",
       "\n",
       "            // Center the graph\n",
       "            var xCenterOffset = (svg.attr(\"width\") - g.graph().width) / 2;\n",
       "            svgGroup.attr(\"transform\", \"translate(\" + xCenterOffset + \", 20)\");\n",
       "            svg.attr(\"height\", g.graph().height + 40);\n",
       "\n",
       "\n",
       "            });\n",
       "\n",
       "            </script>\n"
      ],
      "text/plain": [
       "#<ActionDispatch::Routing::RouteSet:0x007fc79d32eb48>"
      ]
     },
     "execution_count": 1,
     "metadata": {},
     "output_type": "execute_result"
    }
   ],
   "source": [
    "Rails.application.routes"
   ]
  },
  {
   "cell_type": "code",
   "execution_count": null,
   "metadata": {
    "collapsed": false
   },
   "outputs": [],
   "source": [
    "\"abc\" == \"abc\""
   ]
  }
 ],
 "metadata": {
  "kernelspec": {
   "display_name": "Rails TestApp::Application",
   "language": "ruby",
   "name": "rails_notebook"
  },
  "language_info": {
   "file_extension": ".rb",
   "mimetype": "application/x-ruby",
   "name": "ruby",
   "version": "2.2.1"
  }
 },
 "nbformat": 4,
 "nbformat_minor": 0
}
