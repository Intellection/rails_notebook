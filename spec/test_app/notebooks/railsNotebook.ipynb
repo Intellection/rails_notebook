{
 "cells": [
  {
   "cell_type": "code",
   "execution_count": 1,
   "metadata": {
    "collapsed": false
   },
   "outputs": [
    {
     "data": {
      "text/plain": [
       "{\"this\"=>\"this\", \"hash\"=>\"hash\", \"works\"=>[1, 2, 3, 4], \"well\"=>3, \"test\"=>nil, \"patients\"=>[#<Patient:0x007fb83a52b210 @pat_id=\"1\", @pat_name=\"John\", @pat_addr=\"Wisdom Apartments, Ludhiya\">, #<Patient:0x007fb83a52afe0 @pat_id=\"2\", @pat_name=\"Poul\", @pat_addr=\"New Empire road, Khandala\">]}"
      ]
     },
     "execution_count": 1,
     "metadata": {},
     "output_type": "execute_result"
    }
   ],
   "source": [
    "class Patient\n",
    "   def initialize(id, name, addr)\n",
    "      @pat_id=id\n",
    "      @pat_name=name\n",
    "      @pat_addr=addr\n",
    "   end\n",
    "end\n",
    "patient1 = Patient.new(\"1\", \"John\", \"Wisdom Apartments, Ludhiya\")\n",
    "patient2=Patient.new(\"2\", \"Poul\", \"New Empire road, Khandala\")\n",
    "hash = { \"this\"=>\"this\", \"hash\"=>\"hash\",\"works\"=>[1,2,3,4],\"well\"=>3,\"test\"=>nil, \"patients\"=>[patient1,patient2]}"
   ]
  },
  {
   "cell_type": "code",
   "execution_count": 2,
   "metadata": {
    "collapsed": false
   },
   "outputs": [
    {
     "data": {
      "text/html": [
       "            <div id=\"json-70214615008080\"></div>\n",
       "            <script>\n",
       "                require([\"jquery\", \"/kernelspecs/rails_notebook/jquery.jsonview.js\"], function ($, jsonview) {\n",
       "                    $(\"#json-70214615008080\").JSONView( {\"this\":\"this\",\"hash\":\"hash\",\"works\":[1,2,3,4],\"well\":3,\"test\":null,\"patients\":[{\"pat_id\":\"1\",\"pat_name\":\"John\",\"pat_addr\":\"Wisdom Apartments, Ludhiya\"},{\"pat_id\":\"2\",\"pat_name\":\"Poul\",\"pat_addr\":\"New Empire road, Khandala\"}]} );\n",
       "                });\n",
       "            </script>\n"
      ],
      "text/plain": [
       "\"{\\\"this\\\":\\\"this\\\",\\\"hash\\\":\\\"hash\\\",\\\"works\\\":[1,2,3,4],\\\"well\\\":3,\\\"test\\\":null,\\\"patients\\\":[{\\\"pat_id\\\":\\\"1\\\",\\\"pat_name\\\":\\\"John\\\",\\\"pat_addr\\\":\\\"Wisdom Apartments, Ludhiya\\\"},{\\\"pat_id\\\":\\\"2\\\",\\\"pat_name\\\":\\\"Poul\\\",\\\"pat_addr\\\":\\\"New Empire road, Khandala\\\"}]}\""
      ]
     },
     "execution_count": 2,
     "metadata": {},
     "output_type": "execute_result"
    }
   ],
   "source": [
    "hash.to_json"
   ]
  },
  {
   "cell_type": "code",
   "execution_count": 13,
   "metadata": {
    "collapsed": false
   },
   "outputs": [
    {
     "data": {
      "text/html": [
       "            <div id=\"railsnb-70318231430760\"></div>\n",
       "            <script>\n",
       "            require([\"/kernelspecs/rails_notebook/rails_notebook.js\"] , function ( railsNB ) {\n",
       "                railsNB.renderSchema( [{\"table_name\":\"articles\",\"columns\":[[\"- id\",\"integer\"],[\"- title\",\"string\"],[\"- text\",\"text\"],[\"- created_at\",\"datetime\"],[\"- updated_at\",\"datetime\"]],\"arrowsTo\":[]},{\"table_name\":\"customers\",\"columns\":[[\"- id\",\"integer\"],[\"- name\",\"string\"],[\"- surname\",\"string\"],[\"- phoneNum\",\"string\"],[\"- address\",\"string\"],[\"- created_at\",\"datetime\"],[\"- updated_at\",\"datetime\"]],\"arrowsTo\":[]},{\"table_name\":\"schema_migrations\",\"columns\":[[\"- version\",\"string\"]],\"arrowsTo\":[]},{\"table_name\":\"products\",\"columns\":[[\"- id\",\"integer\"],[\"- name\",\"string\"],[\"- quantity\",\"integer\"],[\"- discount\",\"integer\"],[\"* order_id\",\"integer\"],[\"- created_at\",\"datetime\"],[\"- updated_at\",\"datetime\"]],\"arrowsTo\":[\"orders\"]},{\"table_name\":\"orders\",\"columns\":[[\"- id\",\"integer\"],[\"- order_date\",\"datetime\"],[\"- status\",\"string\"],[\"* customer_id\",\"integer\"],[\"- created_at\",\"datetime\"],[\"- updated_at\",\"datetime\"]],\"arrowsTo\":[\"customers\"]},{\"table_name\":\"comments\",\"columns\":[[\"- id\",\"integer\"],[\"- commenter\",\"string\"],[\"- body\",\"text\"],[\"* article_id\",\"integer\"],[\"* customer_id\",\"integer\"],[\"- created_at\",\"datetime\"],[\"- updated_at\",\"datetime\"]],\"arrowsTo\":[\"articles\",\"customers\"]},{\"table_name\":\"invoices\",\"columns\":[[\"- id\",\"integer\"],[\"- description\",\"string\"],[\"- price\",\"string\"],[\"* order_id\",\"integer\"],[\"* customer_id\",\"integer\"],[\"- created_at\",\"datetime\"],[\"- updated_at\",\"datetime\"]],\"arrowsTo\":[\"orders\",\"customers\"]}] , document.getElementById( \"railsnb-70318231430760\" ) );\n",
       "            }); \n",
       "            </script>\n"
      ],
      "text/plain": [
       "[\"articles\", \"comments\", \"customers\", \"invoices\", \"orders\", \"products\", \"schema_migrations\"]"
      ]
     },
     "execution_count": 13,
     "metadata": {},
     "output_type": "execute_result"
    }
   ],
   "source": [
    "ActiveRecord::Base.connection.tables"
   ]
  },
  {
   "cell_type": "code",
   "execution_count": 16,
   "metadata": {
    "collapsed": false
   },
   "outputs": [
    {
     "data": {
      "text/html": [
       "            <div id=\"json-70318229062320\"></div>\n",
       "            <script>\n",
       "                require([\"jquery\", \"/kernelspecs/rails_notebook/jquery.jsonview.js\"], function ($, jsonview) {\n",
       "                    $(\"#json-70318229062320\").JSONView( [{\"id\":0,\"name\":\"John\",\"surname\":\"Smith\",\"phoneNum\":\"018-2736353\",\"address\":\"7848 Middle Acres, Soapweed, Northwest Territories, X7A-7P0, CA\",\"created_at\":\"2011-05-19T10:30:14.000Z\",\"updated_at\":\"2011-08-22T22:12:55.000Z\"},{\"id\":1,\"name\":\"Henry\",\"surname\":\"Hendle\",\"phoneNum\":\"084-8782234\",\"address\":\"4230 Cotton Dale, Fruitland, Yukon, Y2K-4B6, CA\",\"created_at\":\"2000-01-02T09:26:55.000Z\",\"updated_at\":\"2002-06-30T23:44:11.000Z\"},{\"id\":2,\"name\":\"Jeremy\",\"surname\":\"Ford\",\"phoneNum\":\"018-2736353\",\"address\":\"201 Round Nectar Street, Mesquite, Newfoundland, A1X-0D8, CA\",\"created_at\":\"1993-05-16T07:00:22.000Z\",\"updated_at\":\"2015-02-14T22:34:09.000Z\"},{\"id\":3,\"name\":\"Kelsey\",\"surname\":\"Jeanbart\",\"phoneNum\":\"057-8123456\",\"address\":\"3190 Colonial Bear Cove, Wagontire, New Brunswick, E9Z-8E6, CA\",\"created_at\":\"2003-04-02T05:33:41.000Z\",\"updated_at\":\"2006-07-23T21:58:33.000Z\"},{\"id\":4,\"name\":\"Genoveva\",\"surname\":\"Pinner\",\"phoneNum\":\"012-3456789\",\"address\":\"2145 Gentle View, Tuba City, Nova Scotia, B2D-2F5, CA\",\"created_at\":\"2005-05-21T13:32:49.000Z\",\"updated_at\":\"2015-12-01T00:13:15.000Z\"}] );\n",
       "                });\n",
       "            </script>\n"
      ],
      "text/plain": [
       "\"[{\\\"id\\\":0,\\\"name\\\":\\\"John\\\",\\\"surname\\\":\\\"Smith\\\",\\\"phoneNum\\\":\\\"018-2736353\\\",\\\"address\\\":\\\"7848 Middle Acres, Soapweed, Northwest Territories, X7A-7P0, CA\\\",\\\"created_at\\\":\\\"2011-05-19T10:30:14.000Z\\\",\\\"updated_at\\\":\\\"2011-08-22T22:12:55.000Z\\\"},{\\\"id\\\":1,\\\"name\\\":\\\"Henry\\\",\\\"surname\\\":\\\"Hendle\\\",\\\"phoneNum\\\":\\\"084-8782234\\\",\\\"address\\\":\\\"4230 Cotton Dale, Fruitland, Yukon, Y2K-4B6, CA\\\",\\\"created_at\\\":\\\"2000-01-02T09:26:55.000Z\\\",\\\"updated_at\\\":\\\"2002-06-30T23:44:11.000Z\\\"},{\\\"id\\\":2,\\\"name\\\":\\\"Jeremy\\\",\\\"surname\\\":\\\"Ford\\\",\\\"phoneNum\\\":\\\"018-2736353\\\",\\\"address\\\":\\\"201 Round Nectar Street, Mesquite, Newfoundland, A1X-0D8, CA\\\",\\\"created_at\\\":\\\"1993-05-16T07:00:22.000Z\\\",\\\"updated_at\\\":\\\"2015-02-14T22:34:09.000Z\\\"},{\\\"id\\\":3,\\\"name\\\":\\\"Kelsey\\\",\\\"surname\\\":\\\"Jeanbart\\\",\\\"phoneNum\\\":\\\"057-8123456\\\",\\\"address\\\":\\\"3190 Colonial Bear Cove, Wagontire, New Brunswick, E9Z-8E6, CA\\\",\\\"created_at\\\":\\\"2003-04-02T05:33:41.000Z\\\",\\\"updated_at\\\":\\\"2006-07-23T21:58:33.000Z\\\"},{\\\"id\\\":4,\\\"name\\\":\\\"Genoveva\\\",\\\"surname\\\":\\\"Pinner\\\",\\\"phoneNum\\\":\\\"012-3456789\\\",\\\"address\\\":\\\"2145 Gentle View, Tuba City, Nova Scotia, B2D-2F5, CA\\\",\\\"created_at\\\":\\\"2005-05-21T13:32:49.000Z\\\",\\\"updated_at\\\":\\\"2015-12-01T00:13:15.000Z\\\"}]\""
      ]
     },
     "execution_count": 16,
     "metadata": {},
     "output_type": "execute_result"
    }
   ],
   "source": [
    "Customer.first(5).to_json"
   ]
  },
  {
   "cell_type": "code",
   "execution_count": 17,
   "metadata": {
    "collapsed": false,
    "scrolled": false
   },
   "outputs": [
    {
     "data": {
      "text/html": [
       "            <div id=\"railsnb-70318231501740\"></div>\n",
       "            <script>\n",
       "            require([\"/kernelspecs/rails_notebook/rails_notebook.js\"] , function ( railsNB ) {\n",
       "                railsNB.renderTableData( [\"Order\",[\"id\",0,1,2,3,4,5,6,7,8,9],[\"order_date\",\"1993-05-16T07:00:22.000Z\",\"2011-02-28T15:14:04.000Z\",\"2015-12-01T00:13:15.000Z\",\"2009-12-20T11:24:41.000Z\",\"2011-02-28T15:14:04.000Z\",\"2015-12-01T00:13:15.000Z\",\"2011-02-28T15:14:04.000Z\",\"2009-12-20T11:24:41.000Z\",\"2011-02-28T15:14:04.000Z\",\"1993-05-16T07:00:22.000Z\"],[\"status\",\"Delivered\",\"Delivered\",\"Delivered\",\"Delivered\",\"Delivered\",\"Delivered\",\"Pending\",\"Pending\",\"Pending\",\"Pending\"],[\"customer_id\",0,1,2,3,4,5,6,7,8,9],[\"created_at\",\"2011-05-19T10:30:14.000Z\",\"2002-11-29T08:28:17.000Z\",\"2009-12-20T11:24:41.000Z\",\"2003-04-02T05:33:41.000Z\",\"1993-05-16T07:00:22.000Z\",\"1999-05-05T16:08:01.000Z\",\"2011-05-19T10:30:14.000Z\",\"2002-11-29T08:28:17.000Z\",\"2005-05-21T13:32:49.000Z\",\"2003-04-02T05:33:41.000Z\"],[\"updated_at\",\"2011-08-22T22:12:55.000Z\",\"2013-01-04T23:00:12.000Z\",\"2011-10-31T14:18:53.000Z\",\"2006-07-23T21:58:33.000Z\",\"2015-02-14T22:34:09.000Z\",\"2011-02-28T15:14:04.000Z\",\"2011-08-22T22:12:55.000Z\",\"2013-01-04T23:00:12.000Z\",\"2015-12-01T00:13:15.000Z\",\"2006-07-23T21:58:33.000Z\"]] , document.getElementById( \"railsnb-70318231501740\" ) );\n",
       "            }); \n",
       "            </script>\n"
      ],
      "text/plain": [
       "#<ActiveRecord::Relation [#<Order id: 0, order_date: \"1993-05-16 07:00:22\", status: \"Delivered\", customer_id: 0, created_at: \"2011-05-19 10:30:14\", updated_at: \"2011-08-22 22:12:55\">, #<Order id: 1, order_date: \"2011-02-28 15:14:04\", status: \"Delivered\", customer_id: 1, created_at: \"2002-11-29 08:28:17\", updated_at: \"2013-01-04 23:00:12\">, #<Order id: 2, order_date: \"2015-12-01 00:13:15\", status: \"Delivered\", customer_id: 2, created_at: \"2009-12-20 11:24:41\", updated_at: \"2011-10-31 14:18:53\">, #<Order id: 3, order_date: \"2009-12-20 11:24:41\", status: \"Delivered\", customer_id: 3, created_at: \"2003-04-02 05:33:41\", updated_at: \"2006-07-23 21:58:33\">, #<Order id: 4, order_date: \"2011-02-28 15:14:04\", status: \"Delivered\", customer_id: 4, created_at: \"1993-05-16 07:00:22\", updated_at: \"2015-02-14 22:34:09\">, #<Order id: 5, order_date: \"2015-12-01 00:13:15\", status: \"Delivered\", customer_id: 5, created_at: \"1999-05-05 16:08:01\", updated_at: \"2011-02-28 15:14:04\">, #<Order id: 6, order_date: \"2011-02-28 15:14:04\", status: \"Pending\", customer_id: 6, created_at: \"2011-05-19 10:30:14\", updated_at: \"2011-08-22 22:12:55\">, #<Order id: 7, order_date: \"2009-12-20 11:24:41\", status: \"Pending\", customer_id: 7, created_at: \"2002-11-29 08:28:17\", updated_at: \"2013-01-04 23:00:12\">, #<Order id: 8, order_date: \"2011-02-28 15:14:04\", status: \"Pending\", customer_id: 8, created_at: \"2005-05-21 13:32:49\", updated_at: \"2015-12-01 00:13:15\">, #<Order id: 9, order_date: \"1993-05-16 07:00:22\", status: \"Pending\", customer_id: 9, created_at: \"2003-04-02 05:33:41\", updated_at: \"2006-07-23 21:58:33\">, ...]>"
      ]
     },
     "execution_count": 17,
     "metadata": {},
     "output_type": "execute_result"
    }
   ],
   "source": [
    "Order.all"
   ]
  },
  {
   "cell_type": "code",
   "execution_count": 5,
   "metadata": {
    "collapsed": false
   },
   "outputs": [
    {
     "data": {
      "text/html": [
       "            <div id=\"railsnb-70214613675300\"></div>\n",
       "            <script>\n",
       "            require([\"/kernelspecs/rails_notebook/rails_notebook.js\"] , function ( railsNB ) {\n",
       "                railsNB.renderBarChart( {\"Cancelled\":2,\"Delivered\":6,\"Pending\":7} , document.getElementById( \"railsnb-70214613675300\" ) );\n",
       "            }); \n",
       "            </script>\n"
      ],
      "text/plain": [
       "#<SchemaTable::ChartRenderer:0x007fb83a365980 @data={\"Cancelled\"=>2, \"Delivered\"=>6, \"Pending\"=>7}, @chartType=\"BarChart\">"
      ]
     },
     "execution_count": 5,
     "metadata": {},
     "output_type": "execute_result"
    }
   ],
   "source": [
    "SchemaTable::bar_chart(Order.group(:status))"
   ]
  },
  {
   "cell_type": "code",
   "execution_count": 3,
   "metadata": {
    "collapsed": false
   },
   "outputs": [
    {
     "data": {
      "text/html": [
       "            <div id=\"railsnb-70214610119280\"></div>\n",
       "            <script>\n",
       "            require([\"/kernelspecs/rails_notebook/rails_notebook.js\"] , function ( railsNB ) {\n",
       "                railsNB.renderRoutes( {\"headNode\":{\"uriPattern\":\"/\",\"verbs\":[],\"controller\":null,\"actions\":[],\"countChildrenNodes\":0,\"childrenNodes\":[{\"uriPattern\":\"/welcome/\",\"verbs\":[],\"controller\":null,\"actions\":[],\"countChildrenNodes\":0,\"childrenNodes\":[{\"uriPattern\":\"/welcome/index/\",\"verbs\":[\"GET\"],\"controller\":\"welcome_index\",\"actions\":[\"index\"],\"countChildrenNodes\":0,\"childrenNodes\":[],\"nodeUri\":\"index\",\"id\":70214610117280}],\"nodeUri\":\"welcome\",\"id\":70214610117460},{\"uriPattern\":\"/articles/\",\"verbs\":[\"GET\",\"POST\"],\"controller\":\"\",\"actions\":[\"index\",\"create\"],\"countChildrenNodes\":0,\"childrenNodes\":[{\"uriPattern\":\"/articles/:article_id/\",\"verbs\":[],\"controller\":null,\"actions\":[],\"countChildrenNodes\":0,\"childrenNodes\":[{\"uriPattern\":\"/articles/:article_id/comments/\",\"verbs\":[\"GET\",\"POST\"],\"controller\":\"\",\"actions\":[\"index\",\"create\"],\"countChildrenNodes\":0,\"childrenNodes\":[{\"uriPattern\":\"/articles/:article_id/comments/new/\",\"verbs\":[\"GET\"],\"controller\":\"new_article_comment\",\"actions\":[\"new\"],\"countChildrenNodes\":0,\"childrenNodes\":[],\"nodeUri\":\"new\",\"id\":70214610101820},{\"uriPattern\":\"/articles/:article_id/comments/:id/\",\"verbs\":[\"GET\",\"PATCH\",\"PUT\",\"DELETE\"],\"controller\":\"\",\"actions\":[\"show\",\"update\",\"update\",\"destroy\"],\"countChildrenNodes\":0,\"childrenNodes\":[{\"uriPattern\":\"/articles/:article_id/comments/:id/edit/\",\"verbs\":[\"GET\"],\"controller\":\"edit_article_comment\",\"actions\":[\"edit\"],\"countChildrenNodes\":0,\"childrenNodes\":[],\"nodeUri\":\"edit\",\"id\":70214610090380}],\"nodeUri\":\":id\",\"id\":70214610090640}],\"nodeUri\":\"comments\",\"id\":70214610106200}],\"nodeUri\":\":article_id\",\"id\":70214610106380},{\"uriPattern\":\"/articles/new/\",\"verbs\":[\"GET\"],\"controller\":\"new_article\",\"actions\":[\"new\"],\"countChildrenNodes\":0,\"childrenNodes\":[],\"nodeUri\":\"new\",\"id\":70214619014820},{\"uriPattern\":\"/articles/:id/\",\"verbs\":[\"GET\",\"PATCH\",\"PUT\",\"DELETE\"],\"controller\":\"\",\"actions\":[\"show\",\"update\",\"update\",\"destroy\"],\"countChildrenNodes\":0,\"childrenNodes\":[{\"uriPattern\":\"/articles/:id/edit/\",\"verbs\":[\"GET\"],\"controller\":\"edit_article\",\"actions\":[\"edit\"],\"countChildrenNodes\":0,\"childrenNodes\":[],\"nodeUri\":\"edit\",\"id\":70214619004140}],\"nodeUri\":\":id\",\"id\":70214619004300}],\"nodeUri\":\"articles\",\"id\":70214610106720},{\"uriPattern\":\"/customers/\",\"verbs\":[\"GET\",\"POST\"],\"controller\":\"\",\"actions\":[\"index\",\"create\"],\"countChildrenNodes\":0,\"childrenNodes\":[{\"uriPattern\":\"/customers/:customer_id/\",\"verbs\":[],\"controller\":null,\"actions\":[],\"countChildrenNodes\":0,\"childrenNodes\":[{\"uriPattern\":\"/customers/:customer_id/comments/\",\"verbs\":[\"GET\",\"POST\"],\"controller\":\"\",\"actions\":[\"index\",\"create\"],\"countChildrenNodes\":0,\"childrenNodes\":[{\"uriPattern\":\"/customers/:customer_id/comments/new/\",\"verbs\":[\"GET\"],\"controller\":\"new_customer_comment\",\"actions\":[\"new\"],\"countChildrenNodes\":0,\"childrenNodes\":[],\"nodeUri\":\"new\",\"id\":70214610056860},{\"uriPattern\":\"/customers/:customer_id/comments/:id/\",\"verbs\":[\"GET\",\"PATCH\",\"PUT\",\"DELETE\"],\"controller\":\"\",\"actions\":[\"show\",\"update\",\"update\",\"destroy\"],\"countChildrenNodes\":0,\"childrenNodes\":[{\"uriPattern\":\"/customers/:customer_id/comments/:id/edit/\",\"verbs\":[\"GET\"],\"controller\":\"edit_customer_comment\",\"actions\":[\"edit\"],\"countChildrenNodes\":0,\"childrenNodes\":[],\"nodeUri\":\"edit\",\"id\":70214610053960}],\"nodeUri\":\":id\",\"id\":70214610054140}],\"nodeUri\":\"comments\",\"id\":70214610069560},{\"uriPattern\":\"/customers/:customer_id/invoices/\",\"verbs\":[\"GET\",\"POST\"],\"controller\":\"\",\"actions\":[\"index\",\"create\"],\"countChildrenNodes\":0,\"childrenNodes\":[{\"uriPattern\":\"/customers/:customer_id/invoices/new/\",\"verbs\":[\"GET\"],\"controller\":\"new_customer_invoice\",\"actions\":[\"new\"],\"countChildrenNodes\":0,\"childrenNodes\":[],\"nodeUri\":\"new\",\"id\":70214618984060},{\"uriPattern\":\"/customers/:customer_id/invoices/:id/\",\"verbs\":[\"GET\",\"PATCH\",\"PUT\",\"DELETE\"],\"controller\":\"\",\"actions\":[\"show\",\"update\",\"update\",\"destroy\"],\"countChildrenNodes\":0,\"childrenNodes\":[{\"uriPattern\":\"/customers/:customer_id/invoices/:id/edit/\",\"verbs\":[\"GET\"],\"controller\":\"edit_customer_invoice\",\"actions\":[\"edit\"],\"countChildrenNodes\":0,\"childrenNodes\":[],\"nodeUri\":\"edit\",\"id\":70214618981300}],\"nodeUri\":\":id\",\"id\":70214618981460}],\"nodeUri\":\"invoices\",\"id\":70214618988320},{\"uriPattern\":\"/customers/:customer_id/orders/\",\"verbs\":[\"GET\",\"POST\"],\"controller\":\"\",\"actions\":[\"index\",\"create\"],\"countChildrenNodes\":0,\"childrenNodes\":[{\"uriPattern\":\"/customers/:customer_id/orders/:order_id/\",\"verbs\":[],\"controller\":null,\"actions\":[],\"countChildrenNodes\":0,\"childrenNodes\":[{\"uriPattern\":\"/customers/:customer_id/orders/:order_id/products/\",\"verbs\":[\"GET\",\"POST\"],\"controller\":\"\",\"actions\":[\"index\",\"create\"],\"countChildrenNodes\":0,\"childrenNodes\":[{\"uriPattern\":\"/customers/:customer_id/orders/:order_id/products/new/\",\"verbs\":[\"GET\"],\"controller\":\"new_customer_order_product\",\"actions\":[\"new\"],\"countChildrenNodes\":0,\"childrenNodes\":[],\"nodeUri\":\"new\",\"id\":70214618937540},{\"uriPattern\":\"/customers/:customer_id/orders/:order_id/products/:id/\",\"verbs\":[\"GET\",\"PATCH\",\"PUT\",\"DELETE\"],\"controller\":\"\",\"actions\":[\"show\",\"update\",\"update\",\"destroy\"],\"countChildrenNodes\":0,\"childrenNodes\":[{\"uriPattern\":\"/customers/:customer_id/orders/:order_id/products/:id/edit/\",\"verbs\":[\"GET\"],\"controller\":\"edit_customer_order_product\",\"actions\":[\"edit\"],\"countChildrenNodes\":0,\"childrenNodes\":[],\"nodeUri\":\"edit\",\"id\":70214618934120}],\"nodeUri\":\":id\",\"id\":70214618934280}],\"nodeUri\":\"products\",\"id\":70214618951900}],\"nodeUri\":\":order_id\",\"id\":70214618952080},{\"uriPattern\":\"/customers/:customer_id/orders/new/\",\"verbs\":[\"GET\"],\"controller\":\"new_customer_order\",\"actions\":[\"new\"],\"countChildrenNodes\":0,\"childrenNodes\":[],\"nodeUri\":\"new\",\"id\":70214618888260},{\"uriPattern\":\"/customers/:customer_id/orders/:id/\",\"verbs\":[\"GET\",\"PATCH\",\"PUT\",\"DELETE\"],\"controller\":\"\",\"actions\":[\"show\",\"update\",\"update\",\"destroy\"],\"countChildrenNodes\":0,\"childrenNodes\":[{\"uriPattern\":\"/customers/:customer_id/orders/:id/edit/\",\"verbs\":[\"GET\"],\"controller\":\"edit_customer_order\",\"actions\":[\"edit\"],\"countChildrenNodes\":0,\"childrenNodes\":[],\"nodeUri\":\"edit\",\"id\":70214618885620}],\"nodeUri\":\":id\",\"id\":70214618885780}],\"nodeUri\":\"orders\",\"id\":70214618952240}],\"nodeUri\":\":customer_id\",\"id\":70214610069720},{\"uriPattern\":\"/customers/new/\",\"verbs\":[\"GET\"],\"controller\":\"new_customer\",\"actions\":[\"new\"],\"countChildrenNodes\":0,\"childrenNodes\":[],\"nodeUri\":\"new\",\"id\":70214618854080},{\"uriPattern\":\"/customers/:id/\",\"verbs\":[\"GET\",\"PATCH\",\"PUT\",\"DELETE\"],\"controller\":\"\",\"actions\":[\"show\",\"update\",\"update\",\"destroy\"],\"countChildrenNodes\":0,\"childrenNodes\":[{\"uriPattern\":\"/customers/:id/edit/\",\"verbs\":[\"GET\"],\"controller\":\"edit_customer\",\"actions\":[\"edit\"],\"countChildrenNodes\":0,\"childrenNodes\":[],\"nodeUri\":\"edit\",\"id\":70214618852060}],\"nodeUri\":\":id\",\"id\":70214618852240}],\"nodeUri\":\"customers\",\"id\":70214610069900}],\"nodeUri\":\"\",\"id\":70214610119400}} , document.getElementById( \"railsnb-70214610119280\" ) );\n",
       "            }); \n",
       "            </script>\n"
      ],
      "text/plain": [
       "#<ActionDispatch::Routing::RouteSet:0x007fb83a059750>"
      ]
     },
     "execution_count": 3,
     "metadata": {},
     "output_type": "execute_result"
    }
   ],
   "source": [
    "Rails.application.routes"
   ]
  },
  {
   "cell_type": "code",
   "execution_count": 4,
   "metadata": {
    "collapsed": false
   },
   "outputs": [
    {
     "data": {
      "text/html": [
       "            <div id=\"railsnb-70214611121760\"></div>\n",
       "            <script>\n",
       "            require([\"/kernelspecs/rails_notebook/rails_notebook.js\"] , function ( railsNB ) {\n",
       "                railsNB.renderFlamechart( {\"data\":[{\"x\":1,\"y\":1,\"width\":1591,\"frame\":\"/Users/nickhoernle/.rvm/rubies/ruby-2.2.1/bin/rake::in `\\u003cmain\\u003e'\"},{\"x\":1,\"y\":2,\"width\":1591,\"frame\":\"/Users/nickhoernle/.rvm/rubies/ruby-2.2.1/bin/rake::in `\\u003cmain\\u003e'\"},{\"x\":1,\"y\":3,\"width\":1591,\"frame\":\"/Users/nickhoernle/.rvm/rubies/ruby-2.2.1/lib/ruby/2.2.0/monitor.rb:208:in `MonitorMixin#mon_synchronize'\"},{\"x\":1,\"y\":4,\"width\":1591,\"frame\":\"/Users/nickhoernle/Work/rails_notebook/lib/tasks/rails_notebook_tasks.rake:6:in `block in \\u003ctop (required)\\u003e'\"},{\"x\":1,\"y\":5,\"width\":1591,\"frame\":\"/Users/nickhoernle/Work/rails_notebook/lib/rails_notebook/command.rb:17:in `RailsNotebook::Command#run_kernel'\"},{\"x\":1,\"y\":6,\"width\":1591,\"frame\":\"/Users/nickhoernle/.rvm/gems/ruby-2.2.1/gems/iruby-0.2.8/lib/iruby/backend.rb:6:in `IRuby::History#eval'\"},{\"x\":1,\"y\":7,\"width\":1591,\"frame\":\"/Users/nickhoernle/.rvm/gems/ruby-2.2.1/gems/iruby-0.2.8/lib/iruby/backend.rb:63:in `IRuby::PryBackend#eval'\"},{\"x\":1,\"y\":8,\"width\":1591,\"frame\":\"/Users/nickhoernle/.rvm/gems/ruby-2.2.1/gems/pry-0.10.3/lib/pry/pry_instance.rb:237:in `Pry#eval'\"},{\"x\":1,\"y\":9,\"width\":1591,\"frame\":\"/Users/nickhoernle/.rvm/gems/ruby-2.2.1/gems/pry-0.10.3/lib/pry/pry_instance.rb:241:in `block in Pry#eval'\"},{\"x\":1,\"y\":10,\"width\":1591,\"frame\":\"/Users/nickhoernle/.rvm/gems/ruby-2.2.1/gems/pry-0.10.3/lib/pry/pry_instance.rb:242:in `block (2 levels) in Pry#eval'\"},{\"x\":1,\"y\":11,\"width\":1591,\"frame\":\"/Users/nickhoernle/.rvm/gems/ruby-2.2.1/gems/pry-0.10.3/lib/pry/pry_instance.rb:260:in `Pry#handle_line'\"},{\"x\":1,\"y\":12,\"width\":1591,\"frame\":\"/Users/nickhoernle/.rvm/gems/ruby-2.2.1/gems/pry-0.10.3/lib/pry/pry_instance.rb:351:in `Pry#evaluate_ruby'\"},{\"x\":1,\"y\":13,\"width\":1591,\"frame\":\"(pry):13:in `\\u003cmain\\u003e'\"},{\"x\":1,\"y\":14,\"width\":1591,\"frame\":\"(pry):38:in `block in \\u003cmain\\u003e'\"},{\"x\":1,\"y\":15,\"width\":1591,\"frame\":\"(pry):27:in `Object#both'\"},{\"x\":1,\"y\":16,\"width\":492,\"frame\":\"/Users/nickhoernle/.rvm/gems/ruby-2.2.1/gems/activesupport-4.2.5/lib/active_support/core_ext/range/each.rb:5:in `Range#each_with_time_with_zone'\"},{\"x\":1,\"y\":17,\"width\":492,\"frame\":\"(pry):28:in `block in Object#both'\"},{\"x\":493,\"y\":16,\"width\":214,\"frame\":\"(pry):13:in `Object#fast_method'\"},{\"x\":493,\"y\":17,\"width\":214,\"frame\":\"/Users/nickhoernle/.rvm/gems/ruby-2.2.1/gems/activesupport-4.2.5/lib/active_support/core_ext/range/each.rb:5:in `Range#each_with_time_with_zone'\"},{\"x\":493,\"y\":18,\"width\":214,\"frame\":\"(pry):14:in `block in Object#fast_method'\"},{\"x\":707,\"y\":16,\"width\":560,\"frame\":\"(pry):19:in `Object#slow_method'\"},{\"x\":707,\"y\":17,\"width\":121,\"frame\":\"(pry):13:in `Object#fast_method'\"},{\"x\":707,\"y\":18,\"width\":121,\"frame\":\"/Users/nickhoernle/.rvm/gems/ruby-2.2.1/gems/activesupport-4.2.5/lib/active_support/core_ext/range/each.rb:5:in `Range#each_with_time_with_zone'\"},{\"x\":707,\"y\":19,\"width\":1,\"frame\":\"/Users/nickhoernle/.rvm/gems/ruby-2.2.1/gems/activesupport-4.2.5/lib/active_support/core_ext/range/each.rb:18:in `Range#ensure_iteration_allowed'\"},{\"x\":708,\"y\":19,\"width\":120,\"frame\":\"(pry):14:in `block in Object#fast_method'\"},{\"x\":828,\"y\":17,\"width\":329,\"frame\":\"/Users/nickhoernle/.rvm/gems/ruby-2.2.1/gems/activesupport-4.2.5/lib/active_support/core_ext/range/each.rb:5:in `Range#each_with_time_with_zone'\"},{\"x\":828,\"y\":18,\"width\":329,\"frame\":\"(pry):21:in `block in Object#slow_method'\"},{\"x\":1157,\"y\":17,\"width\":110,\"frame\":\"(pry):13:in `Object#fast_method'\"},{\"x\":1157,\"y\":18,\"width\":110,\"frame\":\"/Users/nickhoernle/.rvm/gems/ruby-2.2.1/gems/activesupport-4.2.5/lib/active_support/core_ext/range/each.rb:5:in `Range#each_with_time_with_zone'\"},{\"x\":1157,\"y\":19,\"width\":110,\"frame\":\"(pry):14:in `block in Object#fast_method'\"},{\"x\":1267,\"y\":16,\"width\":325,\"frame\":\"/Users/nickhoernle/.rvm/gems/ruby-2.2.1/gems/activesupport-4.2.5/lib/active_support/core_ext/range/each.rb:5:in `Range#each_with_time_with_zone'\"},{\"x\":1267,\"y\":17,\"width\":325,\"frame\":\"(pry):33:in `block in Object#both'\"}],\"sampleTime\":0.05} , document.getElementById( \"railsnb-70214611121760\" ) );\n",
       "            }); \n",
       "            </script>\n"
      ],
      "text/plain": [
       "#<Profiler::Profile:0x007fb839e86cc0 @data=[{:x=>1, :y=>1, :width=>1591, :frame=>\"/Users/nickhoernle/.rvm/rubies/ruby-2.2.1/bin/rake::in `<main>'\"}, {:x=>1, :y=>2, :width=>1591, :frame=>\"/Users/nickhoernle/.rvm/rubies/ruby-2.2.1/bin/rake::in `<main>'\"}, {:x=>1, :y=>3, :width=>1591, :frame=>\"/Users/nickhoernle/.rvm/rubies/ruby-2.2.1/lib/ruby/2.2.0/monitor.rb:208:in `MonitorMixin#mon_synchronize'\"}, {:x=>1, :y=>4, :width=>1591, :frame=>\"/Users/nickhoernle/Work/rails_notebook/lib/tasks/rails_notebook_tasks.rake:6:in `block in <top (required)>'\"}, {:x=>1, :y=>5, :width=>1591, :frame=>\"/Users/nickhoernle/Work/rails_notebook/lib/rails_notebook/command.rb:17:in `RailsNotebook::Command#run_kernel'\"}, {:x=>1, :y=>6, :width=>1591, :frame=>\"/Users/nickhoernle/.rvm/gems/ruby-2.2.1/gems/iruby-0.2.8/lib/iruby/backend.rb:6:in `IRuby::History#eval'\"}, {:x=>1, :y=>7, :width=>1591, :frame=>\"/Users/nickhoernle/.rvm/gems/ruby-2.2.1/gems/iruby-0.2.8/lib/iruby/backend.rb:63:in `IRuby::PryBackend#eval'\"}, {:x=>1, :y=>8, :width=>1591, :frame=>\"/Users/nickhoernle/.rvm/gems/ruby-2.2.1/gems/pry-0.10.3/lib/pry/pry_instance.rb:237:in `Pry#eval'\"}, {:x=>1, :y=>9, :width=>1591, :frame=>\"/Users/nickhoernle/.rvm/gems/ruby-2.2.1/gems/pry-0.10.3/lib/pry/pry_instance.rb:241:in `block in Pry#eval'\"}, {:x=>1, :y=>10, :width=>1591, :frame=>\"/Users/nickhoernle/.rvm/gems/ruby-2.2.1/gems/pry-0.10.3/lib/pry/pry_instance.rb:242:in `block (2 levels) in Pry#eval'\"}, {:x=>1, :y=>11, :width=>1591, :frame=>\"/Users/nickhoernle/.rvm/gems/ruby-2.2.1/gems/pry-0.10.3/lib/pry/pry_instance.rb:260:in `Pry#handle_line'\"}, {:x=>1, :y=>12, :width=>1591, :frame=>\"/Users/nickhoernle/.rvm/gems/ruby-2.2.1/gems/pry-0.10.3/lib/pry/pry_instance.rb:351:in `Pry#evaluate_ruby'\"}, {:x=>1, :y=>13, :width=>1591, :frame=>\"(pry):13:in `<main>'\"}, {:x=>1, :y=>14, :width=>1591, :frame=>\"(pry):38:in `block in <main>'\"}, {:x=>1, :y=>15, :width=>1591, :frame=>\"(pry):27:in `Object#both'\"}, {:x=>1, :y=>16, :width=>492, :frame=>\"/Users/nickhoernle/.rvm/gems/ruby-2.2.1/gems/activesupport-4.2.5/lib/active_support/core_ext/range/each.rb:5:in `Range#each_with_time_with_zone'\"}, {:x=>1, :y=>17, :width=>492, :frame=>\"(pry):28:in `block in Object#both'\"}, {:x=>493, :y=>16, :width=>214, :frame=>\"(pry):13:in `Object#fast_method'\"}, {:x=>493, :y=>17, :width=>214, :frame=>\"/Users/nickhoernle/.rvm/gems/ruby-2.2.1/gems/activesupport-4.2.5/lib/active_support/core_ext/range/each.rb:5:in `Range#each_with_time_with_zone'\"}, {:x=>493, :y=>18, :width=>214, :frame=>\"(pry):14:in `block in Object#fast_method'\"}, {:x=>707, :y=>16, :width=>560, :frame=>\"(pry):19:in `Object#slow_method'\"}, {:x=>707, :y=>17, :width=>121, :frame=>\"(pry):13:in `Object#fast_method'\"}, {:x=>707, :y=>18, :width=>121, :frame=>\"/Users/nickhoernle/.rvm/gems/ruby-2.2.1/gems/activesupport-4.2.5/lib/active_support/core_ext/range/each.rb:5:in `Range#each_with_time_with_zone'\"}, {:x=>707, :y=>19, :width=>1, :frame=>\"/Users/nickhoernle/.rvm/gems/ruby-2.2.1/gems/activesupport-4.2.5/lib/active_support/core_ext/range/each.rb:18:in `Range#ensure_iteration_allowed'\"}, {:x=>708, :y=>19, :width=>120, :frame=>\"(pry):14:in `block in Object#fast_method'\"}, {:x=>828, :y=>17, :width=>329, :frame=>\"/Users/nickhoernle/.rvm/gems/ruby-2.2.1/gems/activesupport-4.2.5/lib/active_support/core_ext/range/each.rb:5:in `Range#each_with_time_with_zone'\"}, {:x=>828, :y=>18, :width=>329, :frame=>\"(pry):21:in `block in Object#slow_method'\"}, {:x=>1157, :y=>17, :width=>110, :frame=>\"(pry):13:in `Object#fast_method'\"}, {:x=>1157, :y=>18, :width=>110, :frame=>\"/Users/nickhoernle/.rvm/gems/ruby-2.2.1/gems/activesupport-4.2.5/lib/active_support/core_ext/range/each.rb:5:in `Range#each_with_time_with_zone'\"}, {:x=>1157, :y=>19, :width=>110, :frame=>\"(pry):14:in `block in Object#fast_method'\"}, {:x=>1267, :y=>16, :width=>325, :frame=>\"/Users/nickhoernle/.rvm/gems/ruby-2.2.1/gems/activesupport-4.2.5/lib/active_support/core_ext/range/each.rb:5:in `Range#each_with_time_with_zone'\"}, {:x=>1267, :y=>17, :width=>325, :frame=>\"(pry):33:in `block in Object#both'\"}], @sampleTime=0.05>"
      ]
     },
     "execution_count": 4,
     "metadata": {},
     "output_type": "execute_result"
    }
   ],
   "source": [
    "def fast_method\n",
    "  for i in 0..100000\n",
    "    9999999999999999+9999999999999\n",
    "  end\n",
    "end\n",
    "\n",
    "def slow_method\n",
    "  fast_method\n",
    "  for i in 0..100000\n",
    "    9999999999999999*999999999\n",
    "  end\n",
    "  fast_method\n",
    "end\n",
    "\n",
    "def both\n",
    "  for i in 0..100000\n",
    "    9999999999999999*999999999\n",
    "  end\n",
    "  fast_method\n",
    "  slow_method\n",
    "  for i in 0..100000\n",
    "    9999999999999999*999999999\n",
    "  end\n",
    "end\n",
    "\n",
    "Profiler::profile do \n",
    "  both\n",
    "end"
   ]
  }
 ],
 "metadata": {
  "kernelspec": {
   "display_name": "Rails TestApp::Application",
   "language": "ruby",
   "name": "rails_notebook"
  },
  "language_info": {
   "file_extension": ".rb",
   "mimetype": "application/x-ruby",
   "name": "ruby",
   "version": "2.2.1"
  }
 },
 "nbformat": 4,
 "nbformat_minor": 0
}
