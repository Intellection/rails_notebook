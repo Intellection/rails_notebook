{
 "cells": [
  {
   "cell_type": "code",
   "execution_count": 1,
   "metadata": {
    "collapsed": false
   },
   "outputs": [
    {
     "data": {
      "text/html": [
       "      <div id=\"hash-70153333295140\"></div>\n",
       "      <script>\n",
       "        require([\"jquery\", \"/kernelspecs/rails_notebook/jquery.jsonview.js\"], function($, jsonview) {\n",
       "            $(\"#hash-70153333295140\").JSONView({\"two\":2,\"three\":3,\"five\":\"five\"});\n",
       "        });\n",
       "      </script>\n"
      ],
      "text/plain": [
       "{\"two\"=>2, \"three\"=>3, \"five\"=>\"five\"}"
      ]
     },
     "execution_count": 1,
     "metadata": {},
     "output_type": "execute_result"
    }
   ],
   "source": [
    "# Printing a hash\n",
    "hash = { \"two\" => 2 , \"three\" => 3 , \"five\" => \"five\" }"
   ]
  },
  {
   "cell_type": "code",
   "execution_count": 2,
   "metadata": {
    "collapsed": false
   },
   "outputs": [
    {
     "data": {
      "text/html": [
       "        [2, 3, 4, 5, 6, nil]\n"
      ],
      "text/plain": [
       "[2, 3, 4, 5, 6, nil]"
      ]
     },
     "execution_count": 2,
     "metadata": {},
     "output_type": "execute_result"
    }
   ],
   "source": [
    "# Printing an array\n",
    "array = [ 2, 3, 4, 5, 6 , nil ]"
   ]
  },
  {
   "cell_type": "code",
   "execution_count": 7,
   "metadata": {
    "collapsed": false
   },
   "outputs": [
    {
     "data": {
      "text/plain": [
       "Customer"
      ]
     },
     "execution_count": 7,
     "metadata": {},
     "output_type": "execute_result"
    }
   ],
   "source": [
    "class Customer\n",
    "   @@no_of_customers=0\n",
    "   def initialize(id, name, addr)\n",
    "      @cust_id=id\n",
    "      @cust_name=name\n",
    "      @cust_addr=addr\n",
    "   end\n",
    "end\n",
    "\n",
    "cust1=Customer.new(\"1\", \"John\", \"Wisdom Apartments, Ludhiya\")\n",
    "cust2=Customer.new(\"2\", \"Poul\", \"New Empire road, Khandala\")\n",
    "\n",
    "cust1.class"
   ]
  },
  {
   "cell_type": "code",
   "execution_count": 1,
   "metadata": {
    "collapsed": false
   },
   "outputs": [
    {
     "data": {
      "text/html": [
       "    <div id=\"hash-70354219372360\"></div>\n",
       "    <script>\n",
       "        require([\"jquery\", \"/kernelspecs/rails_notebook/jquery.jsonview.js\"], function($, jsonview) {\n",
       "            $(\"#hash-70354219372360\").JSONView(\"#\\u003cActionDispatch::Routing::RouteSet:0x007ff93cbfd370\\u003e\");\n",
       "        });\n",
       "    </script>\n"
      ],
      "text/plain": [
       "#<ActionDispatch::Routing::RouteSet:0x007ff93cbfd370>"
      ]
     },
     "execution_count": 1,
     "metadata": {},
     "output_type": "execute_result"
    }
   ],
   "source": [
    "Rails.application.routes.class"
   ]
  }
 ],
 "metadata": {
  "kernelspec": {
   "display_name": "Rails TestApp::Application",
   "language": "ruby",
   "name": "rails_notebook"
  },
  "language_info": {
   "file_extension": ".rb",
   "mimetype": "application/x-ruby",
   "name": "ruby",
   "version": "2.2.1"
  }
 },
 "nbformat": 4,
 "nbformat_minor": 0
}
