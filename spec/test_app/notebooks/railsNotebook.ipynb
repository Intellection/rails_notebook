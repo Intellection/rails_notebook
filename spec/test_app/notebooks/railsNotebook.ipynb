{
 "cells": [
  {
   "cell_type": "code",
   "execution_count": 5,
   "metadata": {
    "collapsed": false
   },
   "outputs": [
    {
     "data": {
      "text/html": [
       "            <div id=\"hash-70109382000020\"></div>\n",
       "            <script>\n",
       "                require([\"jquery\", \"/kernelspecs/rails_notebook/jquery.jsonview.js\"], function($, jsonview) {\n",
       "                    $(\"#hash-70109382000020\").JSONView( {\"two\":2,\"three\":3,\"five\":\"five\"} );\n",
       "                });\n",
       "            </script>\n"
      ],
      "text/plain": [
       "{\"two\"=>2, \"three\"=>3, \"five\"=>\"five\"}"
      ]
     },
     "execution_count": 5,
     "metadata": {},
     "output_type": "execute_result"
    }
   ],
   "source": [
    "# Printing a hash\n",
    "hash = { \"two\" => 2 , \"three\" => 3 , \"five\" => \"five\" }"
   ]
  },
  {
   "cell_type": "code",
   "execution_count": 4,
   "metadata": {
    "collapsed": false
   },
   "outputs": [
    {
     "data": {
      "text/plain": [
       "[2, 3, 4, 5, 6, nil]"
      ]
     },
     "execution_count": 4,
     "metadata": {},
     "output_type": "execute_result"
    }
   ],
   "source": [
    "# Printing an array\n",
    "array = [ 2, 3, 4, 5, 6 , nil ]"
   ]
  },
  {
   "cell_type": "code",
   "execution_count": 3,
   "metadata": {
    "collapsed": false
   },
   "outputs": [
    {
     "data": {
      "text/html": [
       "            <div id=\"hash-70109345136100\"></div>\n",
       "            <script>\n",
       "                require([\"jquery\", \"/kernelspecs/rails_notebook/jquery.jsonview.js\"], function($, jsonview) {\n",
       "                    $(\"#hash-70109345136100\").JSONView( {\"cust_id\":\"2\",\"cust_name\":\"Poul\",\"cust_addr\":\"New Empire road, Khandala\"} );\n",
       "                });\n",
       "            </script>\n"
      ],
      "text/plain": [
       "#<Customer:0x007f8735397bc8 @cust_id=\"2\", @cust_name=\"Poul\", @cust_addr=\"New Empire road, Khandala\">"
      ]
     },
     "execution_count": 3,
     "metadata": {},
     "output_type": "execute_result"
    }
   ],
   "source": [
    "class Customer\n",
    "   @@no_of_customers=0\n",
    "   def initialize(id, name, addr)\n",
    "      @cust_id=id\n",
    "      @cust_name=name\n",
    "      @cust_addr=addr\n",
    "   end\n",
    "end\n",
    "\n",
    "cust1=Customer.new(\"1\", \"John\", \"Wisdom Apartments, Ludhiya\")\n",
    "cust2=Customer.new(\"2\", \"Poul\", \"New Empire road, Khandala\")"
   ]
  },
  {
   "cell_type": "code",
   "execution_count": 2,
   "metadata": {
    "collapsed": false
   },
   "outputs": [
    {
     "data": {
      "text/html": [
       "            <div id=\"hash-70189169935740\"></div>\n",
       "            <script>\n",
       "                require([ \"jquery\" , \"/kernelspecs/rails_notebook/d3.min.js\", \"/kernelspecs/rails_notebook/dagre-d3.js\"], function($, d3, dagreD3) {\n",
       "                    console.log ( $ );  \n",
       "                    console.log ( d3 );\n",
       "                    console.log ( dagreD3 );\n",
       "\n",
       "                    // var g =  new graphlib.Graph().setGraph({}).setDefaultEdgeLabel(function() { return {}; });\n",
       "\n",
       "                    // g.setNode(0,  { label: \"TOP\",       class: \"type-TOP\" });\n",
       "                    // g.setNode(1,  { label: \"S\",         class: \"type-S\" });\n",
       "                    // g.setNode(2,  { label: \"NP\",        class: \"type-NP\" });\n",
       "                    // g.setNode(3,  { label: \"DT\",        class: \"type-DT\" });\n",
       "                    // g.setNode(4,  { label: \"This\",      class: \"type-TK\" });\n",
       "                    // g.setNode(5,  { label: \"VP\",        class: \"type-VP\" });\n",
       "                    // g.setNode(6,  { label: \"VBZ\",       class: \"type-VBZ\" });\n",
       "                    // g.setNode(7,  { label: \"is\",        class: \"type-TK\" });\n",
       "                    // g.setNode(8,  { label: \"NP\",        class: \"type-NP\" });\n",
       "                    // g.setNode(9,  { label: \"DT\",        class: \"type-DT\" });\n",
       "                    // g.setNode(10, { label: \"an\",        class: \"type-TK\" });\n",
       "                    // g.setNode(11, { label: \"NN\",        class: \"type-NN\" });\n",
       "                    // g.setNode(12, { label: \"example\",   class: \"type-TK\" });\n",
       "                    // g.setNode(13, { label: \".\",         class: \"type-.\" });\n",
       "                    // g.setNode(14, { label: \"sentence\",  class: \"type-TK\" });\n",
       "\n",
       "                    // // Set up edges, no special attributes.\n",
       "                    // g.setEdge(3, 4);\n",
       "                    // g.setEdge(2, 3);\n",
       "                    // g.setEdge(1, 2);\n",
       "                    // g.setEdge(6, 7);\n",
       "                    // g.setEdge(5, 6);\n",
       "                    // g.setEdge(9, 10);\n",
       "                    // g.setEdge(8, 9);\n",
       "                    // g.setEdge(11,12);\n",
       "                    // g.setEdge(8, 11);\n",
       "                    // g.setEdge(5, 8);\n",
       "                    // g.setEdge(1, 5);\n",
       "                    // g.setEdge(13,14);\n",
       "                    // g.setEdge(1, 13);\n",
       "                    // g.setEdge(0, 1);\n",
       "\n",
       "\n",
       "                    // // Create the renderer\n",
       "                    // var render = new dagreD3.render();\n",
       "\n",
       "                    // // Set up an SVG group so that we can translate the final graph.\n",
       "                    // var svg = d3.select(\"svg\"),\n",
       "                    //     svgGroup = svg.append(\"g\");\n",
       "\n",
       "                    // // Run the renderer. This is what draws the final graph.\n",
       "                    // render(d3.select(\"svg g\"), g);\n",
       "\n",
       "                    // // Center the graph\n",
       "                    // var xCenterOffset = (svg.attr(\"width\") - g.graph().width) / 2;\n",
       "                    // svgGroup.attr(\"transform\", \"translate(\" + xCenterOffset + \", 20)\");\n",
       "                    // svg.attr(\"height\", g.graph().height + 40);\n",
       "                });\n",
       "            </script>\n"
      ],
      "text/plain": [
       "#<ActionDispatch::Routing::RouteSet:0x007fac61150af8>"
      ]
     },
     "execution_count": 2,
     "metadata": {},
     "output_type": "execute_result"
    }
   ],
   "source": [
    "Rails.application.routes"
   ]
  },
  {
   "cell_type": "code",
   "execution_count": null,
   "metadata": {
    "collapsed": false
   },
   "outputs": [],
   "source": [
    "\"abc\" == \"abc\""
   ]
  }
 ],
 "metadata": {
  "kernelspec": {
   "display_name": "Rails TestApp::Application",
   "language": "ruby",
   "name": "rails_notebook"
  },
  "language_info": {
   "file_extension": ".rb",
   "mimetype": "application/x-ruby",
   "name": "ruby",
   "version": "2.2.1"
  }
 },
 "nbformat": 4,
 "nbformat_minor": 0
}
