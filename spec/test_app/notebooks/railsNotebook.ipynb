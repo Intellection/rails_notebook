{
 "cells": [
  {
   "cell_type": "code",
   "execution_count": 1,
   "metadata": {
    "collapsed": false
   },
   "outputs": [
    {
     "data": {
      "text/html": [
       "            <div id=\"hash-70199316912500\"></div>\n",
       "            <script>\n",
       "                require([\"jquery\", \"/kernelspecs/rails_notebook/jquery.jsonview.js\"], function($, jsonview) {\n",
       "                    $(\"#hash-70199316912500\").JSONView( {\"two\":2,\"three\":3,\"five\":\"five\"} );\n",
       "                });\n",
       "            </script>\n"
      ],
      "text/plain": [
       "{\"two\"=>2, \"three\"=>3, \"five\"=>\"five\"}"
      ]
     },
     "execution_count": 1,
     "metadata": {},
     "output_type": "execute_result"
    }
   ],
   "source": [
    "# Printing a hash\n",
    "json = { \"two\" => 2 , \"three\" => 3 , \"five\" => \"five\" }"
   ]
  },
  {
   "cell_type": "code",
   "execution_count": 2,
   "metadata": {
    "collapsed": false
   },
   "outputs": [
    {
     "data": {
      "text/plain": [
       "[2, 3, 4, 5, 6, nil]"
      ]
     },
     "execution_count": 2,
     "metadata": {},
     "output_type": "execute_result"
    }
   ],
   "source": [
    "# Printing an array\n",
    "nick = [ 2, 3, 4, 5, 6 , nil ]"
   ]
  },
  {
   "cell_type": "code",
   "execution_count": 3,
   "metadata": {
    "collapsed": false
   },
   "outputs": [
    {
     "data": {
      "text/plain": [
       "\"{\\\"cust_id\\\":\\\"1\\\",\\\"cust_name\\\":\\\"John\\\",\\\"cust_addr\\\":\\\"Wisdom Apartments, Ludhiya\\\"}\""
      ]
     },
     "execution_count": 3,
     "metadata": {},
     "output_type": "execute_result"
    }
   ],
   "source": [
    "class Customer\n",
    "   @@no_of_customers=0\n",
    "   def initialize(id, name, addr)\n",
    "      @cust_id=id\n",
    "      @cust_name=name\n",
    "      @cust_addr=addr\n",
    "   end\n",
    "end\n",
    "\n",
    "cust1=Customer.new(\"1\", \"John\", \"Wisdom Apartments, Ludhiya\")\n",
    "cust2=Customer.new(\"2\", \"Poul\", \"New Empire road, Khandala\")\n",
    "cust1.to_json"
   ]
  },
  {
   "cell_type": "code",
   "execution_count": 1,
   "metadata": {
    "collapsed": false
   },
   "outputs": [
    {
     "data": {
      "text/html": [
       "            <svg width=960 height=600><g/></svg>\n",
       "            <!--<script src=\"/kernelspecs/rails_notebook/renderRoutes.js\"></script>-->\n",
       "            <script>\n",
       "            require([\"jquery\", \"/kernelspecs/rails_notebook/dagre-d3.js\", \"/kernelspecs/rails_notebook/d3.js\"], function ($, dagreD3 , d3 ) {\n",
       "            routeTree = {\"headNode\":{\"uriPattern\":\"/\",\"verbs\":[\"GET\"],\"controller\":\"Default\",\"actions\":[\"index\"],\"countChildrenNodes\":19,\"childrenNodes\":[{\"uriPattern\":\"/\",\"verbs\":[],\"controller\":null,\"actions\":[],\"countChildrenNodes\":18,\"childrenNodes\":[{\"uriPattern\":\"/welcome/\",\"verbs\":[],\"controller\":null,\"actions\":[],\"countChildrenNodes\":1,\"childrenNodes\":[{\"uriPattern\":\"/welcome/index/\",\"verbs\":[\"GET\"],\"controller\":\"welcome_index\",\"actions\":[\"index\"],\"countChildrenNodes\":0,\"childrenNodes\":[]}]},{\"uriPattern\":\"/articles/\",\"verbs\":[\"GET\",\"POST\"],\"controller\":\"\",\"actions\":[\"index\",\"create\"],\"countChildrenNodes\":8,\"childrenNodes\":[{\"uriPattern\":\"/articles/:article_id/\",\"verbs\":[],\"controller\":null,\"actions\":[],\"countChildrenNodes\":4,\"childrenNodes\":[{\"uriPattern\":\"/articles/:article_id/comments/\",\"verbs\":[\"GET\",\"POST\"],\"controller\":\"\",\"actions\":[\"index\",\"create\"],\"countChildrenNodes\":3,\"childrenNodes\":[{\"uriPattern\":\"/articles/:article_id/comments/new/\",\"verbs\":[\"GET\"],\"controller\":\"new_article_comment\",\"actions\":[\"new\"],\"countChildrenNodes\":0,\"childrenNodes\":[]},{\"uriPattern\":\"/articles/:article_id/comments/:id/\",\"verbs\":[\"GET\",\"PATCH\",\"PUT\",\"DELETE\"],\"controller\":\"\",\"actions\":[\"show\",\"update\",\"update\",\"destroy\"],\"countChildrenNodes\":1,\"childrenNodes\":[{\"uriPattern\":\"/articles/:article_id/comments/:id/edit/\",\"verbs\":[\"GET\"],\"controller\":\"edit_article_comment\",\"actions\":[\"edit\"],\"countChildrenNodes\":0,\"childrenNodes\":[]}]}]}]},{\"uriPattern\":\"/articles/new/\",\"verbs\":[\"GET\"],\"controller\":\"new_article\",\"actions\":[\"new\"],\"countChildrenNodes\":0,\"childrenNodes\":[]},{\"uriPattern\":\"/articles/:id/\",\"verbs\":[\"GET\",\"PATCH\",\"PUT\",\"DELETE\"],\"controller\":\"\",\"actions\":[\"show\",\"update\",\"update\",\"destroy\"],\"countChildrenNodes\":1,\"childrenNodes\":[{\"uriPattern\":\"/articles/:id/edit/\",\"verbs\":[\"GET\"],\"controller\":\"edit_article\",\"actions\":[\"edit\"],\"countChildrenNodes\":0,\"childrenNodes\":[]}]}]},{\"uriPattern\":\"/rails_notebook/\",\"verbs\":[\"\"],\"controller\":\"rails_notebook\",\"actions\":[\"\"],\"countChildrenNodes\":0,\"childrenNodes\":[]},{\"uriPattern\":\"/rails/\",\"verbs\":[],\"controller\":null,\"actions\":[],\"countChildrenNodes\":5,\"childrenNodes\":[{\"uriPattern\":\"/rails/info/\",\"verbs\":[\"GET\"],\"controller\":\"rails_info\",\"actions\":[\"index\"],\"countChildrenNodes\":2,\"childrenNodes\":[{\"uriPattern\":\"/rails/info/properties/\",\"verbs\":[\"GET\"],\"controller\":\"rails_info_properties\",\"actions\":[\"properties\"],\"countChildrenNodes\":0,\"childrenNodes\":[]},{\"uriPattern\":\"/rails/info/routes/\",\"verbs\":[\"GET\"],\"controller\":\"rails_info_routes\",\"actions\":[\"routes\"],\"countChildrenNodes\":0,\"childrenNodes\":[]}]},{\"uriPattern\":\"/rails/mailers/\",\"verbs\":[\"GET\"],\"controller\":\"rails_mailers\",\"actions\":[\"index\"],\"countChildrenNodes\":1,\"childrenNodes\":[{\"uriPattern\":\"/rails/mailers/*path/\",\"verbs\":[\"GET\"],\"controller\":\"\",\"actions\":[\"preview\"],\"countChildrenNodes\":0,\"childrenNodes\":[]}]}]}]}]}};\n",
       "            console.log( routeTree )\n",
       "            // Create the input graph\n",
       "            var g = new dagreD3.graphlib.Graph()\n",
       "              .setGraph({})\n",
       "              .setDefaultEdgeLabel(function() { return {}; });\n",
       "\n",
       "            // Here we\"re setting nodeclass, which is used by our custom drawNodes function\n",
       "            // below.\n",
       "            var buildOutput = function myself( g, thisNode, nodeNumber, i ){\n",
       "                console.log( thisNode );\n",
       "\n",
       "                for ( c in thisNode.childrenNodes ){\n",
       "                    child = thisNode.childrenNodes[c];\n",
       "                    child.nodeNumber = nodeNumber + i;\n",
       "                    g.setNode( child.nodeNumber , {label:thisNode.uriPattern , class:\"type-TK\" } );\n",
       "                    g.setEdge( nodeNumber , child.nodeNumber );\n",
       "                    i++;\n",
       "                }\n",
       "                for ( c in thisNode.childrenNodes ){\n",
       "                    child = thisNode.childrenNodes[c];\n",
       "                    i = myself( g , child, child.nodeNumber,  i);\n",
       "                }\n",
       "                return i;\n",
       "                // countChildren = 0;\n",
       "                // var i = 1;\n",
       "                // for ( c in thisNode.childrenNodes ){\n",
       "                //     child = thisNode.childrenNodes[c]\n",
       "                //     myself( g, child, nodeNumber + countChildren + i, nodeNumber );\n",
       "                //     countChildren += child.countChildrenNodes;\n",
       "                //     i += 1;\n",
       "                // }\n",
       "            }\n",
       "            \n",
       "            thisNode = routeTree.headNode.childrenNodes[0];\n",
       "            buildOutput( g , thisNode, 0 , 0 )\n",
       "\n",
       "            // g.setNode(0,  { label: \"TOP\",       class: \"type-TOP\" });\n",
       "            // g.setNode(1,  { label: \"S\",         class: \"type-S\" });\n",
       "            // g.setNode(2,  { label: \"NP\",        class: \"type-NP\" });\n",
       "            // g.setNode(3,  { label: \"DT\",        class: \"type-DT\" });\n",
       "            // g.setNode(4,  { label: \"This\",      class: \"type-TK\" });\n",
       "            // g.setNode(5,  { label: \"VP\",        class: \"type-VP\" });\n",
       "            // g.setNode(6,  { label: \"VBZ\",       class: \"type-VBZ\" });\n",
       "            // g.setNode(7,  { label: \"is\",        class: \"type-TK\" });\n",
       "            // g.setNode(8,  { label: \"NP\",        class: \"type-NP\" });\n",
       "            // g.setNode(9,  { label: \"DT\",        class: \"type-DT\" });\n",
       "            // g.setNode(10, { label: \"an\",        class: \"type-TK\" });\n",
       "            // g.setNode(11, { label: \"NN\",        class: \"type-NN\" });\n",
       "            // g.setNode(12, { label: \"example\",   class: \"type-TK\" });\n",
       "            // g.setNode(13, { label: \".\",         class: \"type-.\" });\n",
       "            // g.setNode(14, { label: \"sentence\",  class: \"type-TK\" });\n",
       "\n",
       "            g.nodes().forEach(function(v) {\n",
       "              var node = g.node(v);\n",
       "              // Round the corners of the nodes\n",
       "              node.rx = node.ry = 5;\n",
       "            });\n",
       "\n",
       "            // Set up edges, no special attributes.\n",
       "            // g.setEdge(3, 4);\n",
       "            // g.setEdge(2, 3);\n",
       "            // g.setEdge(1, 2);\n",
       "            // g.setEdge(6, 7);\n",
       "            // g.setEdge(5, 6);\n",
       "            // g.setEdge(9, 10);\n",
       "            // g.setEdge(8, 9);\n",
       "            // g.setEdge(11,12);\n",
       "            // g.setEdge(8, 11);\n",
       "            // g.setEdge(5, 8);\n",
       "            // g.setEdge(1, 5);\n",
       "            // g.setEdge(13,14);\n",
       "            // g.setEdge(1, 13);\n",
       "            // g.setEdge(0, 1)\n",
       "\n",
       "            // Create the renderer\n",
       "            var render = new dagreD3.render();\n",
       "\n",
       "            // Set up an SVG group so that we can translate the final graph.\n",
       "            var svg = d3.select(\"svg\"),\n",
       "                svgGroup = svg.append(\"g\");\n",
       "\n",
       "            // Run the renderer. This is what draws the final graph.\n",
       "            render(d3.select(\"svg g\"), g);\n",
       "\n",
       "            // Center the graph\n",
       "            var xCenterOffset = (svg.attr(\"width\") - g.graph().width) / 2;\n",
       "            svgGroup.attr(\"transform\", \"translate(\" + xCenterOffset + \", 20)\");\n",
       "            svg.attr(\"height\", g.graph().height + 40);\n",
       "\n",
       "\n",
       "            });\n",
       "\n",
       "            </script>\n"
      ],
      "text/plain": [
       "#<ActionDispatch::Routing::RouteSet:0x007f8afe814b98>"
      ]
     },
     "execution_count": 1,
     "metadata": {},
     "output_type": "execute_result"
    }
   ],
   "source": [
    "Rails.application.routes"
   ]
  },
  {
   "cell_type": "code",
   "execution_count": null,
   "metadata": {
    "collapsed": false
   },
   "outputs": [],
   "source": [
    "\"abc\" == \"abc\""
   ]
  }
 ],
 "metadata": {
  "kernelspec": {
   "display_name": "Rails TestApp::Application",
   "language": "ruby",
   "name": "rails_notebook"
  },
  "language_info": {
   "file_extension": ".rb",
   "mimetype": "application/x-ruby",
   "name": "ruby",
   "version": "2.2.1"
  }
 },
 "nbformat": 4,
 "nbformat_minor": 0
}
