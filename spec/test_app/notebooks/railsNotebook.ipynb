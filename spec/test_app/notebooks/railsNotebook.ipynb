{
 "cells": [
  {
   "cell_type": "code",
   "execution_count": 1,
   "metadata": {
    "collapsed": false
   },
   "outputs": [
    {
     "data": {
      "text/html": [
       "            <div id=\"hash-70199316912500\"></div>\n",
       "            <script>\n",
       "                require([\"jquery\", \"/kernelspecs/rails_notebook/jquery.jsonview.js\"], function($, jsonview) {\n",
       "                    $(\"#hash-70199316912500\").JSONView( {\"two\":2,\"three\":3,\"five\":\"five\"} );\n",
       "                });\n",
       "            </script>\n"
      ],
      "text/plain": [
       "{\"two\"=>2, \"three\"=>3, \"five\"=>\"five\"}"
      ]
     },
     "execution_count": 1,
     "metadata": {},
     "output_type": "execute_result"
    }
   ],
   "source": [
    "# Printing a hash\n",
    "json = { \"two\" => 2 , \"three\" => 3 , \"five\" => \"five\" }"
   ]
  },
  {
   "cell_type": "code",
   "execution_count": 2,
   "metadata": {
    "collapsed": false
   },
   "outputs": [
    {
     "data": {
      "text/plain": [
       "[2, 3, 4, 5, 6, nil]"
      ]
     },
     "execution_count": 2,
     "metadata": {},
     "output_type": "execute_result"
    }
   ],
   "source": [
    "# Printing an array\n",
    "nick = [ 2, 3, 4, 5, 6 , nil ]"
   ]
  },
  {
   "cell_type": "code",
   "execution_count": 3,
   "metadata": {
    "collapsed": false
   },
   "outputs": [
    {
     "data": {
      "text/plain": [
       "\"{\\\"cust_id\\\":\\\"1\\\",\\\"cust_name\\\":\\\"John\\\",\\\"cust_addr\\\":\\\"Wisdom Apartments, Ludhiya\\\"}\""
      ]
     },
     "execution_count": 3,
     "metadata": {},
     "output_type": "execute_result"
    }
   ],
   "source": [
    "class Customer\n",
    "   @@no_of_customers=0\n",
    "   def initialize(id, name, addr)\n",
    "      @cust_id=id\n",
    "      @cust_name=name\n",
    "      @cust_addr=addr\n",
    "   end\n",
    "end\n",
    "\n",
    "cust1=Customer.new(\"1\", \"John\", \"Wisdom Apartments, Ludhiya\")\n",
    "cust2=Customer.new(\"2\", \"Poul\", \"New Empire road, Khandala\")\n",
    "cust1.to_json"
   ]
  },
  {
   "cell_type": "code",
   "execution_count": 2,
   "metadata": {
    "collapsed": false,
    "scrolled": true
   },
   "outputs": [
    {
     "name": "stdout",
     "output_type": "stream",
     "text": [
      "[\"schema_migration_id\", \"article_id\", \"comment_id\"]\n",
      "\n",
      "schema_migrations\n",
      "\n",
      "articles\n",
      "\n",
      "comments\n",
      "\n",
      "\n",
      "\n",
      "\n",
      "Foriegn keys table_name, column : [\"comments,article_id\"]\n",
      "\n",
      "\n",
      "\n",
      "\n",
      "Table Name = schema_migrations\n",
      "Columns = [\"- string    : version\"]\n",
      "Points to  = []\n",
      "\n",
      "Table Name = articles\n",
      "Columns = [\"- integer   : id\", \"- string    : title\", \"- text      : text\", \"- datetime  : created_at\", \"- datetime  : updated_at\"]\n",
      "Points to  = []\n",
      "\n",
      "Table Name = comments\n",
      "Columns = [\"- integer   : id\", \"- string    : commenter\", \"- text      : body\", \"* integer   : article_id\", \"- datetime  : created_at\", \"- datetime  : updated_at\"]\n",
      "Points to  = [\"articles\"]\n",
      "\n",
      "Entering Javascript!\n"
     ]
    },
    {
     "data": {
      "text/html": [
       "            <svg width=960 height=600><g/></svg>\n",
       "            <!--<script src=\"/kernelspecs/rails_notebook/renderSchema.js\"></script>-->\n",
       "            <script>\n",
       "            require([\"jquery\", \"/kernelspecs/rails_notebook/dagre-d3.js\", \"/kernelspecs/rails_notebook/d3.js\"], \n",
       "                    function ( $ , dagreD3 , d3 ) {\n",
       "                var tablesVar = [{\"table_name\":\"schema_migrations\",\"columns\":[\"- string    : version\"],\"arrowsTo\":[]},{\"table_name\":\"articles\",\"columns\":[\"- integer   : id\",\"- string    : title\",\"- text      : text\",\"- datetime  : created_at\",\"- datetime  : updated_at\"],\"arrowsTo\":[]},{\"table_name\":\"comments\",\"columns\":[\"- integer   : id\",\"- string    : commenter\",\"- text      : body\",\"* integer   : article_id\",\"- datetime  : created_at\",\"- datetime  : updated_at\"],\"arrowsTo\":[\"articles\"]}];\n",
       "                console.log(\"Processed requires successfully!\")\n",
       "                console.log(tablesVar[0].table_name)\n",
       "\n",
       "                // Lets start by creating something simple and add lables to them\n",
       "                var g = new dagreD3.graphlib.Graph().setGraph({});\n",
       "\n",
       "                //Create rectangles for each of the tables\n",
       "                var tablesVarLangth = tablesVar.length;\n",
       "                console.log(tablesVarLangth)\n",
       "                for (var i=tablesVarLangth-1; i >= 0; i--)\n",
       "                {\n",
       "                    var buildHtmlOutput = \"<div style = 'text-align: left;'><span style='font-size:32px;color:#00BFFF'><u>\" + tablesVar[i].table_name + \"</u></span><br>\";\n",
       "                    tablesVar[i].columns.forEach(function(column_name){\n",
       "                        buildHtmlOutput = buildHtmlOutput + \"<br>\" + \"<span style='font-size:24px;color:black'>\" + column_name + \"</span>\";\n",
       "                    });\n",
       "                    buildHtmlOutput += \"</div>\";\n",
       "                    g.setNode(tablesVar[i].table_name, { shape: \"rect\", labelType: \"html\", label: buildHtmlOutput});\n",
       "                } // End of loop i, but not end of scope for i\n",
       "\n",
       "                // Now we want to populate the rectangles with column information\n",
       "                // TODO\n",
       "\n",
       "                // Now we want to make the arrows from the arrowsTo array\n",
       "                for (var i=0; i < tablesVarLangth; i++)\n",
       "                {\n",
       "                    if (tablesVar[i].arrowsTo.length != 0)\n",
       "                    {\n",
       "                        console.log(tablesVar[i].arrowsTo)\n",
       "                        tablesVar[i].arrowsTo.forEach(function(arrow) {\n",
       "                            g.setEdge(tablesVar[i].table_name, tablesVar[i].arrowsTo[0], {\n",
       "                                arrowhead: \"normal\",\n",
       "                                label: \"belongs to\"\n",
       "                          });\n",
       "                        });// For each arrow in table\n",
       "                    } // If there are arrows\n",
       "                } // End of loop i, but not end of scope for i\n",
       "                \n",
       "\n",
       "                var svg = d3.select(\"svg\"),\n",
       "                    inner = svg.select(\"g\");\n",
       "\n",
       "                // Set up zoom support\n",
       "                var zoom = d3.behavior.zoom().on(\"zoom\", function() {\n",
       "                      inner.attr(\"transform\", \"translate(\" + d3.event.translate + \")\" +\n",
       "                                                  \"scale(\" + d3.event.scale + \")\");\n",
       "                    });\n",
       "                svg.call(zoom);\n",
       "\n",
       "                // Create the renderer\n",
       "                var render = new dagreD3.render();\n",
       "\n",
       "                // Run the renderer. This is what draws the final graph.\n",
       "                render(inner, g);\n",
       "\n",
       "                // Center the graph\n",
       "                var initialScale = 1.5;\n",
       "                zoom\n",
       "                  .translate([(svg.attr(\"width\") - g.graph().width * initialScale) / 2, 20])\n",
       "                  .scale(initialScale)\n",
       "                  .event(svg);\n",
       "                svg.attr('height', g.graph().height * initialScale + 40);\n",
       "\n",
       "            });   \n",
       "            </script>\n"
      ],
      "text/plain": [
       "[\"schema_migrations\", \"articles\", \"comments\"]"
      ]
     },
     "execution_count": 2,
     "metadata": {},
     "output_type": "execute_result"
    }
   ],
   "source": [
    "ActiveRecord::Base.connection.tables"
   ]
  }
 ],
 "metadata": {
  "kernelspec": {
   "display_name": "Rails TestApp::Application",
   "language": "ruby",
   "name": "rails_notebook"
  },
  "language_info": {
   "file_extension": ".rb",
   "mimetype": "application/x-ruby",
   "name": "ruby",
   "version": "2.2.1"
  }
 },
 "nbformat": 4,
 "nbformat_minor": 0
}
