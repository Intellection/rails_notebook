{
 "cells": [
  {
   "cell_type": "code",
   "execution_count": 1,
   "metadata": {
    "collapsed": false
   },
   "outputs": [
    {
     "data": {
      "text/html": [
       "            <div class=flamechart id=\"70289967061140\" width=\"960\" height=\"600\"></div>\n",
       "            <script>\n",
       "                require([\"/kernelspecs/rails_notebook/rails_notebook.js\"], function ( railsNB ) {\n",
       "                    railsNB.renderFlamechart( {\"data\":[{\"x\":1,\"y\":1,\"width\":1401,\"frame\":\"/Users/Tsu/.rvm/gems/ruby-2.2.1/gems/iruby-0.2.8/lib/iruby/backend.rb::in `\\u003cmain\\u003e'\"},{\"x\":1,\"y\":2,\"width\":1401,\"frame\":\"/Users/Tsu/.rvm/gems/ruby-2.2.1/gems/iruby-0.2.8/lib/iruby/backend.rb:25:in `block in \\u003cmain\\u003e'\"},{\"x\":1,\"y\":3,\"width\":1401,\"frame\":\"/Users/Tsu/.rvm/gems/ruby-2.2.1/gems/iruby-0.2.8/lib/iruby/backend.rb:14:in `Object#both'\"},{\"x\":1,\"y\":4,\"width\":364,\"frame\":\"/Users/Tsu/.rvm/gems/ruby-2.2.1/gems/iruby-0.2.8/lib/iruby/backend.rb:15:in `block in Object#both'\"},{\"x\":365,\"y\":4,\"width\":115,\"frame\":\"/Users/Tsu/.rvm/gems/ruby-2.2.1/gems/iruby-0.2.8/lib/iruby/backend.rb::in `Object#fast_method'\"},{\"x\":365,\"y\":5,\"width\":115,\"frame\":\"/Users/Tsu/.rvm/gems/ruby-2.2.1/gems/iruby-0.2.8/lib/iruby/backend.rb:1:in `block in Object#fast_method'\"},{\"x\":480,\"y\":4,\"width\":601,\"frame\":\"/Users/Tsu/.rvm/gems/ruby-2.2.1/gems/iruby-0.2.8/lib/iruby/backend.rb:6:in `Object#slow_method'\"},{\"x\":480,\"y\":5,\"width\":150,\"frame\":\"/Users/Tsu/.rvm/gems/ruby-2.2.1/gems/iruby-0.2.8/lib/iruby/backend.rb::in `Object#fast_method'\"},{\"x\":481,\"y\":6,\"width\":149,\"frame\":\"/Users/Tsu/.rvm/gems/ruby-2.2.1/gems/iruby-0.2.8/lib/iruby/backend.rb:1:in `block in Object#fast_method'\"},{\"x\":630,\"y\":5,\"width\":330,\"frame\":\"/Users/Tsu/.rvm/gems/ruby-2.2.1/gems/iruby-0.2.8/lib/iruby/backend.rb:8:in `block in Object#slow_method'\"},{\"x\":960,\"y\":5,\"width\":121,\"frame\":\"/Users/Tsu/.rvm/gems/ruby-2.2.1/gems/iruby-0.2.8/lib/iruby/backend.rb::in `Object#fast_method'\"},{\"x\":960,\"y\":6,\"width\":121,\"frame\":\"/Users/Tsu/.rvm/gems/ruby-2.2.1/gems/iruby-0.2.8/lib/iruby/backend.rb:1:in `block in Object#fast_method'\"},{\"x\":1082,\"y\":4,\"width\":320,\"frame\":\"/Users/Tsu/.rvm/gems/ruby-2.2.1/gems/iruby-0.2.8/lib/iruby/backend.rb:20:in `block in Object#both'\"}],\"sampleTime\":0.05}, document.getElementById(70289967061140 ));\n",
       "                });\n",
       "            </script>\n"
      ],
      "text/plain": [
       "#<Profiler::Profile:0x007fdb51093128 @data=[{:x=>1, :y=>1, :width=>1401, :frame=>\"/Users/Tsu/.rvm/gems/ruby-2.2.1/gems/iruby-0.2.8/lib/iruby/backend.rb::in `<main>'\"}, {:x=>1, :y=>2, :width=>1401, :frame=>\"/Users/Tsu/.rvm/gems/ruby-2.2.1/gems/iruby-0.2.8/lib/iruby/backend.rb:25:in `block in <main>'\"}, {:x=>1, :y=>3, :width=>1401, :frame=>\"/Users/Tsu/.rvm/gems/ruby-2.2.1/gems/iruby-0.2.8/lib/iruby/backend.rb:14:in `Object#both'\"}, {:x=>1, :y=>4, :width=>364, :frame=>\"/Users/Tsu/.rvm/gems/ruby-2.2.1/gems/iruby-0.2.8/lib/iruby/backend.rb:15:in `block in Object#both'\"}, {:x=>365, :y=>4, :width=>115, :frame=>\"/Users/Tsu/.rvm/gems/ruby-2.2.1/gems/iruby-0.2.8/lib/iruby/backend.rb::in `Object#fast_method'\"}, {:x=>365, :y=>5, :width=>115, :frame=>\"/Users/Tsu/.rvm/gems/ruby-2.2.1/gems/iruby-0.2.8/lib/iruby/backend.rb:1:in `block in Object#fast_method'\"}, {:x=>480, :y=>4, :width=>601, :frame=>\"/Users/Tsu/.rvm/gems/ruby-2.2.1/gems/iruby-0.2.8/lib/iruby/backend.rb:6:in `Object#slow_method'\"}, {:x=>480, :y=>5, :width=>150, :frame=>\"/Users/Tsu/.rvm/gems/ruby-2.2.1/gems/iruby-0.2.8/lib/iruby/backend.rb::in `Object#fast_method'\"}, {:x=>481, :y=>6, :width=>149, :frame=>\"/Users/Tsu/.rvm/gems/ruby-2.2.1/gems/iruby-0.2.8/lib/iruby/backend.rb:1:in `block in Object#fast_method'\"}, {:x=>630, :y=>5, :width=>330, :frame=>\"/Users/Tsu/.rvm/gems/ruby-2.2.1/gems/iruby-0.2.8/lib/iruby/backend.rb:8:in `block in Object#slow_method'\"}, {:x=>960, :y=>5, :width=>121, :frame=>\"/Users/Tsu/.rvm/gems/ruby-2.2.1/gems/iruby-0.2.8/lib/iruby/backend.rb::in `Object#fast_method'\"}, {:x=>960, :y=>6, :width=>121, :frame=>\"/Users/Tsu/.rvm/gems/ruby-2.2.1/gems/iruby-0.2.8/lib/iruby/backend.rb:1:in `block in Object#fast_method'\"}, {:x=>1082, :y=>4, :width=>320, :frame=>\"/Users/Tsu/.rvm/gems/ruby-2.2.1/gems/iruby-0.2.8/lib/iruby/backend.rb:20:in `block in Object#both'\"}], @sampleTime=0.05>"
      ]
     },
     "execution_count": 1,
     "metadata": {},
     "output_type": "execute_result"
    }
   ],
   "source": [
    "def fast_method\n",
    "  for i in 0..100000\n",
    "    9999999999999999+9999999999999\n",
    "  end\n",
    "end\n",
    "\n",
    "def slow_method\n",
    "  fast_method\n",
    "  for i in 0..100000\n",
    "    9999999999999999*999999999\n",
    "  end\n",
    "  fast_method\n",
    "end\n",
    "\n",
    "def both\n",
    "  for i in 0..100000\n",
    "    9999999999999999*999999999\n",
    "  end\n",
    "  fast_method\n",
    "  slow_method\n",
    "  for i in 0..100000\n",
    "    9999999999999999*999999999\n",
    "  end\n",
    "end\n",
    "\n",
    "Profiler::profile do \n",
    "  both\n",
    "end"
   ]
  },
  {
   "cell_type": "code",
   "execution_count": 2,
   "metadata": {
    "collapsed": false
   },
   "outputs": [
    {
     "data": {
      "text/html": [
       "            <svg id=\"routes-70289996834660\" width=960 height=600><g/></svg>\n",
       "            <script>\n",
       "                require([\"/kernelspecs/rails_notebook/rails_notebook.js\"], function ( railsNB ) {\n",
       "                    railsNB.renderRoutes( {\"headNode\":{\"uriPattern\":\"/\",\"verbs\":[],\"controller\":null,\"actions\":[],\"countChildrenNodes\":0,\"childrenNodes\":[{\"uriPattern\":\"/welcome/\",\"verbs\":[],\"controller\":null,\"actions\":[],\"countChildrenNodes\":0,\"childrenNodes\":[{\"uriPattern\":\"/welcome/index/\",\"verbs\":[\"GET\"],\"controller\":\"welcome_index\",\"actions\":[\"index\"],\"countChildrenNodes\":0,\"childrenNodes\":[],\"nodeUri\":\"index\"}],\"nodeUri\":\"welcome\"},{\"uriPattern\":\"/articles/\",\"verbs\":[\"GET\",\"POST\"],\"controller\":\"\",\"actions\":[\"index\",\"create\"],\"countChildrenNodes\":0,\"childrenNodes\":[{\"uriPattern\":\"/articles/:article_id/\",\"verbs\":[],\"controller\":null,\"actions\":[],\"countChildrenNodes\":0,\"childrenNodes\":[{\"uriPattern\":\"/articles/:article_id/comments/\",\"verbs\":[\"GET\",\"POST\"],\"controller\":\"\",\"actions\":[\"index\",\"create\"],\"countChildrenNodes\":0,\"childrenNodes\":[{\"uriPattern\":\"/articles/:article_id/comments/new/\",\"verbs\":[\"GET\"],\"controller\":\"new_article_comment\",\"actions\":[\"new\"],\"countChildrenNodes\":0,\"childrenNodes\":[],\"nodeUri\":\"new\"},{\"uriPattern\":\"/articles/:article_id/comments/:id/\",\"verbs\":[\"GET\",\"PATCH\",\"PUT\",\"DELETE\"],\"controller\":\"\",\"actions\":[\"show\",\"update\",\"update\",\"destroy\"],\"countChildrenNodes\":0,\"childrenNodes\":[{\"uriPattern\":\"/articles/:article_id/comments/:id/edit/\",\"verbs\":[\"GET\"],\"controller\":\"edit_article_comment\",\"actions\":[\"edit\"],\"countChildrenNodes\":0,\"childrenNodes\":[],\"nodeUri\":\"edit\"}],\"nodeUri\":\":id\"}],\"nodeUri\":\"comments\"}],\"nodeUri\":\":article_id\"},{\"uriPattern\":\"/articles/new/\",\"verbs\":[\"GET\"],\"controller\":\"new_article\",\"actions\":[\"new\"],\"countChildrenNodes\":0,\"childrenNodes\":[],\"nodeUri\":\"new\"},{\"uriPattern\":\"/articles/:id/\",\"verbs\":[\"GET\",\"PATCH\",\"PUT\",\"DELETE\"],\"controller\":\"\",\"actions\":[\"show\",\"update\",\"update\",\"destroy\"],\"countChildrenNodes\":0,\"childrenNodes\":[{\"uriPattern\":\"/articles/:id/edit/\",\"verbs\":[\"GET\"],\"controller\":\"edit_article\",\"actions\":[\"edit\"],\"countChildrenNodes\":0,\"childrenNodes\":[],\"nodeUri\":\"edit\"}],\"nodeUri\":\":id\"}],\"nodeUri\":\"articles\"},{\"uriPattern\":\"/customer/\",\"verbs\":[\"GET\",\"POST\"],\"controller\":\"\",\"actions\":[\"index\",\"create\"],\"countChildrenNodes\":0,\"childrenNodes\":[{\"uriPattern\":\"/customer/:customer_id/\",\"verbs\":[],\"controller\":null,\"actions\":[],\"countChildrenNodes\":0,\"childrenNodes\":[{\"uriPattern\":\"/customer/:customer_id/comments/\",\"verbs\":[\"GET\",\"POST\"],\"controller\":\"\",\"actions\":[\"index\",\"create\"],\"countChildrenNodes\":0,\"childrenNodes\":[{\"uriPattern\":\"/customer/:customer_id/comments/new/\",\"verbs\":[\"GET\"],\"controller\":\"new_customer_comment\",\"actions\":[\"new\"],\"countChildrenNodes\":0,\"childrenNodes\":[],\"nodeUri\":\"new\"},{\"uriPattern\":\"/customer/:customer_id/comments/:id/\",\"verbs\":[\"GET\",\"PATCH\",\"PUT\",\"DELETE\"],\"controller\":\"\",\"actions\":[\"show\",\"update\",\"update\",\"destroy\"],\"countChildrenNodes\":0,\"childrenNodes\":[{\"uriPattern\":\"/customer/:customer_id/comments/:id/edit/\",\"verbs\":[\"GET\"],\"controller\":\"edit_customer_comment\",\"actions\":[\"edit\"],\"countChildrenNodes\":0,\"childrenNodes\":[],\"nodeUri\":\"edit\"}],\"nodeUri\":\":id\"}],\"nodeUri\":\"comments\"},{\"uriPattern\":\"/customer/:customer_id/invoices/\",\"verbs\":[\"GET\",\"POST\"],\"controller\":\"\",\"actions\":[\"index\",\"create\"],\"countChildrenNodes\":0,\"childrenNodes\":[{\"uriPattern\":\"/customer/:customer_id/invoices/new/\",\"verbs\":[\"GET\"],\"controller\":\"new_customer_invoice\",\"actions\":[\"new\"],\"countChildrenNodes\":0,\"childrenNodes\":[],\"nodeUri\":\"new\"},{\"uriPattern\":\"/customer/:customer_id/invoices/:id/\",\"verbs\":[\"GET\",\"PATCH\",\"PUT\",\"DELETE\"],\"controller\":\"\",\"actions\":[\"show\",\"update\",\"update\",\"destroy\"],\"countChildrenNodes\":0,\"childrenNodes\":[{\"uriPattern\":\"/customer/:customer_id/invoices/:id/edit/\",\"verbs\":[\"GET\"],\"controller\":\"edit_customer_invoice\",\"actions\":[\"edit\"],\"countChildrenNodes\":0,\"childrenNodes\":[],\"nodeUri\":\"edit\"}],\"nodeUri\":\":id\"}],\"nodeUri\":\"invoices\"},{\"uriPattern\":\"/customer/:customer_id/orders/\",\"verbs\":[\"GET\",\"POST\"],\"controller\":\"\",\"actions\":[\"index\",\"create\"],\"countChildrenNodes\":0,\"childrenNodes\":[{\"uriPattern\":\"/customer/:customer_id/orders/new/\",\"verbs\":[\"GET\"],\"controller\":\"new_customer_order\",\"actions\":[\"new\"],\"countChildrenNodes\":0,\"childrenNodes\":[],\"nodeUri\":\"new\"},{\"uriPattern\":\"/customer/:customer_id/orders/:id/\",\"verbs\":[\"GET\",\"PATCH\",\"PUT\",\"DELETE\"],\"controller\":\"\",\"actions\":[\"show\",\"update\",\"update\",\"destroy\"],\"countChildrenNodes\":0,\"childrenNodes\":[{\"uriPattern\":\"/customer/:customer_id/orders/:id/edit/\",\"verbs\":[\"GET\"],\"controller\":\"edit_customer_order\",\"actions\":[\"edit\"],\"countChildrenNodes\":0,\"childrenNodes\":[],\"nodeUri\":\"edit\"}],\"nodeUri\":\":id\"}],\"nodeUri\":\"orders\"}],\"nodeUri\":\":customer_id\"},{\"uriPattern\":\"/customer/new/\",\"verbs\":[\"GET\"],\"controller\":\"new_customer\",\"actions\":[\"new\"],\"countChildrenNodes\":0,\"childrenNodes\":[],\"nodeUri\":\"new\"},{\"uriPattern\":\"/customer/:id/\",\"verbs\":[\"GET\",\"PATCH\",\"PUT\",\"DELETE\"],\"controller\":\"\",\"actions\":[\"show\",\"update\",\"update\",\"destroy\"],\"countChildrenNodes\":0,\"childrenNodes\":[{\"uriPattern\":\"/customer/:id/edit/\",\"verbs\":[\"GET\"],\"controller\":\"edit_customer\",\"actions\":[\"edit\"],\"countChildrenNodes\":0,\"childrenNodes\":[],\"nodeUri\":\"edit\"}],\"nodeUri\":\":id\"}],\"nodeUri\":\"customer\"},{\"uriPattern\":\"/rails_notebook/\",\"verbs\":[\"\"],\"controller\":\"rails_notebook\",\"actions\":[\"\"],\"countChildrenNodes\":0,\"childrenNodes\":[],\"nodeUri\":\"rails_notebook\"},{\"uriPattern\":\"/rails/\",\"verbs\":[],\"controller\":null,\"actions\":[],\"countChildrenNodes\":0,\"childrenNodes\":[{\"uriPattern\":\"/rails/info/\",\"verbs\":[\"GET\"],\"controller\":\"rails_info\",\"actions\":[\"index\"],\"countChildrenNodes\":0,\"childrenNodes\":[{\"uriPattern\":\"/rails/info/properties/\",\"verbs\":[\"GET\"],\"controller\":\"rails_info_properties\",\"actions\":[\"properties\"],\"countChildrenNodes\":0,\"childrenNodes\":[],\"nodeUri\":\"properties\"},{\"uriPattern\":\"/rails/info/routes/\",\"verbs\":[\"GET\"],\"controller\":\"rails_info_routes\",\"actions\":[\"routes\"],\"countChildrenNodes\":0,\"childrenNodes\":[],\"nodeUri\":\"routes\"}],\"nodeUri\":\"info\"},{\"uriPattern\":\"/rails/mailers/\",\"verbs\":[\"GET\"],\"controller\":\"rails_mailers\",\"actions\":[\"index\"],\"countChildrenNodes\":0,\"childrenNodes\":[{\"uriPattern\":\"/rails/mailers/*path/\",\"verbs\":[\"GET\"],\"controller\":\"\",\"actions\":[\"preview\"],\"countChildrenNodes\":0,\"childrenNodes\":[],\"nodeUri\":\"*path\"}],\"nodeUri\":\"mailers\"}],\"nodeUri\":\"rails\"}],\"nodeUri\":\"\"}} , document.getElementById( \"routes-70289996834660\" ) );\n",
       "                });\n",
       "            </script>\n"
      ],
      "text/plain": [
       "#<ActionDispatch::Routing::RouteSet:0x007fdb54a5f820>"
      ]
     },
     "execution_count": 2,
     "metadata": {},
     "output_type": "execute_result"
    }
   ],
   "source": [
    "Rails.application.routes"
   ]
  },
  {
   "cell_type": "code",
   "execution_count": 3,
   "metadata": {
    "collapsed": false
   },
   "outputs": [
    {
     "data": {
      "text/html": [
       "            <svg id=\"schema-70289981706280\" width=960 height=600><g/></svg>\n",
       "            <script>\n",
       "                require([\"/kernelspecs/rails_notebook/rails_notebook.js\"], function ( railsNB ) {\n",
       "                    railsNB.renderSchema( [{\"table_name\":\"schema_migrations\",\"columns\":[[\"- version\",\"string\"]],\"arrowsTo\":[]},{\"table_name\":\"articles\",\"columns\":[[\"- id\",\"integer\"],[\"- title\",\"string\"],[\"- text\",\"text\"],[\"- created_at\",\"datetime\"],[\"- updated_at\",\"datetime\"]],\"arrowsTo\":[]},{\"table_name\":\"comments\",\"columns\":[[\"- id\",\"integer\"],[\"- commenter\",\"string\"],[\"- body\",\"text\"],[\"* article_id\",\"integer\"],[\"* customer_id\",\"integer\"],[\"- created_at\",\"datetime\"],[\"- updated_at\",\"datetime\"]],\"arrowsTo\":[\"articles\",\"customers\"]},{\"table_name\":\"customers\",\"columns\":[[\"- id\",\"integer\"],[\"- name\",\"string\"],[\"- surname\",\"string\"],[\"- phoneNum\",\"string\"],[\"- address\",\"string\"],[\"- created_at\",\"datetime\"],[\"- updated_at\",\"datetime\"]],\"arrowsTo\":[]},{\"table_name\":\"orders\",\"columns\":[[\"- id\",\"integer\"],[\"- order_date\",\"datetime\"],[\"- status\",\"string\"],[\"* customer_id\",\"integer\"],[\"- created_at\",\"datetime\"],[\"- updated_at\",\"datetime\"]],\"arrowsTo\":[\"customers\"]},{\"table_name\":\"products\",\"columns\":[[\"- id\",\"integer\"],[\"- name\",\"string\"],[\"- quantity\",\"integer\"],[\"- discount\",\"integer\"],[\"* order_id\",\"integer\"],[\"- created_at\",\"datetime\"],[\"- updated_at\",\"datetime\"]],\"arrowsTo\":[\"orders\"]},{\"table_name\":\"invoices\",\"columns\":[[\"- id\",\"integer\"],[\"- description\",\"string\"],[\"- price\",\"string\"],[\"* order_id\",\"integer\"],[\"* customer_id\",\"integer\"],[\"- created_at\",\"datetime\"],[\"- updated_at\",\"datetime\"]],\"arrowsTo\":[\"orders\",\"customers\"]}] , document.getElementById( \"schema-70289981706280\" ) );\n",
       "                });\n",
       "            </script>\n"
      ],
      "text/plain": [
       "[\"schema_migrations\", \"articles\", \"comments\", \"customers\", \"orders\", \"products\", \"invoices\"]"
      ]
     },
     "execution_count": 3,
     "metadata": {},
     "output_type": "execute_result"
    }
   ],
   "source": [
    "ActiveRecord::Base.connection.tables"
   ]
  },
  {
   "cell_type": "code",
   "execution_count": 9,
   "metadata": {
    "collapsed": false
   },
   "outputs": [
    {
     "data": {
      "text/plain": [
       "#<Customer id: 2, name: \"Jeremy\", surname: \"Huang\", phoneNum: \"0292346612\", address: \"AddressDefault112\", created_at: \"2008-11-11 00:00:00\", updated_at: \"2008-11-11 00:00:00\">"
      ]
     },
     "execution_count": 9,
     "metadata": {},
     "output_type": "execute_result"
    }
   ],
   "source": [
    "Customer.find(2)"
   ]
  },
  {
   "cell_type": "code",
   "execution_count": 8,
   "metadata": {
    "collapsed": false
   },
   "outputs": [
    {
     "ename": "ActiveRecord::RecordNotUnique",
     "evalue": "SQLite3::ConstraintException: UNIQUE constraint failed: customers.id: INSERT INTO Customers (id,name,surname,phoneNum,address,created_at,updated_at) VALUES(15,'John','Smith','0182736353','defaultAddress1111','2008-11-11','2008-11-11')",
     "output_type": "error",
     "traceback": [
      "\u001b[31mActiveRecord::RecordNotUnique\u001b[0m: SQLite3::ConstraintException: UNIQUE constraint failed: customers.id: INSERT INTO Customers (id,name,surname,phoneNum,address,created_at,updated_at) VALUES(15,'John','Smith','0182736353','defaultAddress1111','2008-11-11','2008-11-11')",
      "\u001b[37m/Users/Tsu/.rvm/gems/ruby-2.2.1/gems/sqlite3-1.3.11/lib/sqlite3/statement.rb:108:in `step'\u001b[0m",
      "\u001b[37m/Users/Tsu/.rvm/gems/ruby-2.2.1/gems/sqlite3-1.3.11/lib/sqlite3/statement.rb:108:in `block in each'\u001b[0m",
      "\u001b[37m/Users/Tsu/.rvm/gems/ruby-2.2.1/gems/sqlite3-1.3.11/lib/sqlite3/statement.rb:107:in `loop'\u001b[0m",
      "\u001b[37m/Users/Tsu/.rvm/gems/ruby-2.2.1/gems/sqlite3-1.3.11/lib/sqlite3/statement.rb:107:in `each'\u001b[0m",
      "\u001b[37m/Users/Tsu/.rvm/gems/ruby-2.2.1/gems/sqlite3-1.3.11/lib/sqlite3/database.rb:149:in `map'\u001b[0m",
      "\u001b[37m/Users/Tsu/.rvm/gems/ruby-2.2.1/gems/sqlite3-1.3.11/lib/sqlite3/database.rb:149:in `block in execute'\u001b[0m",
      "\u001b[37m/Users/Tsu/.rvm/gems/ruby-2.2.1/gems/sqlite3-1.3.11/lib/sqlite3/database.rb:95:in `prepare'\u001b[0m",
      "\u001b[37m/Users/Tsu/.rvm/gems/ruby-2.2.1/gems/sqlite3-1.3.11/lib/sqlite3/database.rb:134:in `execute'\u001b[0m",
      "\u001b[37m/Users/Tsu/.rvm/gems/ruby-2.2.1/gems/activerecord-4.2.5/lib/active_record/connection_adapters/sqlite3_adapter.rb:329:in `block in execute'\u001b[0m",
      "\u001b[37m/Users/Tsu/.rvm/gems/ruby-2.2.1/gems/activerecord-4.2.5/lib/active_record/connection_adapters/abstract_adapter.rb:472:in `block in log'\u001b[0m",
      "\u001b[37m/Users/Tsu/.rvm/gems/ruby-2.2.1/gems/activesupport-4.2.5/lib/active_support/notifications/instrumenter.rb:20:in `instrument'\u001b[0m",
      "\u001b[37m/Users/Tsu/.rvm/gems/ruby-2.2.1/gems/activerecord-4.2.5/lib/active_record/connection_adapters/abstract_adapter.rb:466:in `log'\u001b[0m",
      "\u001b[37m/Users/Tsu/.rvm/gems/ruby-2.2.1/gems/activerecord-4.2.5/lib/active_record/connection_adapters/sqlite3_adapter.rb:329:in `execute'\u001b[0m",
      "\u001b[37m<main>:in `<main>'\u001b[0m",
      "\u001b[37m/Users/Tsu/.rvm/gems/ruby-2.2.1/gems/iruby-0.2.8/lib/iruby/backend.rb:44:in `eval'\u001b[0m",
      "\u001b[37m/Users/Tsu/.rvm/gems/ruby-2.2.1/gems/iruby-0.2.8/lib/iruby/backend.rb:44:in `eval'\u001b[0m",
      "\u001b[37m/Users/Tsu/.rvm/gems/ruby-2.2.1/gems/iruby-0.2.8/lib/iruby/backend.rb:12:in `eval'\u001b[0m",
      "\u001b[37m/Users/Tsu/.rvm/gems/ruby-2.2.1/gems/iruby-0.2.8/lib/iruby/kernel.rb:87:in `execute_request'\u001b[0m",
      "\u001b[37m/Users/Tsu/.rvm/gems/ruby-2.2.1/gems/iruby-0.2.8/lib/iruby/kernel.rb:47:in `dispatch'\u001b[0m",
      "\u001b[37m/Users/Tsu/.rvm/gems/ruby-2.2.1/gems/iruby-0.2.8/lib/iruby/kernel.rb:37:in `run'\u001b[0m",
      "\u001b[37m/Users/Tsu/Desktop/rails_notebook/lib/rails_notebook/command.rb:22:in `run_kernel'\u001b[0m",
      "\u001b[37m/Users/Tsu/Desktop/rails_notebook/lib/tasks/rails_notebook_tasks.rake:7:in `block in <top (required)>'\u001b[0m",
      "\u001b[37m/Users/Tsu/.rvm/rubies/ruby-2.2.1/lib/ruby/2.2.0/rake/task.rb:240:in `call'\u001b[0m",
      "\u001b[37m/Users/Tsu/.rvm/rubies/ruby-2.2.1/lib/ruby/2.2.0/rake/task.rb:240:in `block in execute'\u001b[0m",
      "\u001b[37m/Users/Tsu/.rvm/rubies/ruby-2.2.1/lib/ruby/2.2.0/rake/task.rb:235:in `each'\u001b[0m",
      "\u001b[37m/Users/Tsu/.rvm/rubies/ruby-2.2.1/lib/ruby/2.2.0/rake/task.rb:235:in `execute'\u001b[0m",
      "\u001b[37m/Users/Tsu/.rvm/rubies/ruby-2.2.1/lib/ruby/2.2.0/rake/task.rb:179:in `block in invoke_with_call_chain'\u001b[0m",
      "\u001b[37m/Users/Tsu/.rvm/rubies/ruby-2.2.1/lib/ruby/2.2.0/monitor.rb:211:in `mon_synchronize'\u001b[0m",
      "\u001b[37m/Users/Tsu/.rvm/rubies/ruby-2.2.1/lib/ruby/2.2.0/rake/task.rb:172:in `invoke_with_call_chain'\u001b[0m",
      "\u001b[37m/Users/Tsu/.rvm/rubies/ruby-2.2.1/lib/ruby/2.2.0/rake/task.rb:165:in `invoke'\u001b[0m",
      "\u001b[37m/Users/Tsu/.rvm/rubies/ruby-2.2.1/lib/ruby/2.2.0/rake/application.rb:150:in `invoke_task'\u001b[0m",
      "\u001b[37m/Users/Tsu/.rvm/rubies/ruby-2.2.1/lib/ruby/2.2.0/rake/application.rb:106:in `block (2 levels) in top_level'\u001b[0m",
      "\u001b[37m/Users/Tsu/.rvm/rubies/ruby-2.2.1/lib/ruby/2.2.0/rake/application.rb:106:in `each'\u001b[0m",
      "\u001b[37m/Users/Tsu/.rvm/rubies/ruby-2.2.1/lib/ruby/2.2.0/rake/application.rb:106:in `block in top_level'\u001b[0m",
      "\u001b[37m/Users/Tsu/.rvm/rubies/ruby-2.2.1/lib/ruby/2.2.0/rake/application.rb:115:in `run_with_threads'\u001b[0m",
      "\u001b[37m/Users/Tsu/.rvm/rubies/ruby-2.2.1/lib/ruby/2.2.0/rake/application.rb:100:in `top_level'\u001b[0m",
      "\u001b[37m/Users/Tsu/.rvm/rubies/ruby-2.2.1/lib/ruby/2.2.0/rake/application.rb:78:in `block in run'\u001b[0m",
      "\u001b[37m/Users/Tsu/.rvm/rubies/ruby-2.2.1/lib/ruby/2.2.0/rake/application.rb:176:in `standard_exception_handling'\u001b[0m",
      "\u001b[37m/Users/Tsu/.rvm/rubies/ruby-2.2.1/lib/ruby/2.2.0/rake/application.rb:75:in `run'\u001b[0m",
      "\u001b[37m/Users/Tsu/.rvm/rubies/ruby-2.2.1/lib/ruby/gems/2.2.0/gems/rake-10.4.2/bin/rake:33:in `<top (required)>'\u001b[0m",
      "\u001b[37m/Users/Tsu/.rvm/gems/ruby-2.2.1/bin/rake:23:in `load'\u001b[0m",
      "\u001b[37m/Users/Tsu/.rvm/gems/ruby-2.2.1/bin/rake:23:in `<main>'\u001b[0m",
      "\u001b[37m/Users/Tsu/.rvm/gems/ruby-2.2.1/bin/ruby_executable_hooks:15:in `eval'\u001b[0m",
      "\u001b[37m/Users/Tsu/.rvm/gems/ruby-2.2.1/bin/ruby_executable_hooks:15:in `<main>'\u001b[0m"
     ]
    }
   ],
   "source": [
    "ActiveRecord::Base.connection.execute(\"INSERT INTO Customers (id,name,surname,phoneNum,address,created_at,updated_at) VALUES(15,'John','Smith','0182736353','defaultAddress1111','2008-11-11','2008-11-11')\")"
   ]
  }
 ],
 "metadata": {
  "kernelspec": {
   "display_name": "Rails TestApp::Application",
   "language": "ruby",
   "name": "rails_notebook"
  },
  "language_info": {
   "file_extension": ".rb",
   "mimetype": "application/x-ruby",
   "name": "ruby",
   "version": "2.2.1"
  }
 },
 "nbformat": 4,
 "nbformat_minor": 0
}
